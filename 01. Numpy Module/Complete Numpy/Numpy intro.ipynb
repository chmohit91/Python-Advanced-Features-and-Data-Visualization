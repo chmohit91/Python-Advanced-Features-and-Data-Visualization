{
 "cells": [
  {
   "cell_type": "markdown",
   "id": "3cf72ae3",
   "metadata": {},
   "source": [
    "### Numpy - Numerical Python"
   ]
  },
  {
   "cell_type": "code",
   "execution_count": null,
   "id": "6394834d",
   "metadata": {},
   "outputs": [],
   "source": [
    "# Numpy is a library for python that helps us deal with arrays. It stands for Numerical Python. \n",
    "# Numpy base is C so it uses C datatypes behind the scenes though python datatypes are completely usable and no need to learn\n",
    "# C datatypes.\n",
    "\n",
    "# Arrays are a special datatype that we can use with large amounts of data. They have certain properties :\n",
    "\n",
    "#1. The data is stored in 'contiguous' blocks of memory. Numpy will check if sufficient contiguous block of memory is\n",
    "# available otherwise wont initialise the array.\n",
    "#2. The elements in the array must be homogenous i.e. of the same datatype. Since they are homogenous, some metadata for the\n",
    "# objects can now be stored in the arrays metadata\n",
    "#3. They are faster than Python lists to process\n",
    "#4. The elements along every axis must be of same length. \n",
    "#5. We can run arithmetic operations on array objects directly without running a for loop.\n",
    "#6. We can run matrix operations on arrays.\n"
   ]
  },
  {
   "cell_type": "code",
   "execution_count": null,
   "id": "1dc3fdf9",
   "metadata": {},
   "outputs": [],
   "source": [
    "# a = 10 # I dont need to tell the program that 10 is an integer and I dont need to allocate memory\n",
    "\n",
    "# # C\n",
    "\n",
    "# a = int32 # Assign the datatype that can be stored in variable along with assigning a fixed memory size. "
   ]
  },
  {
   "cell_type": "code",
   "execution_count": null,
   "id": "4f390302",
   "metadata": {},
   "outputs": [],
   "source": [
    "lst1 = [1,2,3,4]\n",
    "\n",
    "print(lst1)\n"
   ]
  },
  {
   "cell_type": "code",
   "execution_count": null,
   "id": "a8ed1c65",
   "metadata": {},
   "outputs": [],
   "source": [
    "import numpy as np\n",
    "\n",
    "array1 = np.array(lst1)\n",
    "\n",
    "print(array1)\n",
    "print(type(array1))\n",
    "print(array1.dtype)"
   ]
  },
  {
   "cell_type": "code",
   "execution_count": null,
   "id": "5e5e78a8",
   "metadata": {},
   "outputs": [],
   "source": [
    "lstmix = [1,'a',2+3j,False,10.2, (10,20),{1:2,3:4}]\n",
    "\n",
    "print(lstmix)"
   ]
  },
  {
   "cell_type": "code",
   "execution_count": null,
   "id": "91dd67d3",
   "metadata": {},
   "outputs": [],
   "source": [
    "arraymix = np.array(lstmix)\n",
    "\n",
    "print(arraymix)\n",
    "print(type(arraymix))\n",
    "print(arraymix.dtype)\n",
    "\n",
    "# For mixed datatypes - if array is not able to infer a suitable datatype it will convert it to object dtype. \n",
    "\n",
    "# Metadata of array - it will convert everything to object datatype. \n",
    "\n",
    "# Each object will have its metadata mentioning what dtype it actually is and it loses a little bit of its efficiency."
   ]
  },
  {
   "cell_type": "code",
   "execution_count": null,
   "id": "9bbcb28d",
   "metadata": {},
   "outputs": [],
   "source": [
    "lst1 = [[1,2,3,4],[10,20,30,40]]\n",
    "\n",
    "print(lst1)"
   ]
  },
  {
   "cell_type": "code",
   "execution_count": null,
   "id": "d8f98f2a",
   "metadata": {},
   "outputs": [],
   "source": [
    "array1 = np.array(lst1)\n",
    "\n",
    "print(array1)"
   ]
  },
  {
   "cell_type": "code",
   "execution_count": null,
   "id": "46d0a123",
   "metadata": {},
   "outputs": [],
   "source": [
    "lst1 = [[1,2,3,4],[10,20,30]]\n",
    "\n",
    "print(lst1)"
   ]
  },
  {
   "cell_type": "code",
   "execution_count": null,
   "id": "0a99d6d6",
   "metadata": {},
   "outputs": [],
   "source": [
    "array1 = np.array(lst1)\n",
    "\n",
    "print(array1)"
   ]
  },
  {
   "cell_type": "code",
   "execution_count": null,
   "id": "a5608b10",
   "metadata": {},
   "outputs": [],
   "source": [
    "lst1 = [list(range(1,11)),list(range(11,111,10))]\n",
    "\n",
    "print(lst1)"
   ]
  },
  {
   "cell_type": "code",
   "execution_count": null,
   "id": "4743a5ae",
   "metadata": {},
   "outputs": [],
   "source": [
    "array1 = np.array(lst1)\n",
    "\n",
    "print(array1)"
   ]
  },
  {
   "cell_type": "code",
   "execution_count": null,
   "id": "1ce2cd76",
   "metadata": {},
   "outputs": [],
   "source": [
    "revised_outer = []\n",
    "\n",
    "for size in range(len(lst1)):\n",
    "    inner_lst = []\n",
    "    for elem in range(len(lst1[size])):\n",
    "        inner_lst.append(lst1[size][elem]*5)\n",
    "    revised_outer.append(inner_lst)\n",
    "    \n",
    "print(revised_outer)\n",
    "        "
   ]
  },
  {
   "cell_type": "code",
   "execution_count": null,
   "id": "f5d57895",
   "metadata": {},
   "outputs": [],
   "source": [
    "array2 = array1*5\n",
    "\n",
    "print(array2)"
   ]
  },
  {
   "cell_type": "code",
   "execution_count": null,
   "id": "aba9f48e",
   "metadata": {},
   "outputs": [],
   "source": [
    "array3 = np.random.randint(1,100,12).reshape(3,4)\n",
    "array4 = np.random.randint(1,100,12).reshape(3,4)\n",
    "\n",
    "print('array3 \\n', array3)\n",
    "print('array4 \\n',array4)"
   ]
  },
  {
   "cell_type": "code",
   "execution_count": null,
   "id": "db9cf44e",
   "metadata": {},
   "outputs": [],
   "source": [
    "array5 = array3+array4\n",
    "\n",
    "print(array5)"
   ]
  },
  {
   "cell_type": "code",
   "execution_count": null,
   "id": "79ae3a32",
   "metadata": {},
   "outputs": [],
   "source": [
    "lst1 = list(range(10000000))\n",
    "array1 = np.arange(10000000)\n",
    "\n",
    "print(len(lst1))\n",
    "print(len(array1))"
   ]
  },
  {
   "cell_type": "code",
   "execution_count": null,
   "id": "f2535bc1",
   "metadata": {},
   "outputs": [],
   "source": [
    "%%time\n",
    "\n",
    "newLst = []\n",
    "for elem in lst1:\n",
    "    newLst.append(lst1[elem]*2)\n",
    "    \n",
    "\n",
    "print(len(newLst))"
   ]
  },
  {
   "cell_type": "code",
   "execution_count": null,
   "id": "f2a53545",
   "metadata": {},
   "outputs": [],
   "source": [
    "%%time\n",
    "\n",
    "array2 = array1*2\n",
    "\n",
    "print(len(array2))"
   ]
  },
  {
   "cell_type": "code",
   "execution_count": null,
   "id": "e30ff94a",
   "metadata": {},
   "outputs": [],
   "source": [
    "2300/28.2"
   ]
  },
  {
   "cell_type": "code",
   "execution_count": null,
   "id": "b4e98d2c",
   "metadata": {},
   "outputs": [],
   "source": [
    "# Few methods and attributes which we will use for further understanding Numpy. \n",
    "\n",
    "# We WILL study the other functions and methods regularly used in your Data Science journey later. This is just a little\n",
    "# bit of explanation of some common functions I will use. "
   ]
  },
  {
   "cell_type": "code",
   "execution_count": null,
   "id": "841a80cf",
   "metadata": {},
   "outputs": [],
   "source": [
    "# array"
   ]
  },
  {
   "cell_type": "code",
   "execution_count": null,
   "id": "78f8a2e7",
   "metadata": {},
   "outputs": [],
   "source": [
    "array1 = np.array([1,2,3,4])\n",
    "\n",
    "print(array1)"
   ]
  },
  {
   "cell_type": "code",
   "execution_count": null,
   "id": "2e9368b5",
   "metadata": {},
   "outputs": [],
   "source": [
    "array2 = np.array('abcde')\n",
    "\n",
    "print(array2)\n",
    "print(type(array2))\n",
    "print(array2.dtype)"
   ]
  },
  {
   "cell_type": "code",
   "execution_count": null,
   "id": "f4d51308",
   "metadata": {},
   "outputs": [],
   "source": [
    "array3 = np.array((1,2,3,4))\n",
    "\n",
    "print(array3)"
   ]
  },
  {
   "cell_type": "code",
   "execution_count": null,
   "id": "d96fda11",
   "metadata": {},
   "outputs": [],
   "source": [
    "array4 = np.array((1,2,3,4), dtype = float)\n",
    "\n",
    "print(array4)\n",
    "print(type(array4))\n",
    "print(array4.dtype)"
   ]
  },
  {
   "cell_type": "code",
   "execution_count": null,
   "id": "68dd248c",
   "metadata": {},
   "outputs": [],
   "source": [
    "# np.arange\n",
    "\n",
    "array1 = np.arange(1,11,2)\n",
    "\n",
    "print(array1)"
   ]
  },
  {
   "cell_type": "code",
   "execution_count": null,
   "id": "868f5ae5",
   "metadata": {
    "scrolled": true
   },
   "outputs": [],
   "source": [
    "# shape\n",
    "\n",
    "array2 = np.arange(1,301).reshape(3,2,5,10)\n",
    "\n",
    "print(array2)\n",
    "\n",
    "# shape 3 x 2 x 5 x 10"
   ]
  },
  {
   "cell_type": "code",
   "execution_count": null,
   "id": "55430ba6",
   "metadata": {},
   "outputs": [],
   "source": [
    "# 10 elements along my inner axis  - X\n",
    "# 5 elements of X along my middle axis - Y\n",
    "# 2 elements of Y along my outer axis - Z\n",
    "# 3 elements of Z along my OUTERMOST axis - A"
   ]
  },
  {
   "cell_type": "code",
   "execution_count": null,
   "id": "604a87a7",
   "metadata": {},
   "outputs": [],
   "source": [
    "print(array2.shape)\n",
    "print(array2.ndim)"
   ]
  },
  {
   "cell_type": "code",
   "execution_count": null,
   "id": "6ea27f44",
   "metadata": {},
   "outputs": [],
   "source": [
    "array1 = np.arange(10)\n",
    "\n",
    "print(array1)\n",
    "print(array1.shape)\n",
    "print(array1.ndim)"
   ]
  },
  {
   "cell_type": "code",
   "execution_count": null,
   "id": "81ac9887",
   "metadata": {},
   "outputs": [],
   "source": [
    "# random.randint\n",
    "\n",
    "arrayrandom = np.random.randint(1,100,20).reshape(4,5)\n",
    "\n",
    "print(arrayrandom)"
   ]
  },
  {
   "cell_type": "code",
   "execution_count": null,
   "id": "b3cdb809",
   "metadata": {},
   "outputs": [],
   "source": [
    "array1 = np.array([10,10.2,'1',100,1000], dtype = int )\n",
    "\n",
    "print(array1)\n",
    "print(array1.dtype)"
   ]
  },
  {
   "cell_type": "markdown",
   "id": "431d908b",
   "metadata": {},
   "source": [
    "### Array axes"
   ]
  },
  {
   "cell_type": "code",
   "execution_count": null,
   "id": "18769105",
   "metadata": {},
   "outputs": [],
   "source": [
    "array1 = np.arange(5)\n",
    "\n",
    "print(array1)\n",
    "print(array1.shape)\n",
    "print(array1.ndim)"
   ]
  },
  {
   "cell_type": "code",
   "execution_count": null,
   "id": "b331caa9",
   "metadata": {},
   "outputs": [],
   "source": [
    "# Innermost axis has 5 elements. - I\n",
    "\n",
    "# Axes are also zero index numbered\n",
    "\n",
    "# 0 - Axis number\n",
    "# 5,"
   ]
  },
  {
   "cell_type": "code",
   "execution_count": null,
   "id": "34c3f225",
   "metadata": {},
   "outputs": [],
   "source": [
    "array1 = np.arange(20).reshape(4,5)\n",
    "\n",
    "print(array1)\n",
    "print(array1.shape)\n",
    "print(array1.ndim)"
   ]
  },
  {
   "cell_type": "code",
   "execution_count": null,
   "id": "c8dc0ac4",
   "metadata": {},
   "outputs": [],
   "source": [
    "# Innermost axis has 5 elements. - I\n",
    "# Middle axis has 4 elements of I - M\n",
    "\n",
    "# Axes are also zero index numbered\n",
    "\n",
    "# 0,1 - Axis number\n",
    "# 4,5"
   ]
  },
  {
   "cell_type": "code",
   "execution_count": null,
   "id": "e240d5ef",
   "metadata": {},
   "outputs": [],
   "source": [
    "array1 = np.arange(60).reshape(3,4,5)\n",
    "\n",
    "print(array1)\n",
    "print(array1.shape)\n",
    "print(array1.ndim)"
   ]
  },
  {
   "cell_type": "code",
   "execution_count": null,
   "id": "1f7c34c5",
   "metadata": {},
   "outputs": [],
   "source": [
    "# Innermost axis has 5 elements. - I\n",
    "# Middle axis has 4 elements of I - M\n",
    "# First outer has 3 elements of M = FO\n",
    "\n",
    "# Axes are also zero index numbered\n",
    "\n",
    "# 0,1,2 - Axis number\n",
    "# 3,4,5"
   ]
  },
  {
   "cell_type": "code",
   "execution_count": null,
   "id": "ed13b1af",
   "metadata": {},
   "outputs": [],
   "source": [
    "array1 = np.arange(120).reshape(2,3,4,5)\n",
    "\n",
    "print(array1)\n",
    "print(array1.shape)\n",
    "print(array1.ndim)"
   ]
  },
  {
   "cell_type": "code",
   "execution_count": null,
   "id": "b955a05e",
   "metadata": {},
   "outputs": [],
   "source": [
    "# Innermost axis has 5 elements. - I\n",
    "# Middle axis has 4 elements of I - M\n",
    "# First outer has 3 elements of M = FO\n",
    "# Outermost has 2 elements of FO - OU\n",
    "\n",
    "# Axes are also zero index numbered\n",
    "\n",
    "# 0,1,2,4 - Axis number\n",
    "# 2,3,4,5"
   ]
  },
  {
   "cell_type": "code",
   "execution_count": null,
   "id": "ae78a7b5",
   "metadata": {},
   "outputs": [],
   "source": [
    "# Basic Indexing on Arrays"
   ]
  },
  {
   "cell_type": "code",
   "execution_count": null,
   "id": "67d72e59",
   "metadata": {},
   "outputs": [],
   "source": [
    "array1 = np.random.randint(1,100,24).reshape(2,3,4)\n",
    "\n",
    "print(array1)"
   ]
  },
  {
   "cell_type": "code",
   "execution_count": null,
   "id": "06c09872",
   "metadata": {},
   "outputs": [],
   "source": [
    "array1[0,1,2]"
   ]
  },
  {
   "cell_type": "code",
   "execution_count": null,
   "id": "97227193",
   "metadata": {},
   "outputs": [],
   "source": [
    "array1[1,2,0]"
   ]
  },
  {
   "cell_type": "code",
   "execution_count": null,
   "id": "4466cafb",
   "metadata": {},
   "outputs": [],
   "source": [
    "array1[1,2]"
   ]
  },
  {
   "cell_type": "code",
   "execution_count": null,
   "id": "8e15bc1b",
   "metadata": {},
   "outputs": [],
   "source": [
    "array1 = np.random.randint(1,100,120).reshape(2,3,4,5)\n",
    "\n",
    "print(array1)"
   ]
  },
  {
   "cell_type": "code",
   "execution_count": null,
   "id": "37d14026",
   "metadata": {},
   "outputs": [],
   "source": [
    "array1[:,1:,1:3]"
   ]
  },
  {
   "cell_type": "code",
   "execution_count": null,
   "id": "21dad978",
   "metadata": {},
   "outputs": [],
   "source": [
    "array1[:,1:,1:3,0]"
   ]
  },
  {
   "cell_type": "code",
   "execution_count": null,
   "id": "2cd499c8",
   "metadata": {},
   "outputs": [],
   "source": [
    "print(array1)"
   ]
  },
  {
   "cell_type": "code",
   "execution_count": null,
   "id": "9cdc3417",
   "metadata": {},
   "outputs": [],
   "source": [
    "array1[0,:,1:3]"
   ]
  },
  {
   "cell_type": "code",
   "execution_count": null,
   "id": "fdf84bf9",
   "metadata": {},
   "outputs": [],
   "source": [
    "# 2,3,4,5"
   ]
  },
  {
   "cell_type": "code",
   "execution_count": null,
   "id": "90272f34",
   "metadata": {},
   "outputs": [],
   "source": [
    "print(array1)"
   ]
  },
  {
   "cell_type": "code",
   "execution_count": null,
   "id": "f13e06c9",
   "metadata": {},
   "outputs": [],
   "source": [
    "array1[0,1,3] = 123"
   ]
  },
  {
   "cell_type": "code",
   "execution_count": null,
   "id": "c2fb77fd",
   "metadata": {},
   "outputs": [],
   "source": [
    "print(array1)"
   ]
  },
  {
   "cell_type": "code",
   "execution_count": null,
   "id": "c432fef3",
   "metadata": {},
   "outputs": [],
   "source": [
    "import numpy as np"
   ]
  },
  {
   "cell_type": "code",
   "execution_count": null,
   "id": "d51b2641",
   "metadata": {},
   "outputs": [],
   "source": [
    "array1 = np.random.randint(1,100,24).reshape(2,3,4)\n",
    "\n",
    "print(array1)"
   ]
  },
  {
   "cell_type": "code",
   "execution_count": null,
   "id": "3d29f9e9",
   "metadata": {},
   "outputs": [],
   "source": [
    "array1[0,1,1:3]"
   ]
  },
  {
   "cell_type": "code",
   "execution_count": null,
   "id": "4b135198",
   "metadata": {},
   "outputs": [],
   "source": [
    "array1[1]"
   ]
  },
  {
   "cell_type": "code",
   "execution_count": null,
   "id": "a7fcfed8",
   "metadata": {},
   "outputs": [],
   "source": [
    "# Properties of arrays\n",
    "\n",
    "#1. Elements are stored in contiguous blocks of memory.\n",
    "#2. Elements of array must of homogenous data type. \n",
    "#3. No of elements along each axis must be same length. \n",
    "#4. Processing arrays is faster. \n",
    "#5. We can do arithmetic operations on arrays without running a loop.\n",
    "#6. We can do matrix operations on arrays.\n"
   ]
  },
  {
   "cell_type": "code",
   "execution_count": null,
   "id": "f653ee4c",
   "metadata": {},
   "outputs": [],
   "source": [
    "# Slice assignment in lists: \n",
    "\n",
    "#1. Number of Assigned values do not have to match the number of values being assigned to. \n",
    "#2. Assigned values have to be put in an iterable. "
   ]
  },
  {
   "cell_type": "code",
   "execution_count": null,
   "id": "4cb43ea5",
   "metadata": {},
   "outputs": [],
   "source": [
    "import numpy as np\n",
    "\n",
    "array1 = np.random.randint(1,100,24).reshape(2,3,4)\n",
    "\n",
    "print(array1)"
   ]
  },
  {
   "cell_type": "code",
   "execution_count": null,
   "id": "fafa19ee",
   "metadata": {},
   "outputs": [],
   "source": [
    "# Numpy arrays slice assignment. "
   ]
  },
  {
   "cell_type": "code",
   "execution_count": null,
   "id": "01ddbacc",
   "metadata": {},
   "outputs": [],
   "source": [
    "# A scalar value assigned to a slice - all the elements of the slice take on the scalar value"
   ]
  },
  {
   "cell_type": "code",
   "execution_count": null,
   "id": "c9104902",
   "metadata": {},
   "outputs": [],
   "source": [
    "array1[1,1,1:3] = 101\n",
    "\n",
    "print(array1)"
   ]
  },
  {
   "cell_type": "code",
   "execution_count": null,
   "id": "aff14f7b",
   "metadata": {},
   "outputs": [],
   "source": [
    "# If we are assigning multiple values to a slice, then length of values being assigned must match length of values being \n",
    "# assigned to BECAUSE number of elements along each axis must be of same length is a fundamental property of arrays. "
   ]
  },
  {
   "cell_type": "code",
   "execution_count": null,
   "id": "d0ebc72e",
   "metadata": {},
   "outputs": [],
   "source": [
    "array1[1,1,1:3] = 101,102\n",
    "\n",
    "print(array1)"
   ]
  },
  {
   "cell_type": "code",
   "execution_count": null,
   "id": "efc961d7",
   "metadata": {},
   "outputs": [],
   "source": [
    "array1[1,1,1:3] = 101,102,103\n",
    "\n",
    "print(array1)"
   ]
  },
  {
   "cell_type": "markdown",
   "id": "7c0702d4",
   "metadata": {},
   "source": [
    "### Boolean Indexing"
   ]
  },
  {
   "cell_type": "code",
   "execution_count": null,
   "id": "78d571e6",
   "metadata": {},
   "outputs": [],
   "source": [
    "array1 = np.random.randint(1,100,10)\n",
    "\n",
    "print(array1)"
   ]
  },
  {
   "cell_type": "code",
   "execution_count": null,
   "id": "6fd3fdd8",
   "metadata": {},
   "outputs": [],
   "source": [
    "array2 = array1*10\n",
    "\n",
    "print(array2)"
   ]
  },
  {
   "cell_type": "code",
   "execution_count": null,
   "id": "b501c083",
   "metadata": {},
   "outputs": [],
   "source": [
    "array3 = array1 > 50\n",
    "\n",
    "print(array3)"
   ]
  },
  {
   "cell_type": "code",
   "execution_count": null,
   "id": "acb6a940",
   "metadata": {},
   "outputs": [],
   "source": [
    "array4 = np.array(list('abcdefghij'))\n",
    "\n",
    "print(array4)"
   ]
  },
  {
   "cell_type": "code",
   "execution_count": null,
   "id": "54d62d01",
   "metadata": {},
   "outputs": [],
   "source": [
    "array4[array3]"
   ]
  },
  {
   "cell_type": "code",
   "execution_count": null,
   "id": "87fff99d",
   "metadata": {},
   "outputs": [],
   "source": []
  },
  {
   "cell_type": "code",
   "execution_count": null,
   "id": "71e41f69",
   "metadata": {},
   "outputs": [],
   "source": []
  },
  {
   "cell_type": "code",
   "execution_count": null,
   "id": "2b82179d",
   "metadata": {},
   "outputs": [],
   "source": [
    "names = np.array(['monisha', 'rashmika', 'bharath','taniya', 'pushpa'])\n",
    "print(names)"
   ]
  },
  {
   "cell_type": "code",
   "execution_count": null,
   "id": "84545881",
   "metadata": {},
   "outputs": [],
   "source": [
    "namesbool = names == 'bharath'\n",
    "\n",
    "print(namesbool)"
   ]
  },
  {
   "cell_type": "code",
   "execution_count": null,
   "id": "2267c942",
   "metadata": {},
   "outputs": [],
   "source": [
    "marks = np.random.randint(80,100,5)\n",
    "\n",
    "print(marks)"
   ]
  },
  {
   "cell_type": "code",
   "execution_count": null,
   "id": "86715212",
   "metadata": {},
   "outputs": [],
   "source": [
    "marks[names == 'bharath']"
   ]
  },
  {
   "cell_type": "code",
   "execution_count": null,
   "id": "074b38eb",
   "metadata": {},
   "outputs": [],
   "source": [
    "marks[(names == 'bharath') | (names == 'monisha')]\n",
    "\n"
   ]
  },
  {
   "cell_type": "code",
   "execution_count": null,
   "id": "ead14f4c",
   "metadata": {},
   "outputs": [],
   "source": [
    "marks[(names == 'bharath') or (names == 'monisha')]\n"
   ]
  },
  {
   "cell_type": "code",
   "execution_count": null,
   "id": "74d5808d",
   "metadata": {},
   "outputs": [],
   "source": [
    "arraynames1 = names=='bharath'\n",
    "\n",
    "print(arraynames1)"
   ]
  },
  {
   "cell_type": "code",
   "execution_count": null,
   "id": "5fe4b353",
   "metadata": {},
   "outputs": [],
   "source": [
    "arraynames2 = names == 'monisha'\n",
    "\n",
    "print(arraynames2)"
   ]
  },
  {
   "cell_type": "code",
   "execution_count": null,
   "id": "d44a1df6",
   "metadata": {},
   "outputs": [],
   "source": [
    "arraynames3 = arraynames1 | arraynames2\n",
    "\n",
    "print(arraynames3)"
   ]
  },
  {
   "cell_type": "code",
   "execution_count": null,
   "id": "5fa364cd",
   "metadata": {},
   "outputs": [],
   "source": [
    "marks2 = np.random.randint(80,101,25).reshape(5,5)\n",
    "\n",
    "print(marks2)"
   ]
  },
  {
   "cell_type": "code",
   "execution_count": null,
   "id": "2d0d3271",
   "metadata": {},
   "outputs": [],
   "source": [
    "       sub1   sub2  sub3  sub4 sub5\n",
    "stud1\n",
    "stud2\n",
    "stud3\n",
    "stud4\n",
    "stud5"
   ]
  },
  {
   "cell_type": "code",
   "execution_count": null,
   "id": "7c4b2185",
   "metadata": {},
   "outputs": [],
   "source": [
    "print(names)"
   ]
  },
  {
   "cell_type": "code",
   "execution_count": null,
   "id": "d586930a",
   "metadata": {},
   "outputs": [],
   "source": [
    "marks2[(names=='rashmika')|(names=='taniya')]"
   ]
  },
  {
   "cell_type": "code",
   "execution_count": null,
   "id": "b46cf68e",
   "metadata": {},
   "outputs": [],
   "source": [
    "subjects =  np.array(['Physics','Computer Science', 'English', 'Algebra', 'History'])\n",
    "\n",
    "print(subjects)"
   ]
  },
  {
   "cell_type": "code",
   "execution_count": null,
   "id": "4d4d8a15",
   "metadata": {},
   "outputs": [],
   "source": [
    "sub1 = (subjects=='Computer Science')\n",
    "sub2 = (subjects == 'History')\n",
    "\n",
    "print(sub1)\n",
    "print(sub2)"
   ]
  },
  {
   "cell_type": "code",
   "execution_count": null,
   "id": "1af9ccbc",
   "metadata": {},
   "outputs": [],
   "source": [
    "sub3 = sub1 | sub2\n",
    "\n",
    "print(sub3)"
   ]
  },
  {
   "cell_type": "code",
   "execution_count": null,
   "id": "26f60d64",
   "metadata": {},
   "outputs": [],
   "source": [
    "marks2[:,(subjects=='Computer Science')|(subjects == 'History')]"
   ]
  },
  {
   "cell_type": "code",
   "execution_count": null,
   "id": "a7fd1882",
   "metadata": {},
   "outputs": [],
   "source": [
    "print(marks2)"
   ]
  },
  {
   "cell_type": "code",
   "execution_count": null,
   "id": "e3ae6931",
   "metadata": {},
   "outputs": [],
   "source": [
    "array1 = np.random.randint(1,100,120).reshape(2,3,4,5)\n",
    "\n",
    "print(array1)"
   ]
  },
  {
   "cell_type": "code",
   "execution_count": null,
   "id": "cd44c326",
   "metadata": {},
   "outputs": [],
   "source": [
    "array1[:,:,0]"
   ]
  },
  {
   "cell_type": "code",
   "execution_count": null,
   "id": "004e3605",
   "metadata": {},
   "outputs": [],
   "source": [
    "#[axes0 (indexing/slicing),axes1(indexing/slicing),axes2 (indexing/slicing)...]\n",
    "\n",
    "print(marks2)\n",
    "print(names)\n",
    "print(subjects)"
   ]
  },
  {
   "cell_type": "code",
   "execution_count": null,
   "id": "8239a7e5",
   "metadata": {},
   "outputs": [],
   "source": [
    "marks2[(names=='pushpa'), (subjects=='Computer Science') | (subjects=='Physics' )| (subjects=='Algebra')]\n"
   ]
  },
  {
   "cell_type": "code",
   "execution_count": null,
   "id": "6316cf54",
   "metadata": {},
   "outputs": [],
   "source": [
    "(marks2[(names=='pushpa')]>90)"
   ]
  },
  {
   "cell_type": "code",
   "execution_count": null,
   "id": "7741242d",
   "metadata": {},
   "outputs": [],
   "source": [
    "marks2[names=='pushpa', marks2[(names=='pushpa')]>90]"
   ]
  },
  {
   "cell_type": "code",
   "execution_count": null,
   "id": "05164cc7",
   "metadata": {},
   "outputs": [],
   "source": [
    "(marks2[(names=='pushpa')]>90)"
   ]
  },
  {
   "cell_type": "code",
   "execution_count": null,
   "id": "05215ed1",
   "metadata": {},
   "outputs": [],
   "source": [
    "marks2[names=='pushpa']"
   ]
  },
  {
   "cell_type": "code",
   "execution_count": null,
   "id": "346e10b7",
   "metadata": {},
   "outputs": [],
   "source": [
    "marks2[(names=='pushpa')]>90"
   ]
  },
  {
   "cell_type": "code",
   "execution_count": null,
   "id": "2f9a6bbd",
   "metadata": {},
   "outputs": [],
   "source": [
    "marks2[(names=='pushpa')][marks2[names=='pushpa']>90]"
   ]
  },
  {
   "cell_type": "code",
   "execution_count": null,
   "id": "5a9e3870",
   "metadata": {},
   "outputs": [],
   "source": [
    "import numpy as np\n",
    "marks2 = np.random.randint(80,101,25).reshape(5,5)\n",
    "names = np.array(['monisha', 'rashmika', 'bharath', 'taniya', 'pushpa'])\n",
    "subjects = np.array(['Physics', 'Computer Science', 'English', 'Algebra', 'History'])\n",
    "\n",
    "print(marks2)\n",
    "print(names)\n",
    "print(subjects)"
   ]
  },
  {
   "cell_type": "code",
   "execution_count": null,
   "id": "c960201d",
   "metadata": {},
   "outputs": [],
   "source": [
    "marks2[(names=='pushpa') & (marks2[(names=='pushpa')]>90)]"
   ]
  },
  {
   "cell_type": "code",
   "execution_count": null,
   "id": "47645bc5",
   "metadata": {},
   "outputs": [],
   "source": [
    "result = marks2[(names == 'pushpa') & (marks2[names == 'pushpa']) > 90]\n",
    "print(result)"
   ]
  },
  {
   "cell_type": "markdown",
   "id": "ec797725",
   "metadata": {},
   "source": [
    "#### Aggregation methods"
   ]
  },
  {
   "cell_type": "code",
   "execution_count": null,
   "id": "05bc0486",
   "metadata": {},
   "outputs": [],
   "source": [
    "# np.sum, np.prod, np.cumsum, np.cumprod, np.min, np.max, np.argmin, np.argmax, np.mean, np.var, np.std"
   ]
  },
  {
   "cell_type": "code",
   "execution_count": null,
   "id": "22bb2d00",
   "metadata": {},
   "outputs": [],
   "source": [
    "array1 = np.arange(1,25).reshape(2,3,4)\n",
    "\n",
    "print(array1)"
   ]
  },
  {
   "cell_type": "code",
   "execution_count": null,
   "id": "5327c773",
   "metadata": {},
   "outputs": [],
   "source": [
    "np.sum(array1)"
   ]
  },
  {
   "cell_type": "code",
   "execution_count": null,
   "id": "54972d79",
   "metadata": {},
   "outputs": [],
   "source": [
    "np.sum(array1, axis=0)"
   ]
  },
  {
   "cell_type": "code",
   "execution_count": null,
   "id": "3f2f5290",
   "metadata": {},
   "outputs": [],
   "source": [
    "# When performing aggregation methods such as np.sum, prod, min, max, argmin, argmax, mean, std and var along a certain\n",
    "# axis - that axis 'collapses' and output is less by one dimension (the collapsed dimension)"
   ]
  },
  {
   "cell_type": "code",
   "execution_count": null,
   "id": "8ac667eb",
   "metadata": {},
   "outputs": [],
   "source": [
    "print(array1)"
   ]
  },
  {
   "cell_type": "code",
   "execution_count": null,
   "id": "a26c0a09",
   "metadata": {},
   "outputs": [],
   "source": [
    "array1.sum(1)"
   ]
  },
  {
   "cell_type": "code",
   "execution_count": null,
   "id": "27c68e7c",
   "metadata": {},
   "outputs": [],
   "source": [
    "array1.sum(2)"
   ]
  },
  {
   "cell_type": "code",
   "execution_count": null,
   "id": "683e6db7",
   "metadata": {},
   "outputs": [],
   "source": [
    "#np.prod\n",
    "\n",
    "array1 = np.random.randint(1,4,24).reshape(2,3,4)\n",
    "\n",
    "print(array1)"
   ]
  },
  {
   "cell_type": "code",
   "execution_count": null,
   "id": "a580db27",
   "metadata": {},
   "outputs": [],
   "source": [
    "np.prod(array1)"
   ]
  },
  {
   "cell_type": "code",
   "execution_count": null,
   "id": "89017d7a",
   "metadata": {},
   "outputs": [],
   "source": [
    "array1.prod(1)"
   ]
  },
  {
   "cell_type": "code",
   "execution_count": null,
   "id": "8e8682f8",
   "metadata": {},
   "outputs": [],
   "source": [
    "# cumsum\n",
    "\n",
    "array1 = np.random.randint(1,10,24).reshape(2,3,4)\n",
    "\n",
    "print(array1)"
   ]
  },
  {
   "cell_type": "code",
   "execution_count": null,
   "id": "b1f453ca",
   "metadata": {},
   "outputs": [],
   "source": [
    "array2 = array1.cumsum()\n",
    "\n",
    "print(array2)\n",
    "print(array2.shape)\n",
    "print(array2.ndim)"
   ]
  },
  {
   "cell_type": "code",
   "execution_count": null,
   "id": "3a0c80ea",
   "metadata": {},
   "outputs": [],
   "source": [
    "print(array1)"
   ]
  },
  {
   "cell_type": "code",
   "execution_count": null,
   "id": "0bb60470",
   "metadata": {},
   "outputs": [],
   "source": [
    "array3 = array1.cumsum(2)\n",
    "\n",
    "print(array3)"
   ]
  },
  {
   "cell_type": "code",
   "execution_count": null,
   "id": "5787c108",
   "metadata": {},
   "outputs": [],
   "source": [
    "array4 = array1.cumsum(0)\n",
    "\n",
    "print(array4)"
   ]
  },
  {
   "cell_type": "code",
   "execution_count": null,
   "id": "40b60593",
   "metadata": {},
   "outputs": [],
   "source": [
    "# cumprod\n",
    "\n",
    "array1 = np.random.randint(1,4,24).reshape(2,3,4)\n",
    "\n",
    "print(array1)"
   ]
  },
  {
   "cell_type": "code",
   "execution_count": null,
   "id": "21755dc7",
   "metadata": {},
   "outputs": [],
   "source": [
    "array1.cumprod(1)\n",
    "\n"
   ]
  },
  {
   "cell_type": "code",
   "execution_count": null,
   "id": "55f6d4c3",
   "metadata": {},
   "outputs": [],
   "source": [
    "array1 = np.arange(1,25).reshape(2,3,4)\n",
    "\n",
    "print(array1)"
   ]
  },
  {
   "cell_type": "code",
   "execution_count": null,
   "id": "7104adde",
   "metadata": {},
   "outputs": [],
   "source": [
    "array1.flatten()"
   ]
  },
  {
   "cell_type": "code",
   "execution_count": null,
   "id": "c81a0179",
   "metadata": {},
   "outputs": [],
   "source": [
    "# min, max, argmin, argmax\n",
    "\n",
    "array1 = np.random.randint(1,101,24).reshape(2,3,4)\n",
    "\n",
    "print(array1)"
   ]
  },
  {
   "cell_type": "code",
   "execution_count": null,
   "id": "7af69286",
   "metadata": {},
   "outputs": [],
   "source": [
    "print(array1.min())\n",
    "print(array1.max())"
   ]
  },
  {
   "cell_type": "code",
   "execution_count": null,
   "id": "f2b8e832",
   "metadata": {},
   "outputs": [],
   "source": [
    "print(array1.argmin())\n",
    "print(array1.argmax())"
   ]
  },
  {
   "cell_type": "code",
   "execution_count": null,
   "id": "72ba0db9",
   "metadata": {},
   "outputs": [],
   "source": [
    "print(array1)"
   ]
  },
  {
   "cell_type": "code",
   "execution_count": null,
   "id": "ae1ee1e5",
   "metadata": {},
   "outputs": [],
   "source": [
    "print(array1.min(1))\n",
    "print(array1.argmin(1))"
   ]
  },
  {
   "cell_type": "code",
   "execution_count": null,
   "id": "10cac989",
   "metadata": {},
   "outputs": [],
   "source": [
    "print(array1.min(2))\n",
    "print(array1.argmin(2))"
   ]
  },
  {
   "cell_type": "code",
   "execution_count": null,
   "id": "7d10f4ca",
   "metadata": {},
   "outputs": [],
   "source": [
    "# max, argmax - same as min and argmin but for max value."
   ]
  },
  {
   "cell_type": "code",
   "execution_count": null,
   "id": "39ac30d4",
   "metadata": {},
   "outputs": [],
   "source": [
    "# mean"
   ]
  },
  {
   "cell_type": "code",
   "execution_count": null,
   "id": "f483fac6",
   "metadata": {},
   "outputs": [],
   "source": [
    "print(array1)"
   ]
  },
  {
   "cell_type": "code",
   "execution_count": null,
   "id": "6e2d2300",
   "metadata": {},
   "outputs": [],
   "source": [
    "print(np.mean(array1))"
   ]
  },
  {
   "cell_type": "code",
   "execution_count": null,
   "id": "82ca6d98",
   "metadata": {},
   "outputs": [],
   "source": [
    "print(np.mean(array1, axis = 0))"
   ]
  },
  {
   "cell_type": "code",
   "execution_count": null,
   "id": "dd76d07f",
   "metadata": {},
   "outputs": [],
   "source": [
    "# var, std"
   ]
  },
  {
   "cell_type": "code",
   "execution_count": null,
   "id": "e11a47af",
   "metadata": {},
   "outputs": [],
   "source": [
    "array1 = np.random.randint(1,50,24).reshape(2,3,4)\n",
    "\n",
    "print(array1)"
   ]
  },
  {
   "cell_type": "code",
   "execution_count": null,
   "id": "2deeba38",
   "metadata": {},
   "outputs": [],
   "source": [
    "print('var', array1.var())\n",
    "print('std', array1.std())"
   ]
  },
  {
   "cell_type": "code",
   "execution_count": null,
   "id": "3937cff9",
   "metadata": {},
   "outputs": [],
   "source": [
    "print('var', array1.var(0))\n",
    "print('std', array1.std(0))"
   ]
  },
  {
   "cell_type": "code",
   "execution_count": null,
   "id": "82afae82",
   "metadata": {},
   "outputs": [],
   "source": [
    "#np.any, np.all\n",
    "\n",
    "import numpy as np\n",
    "\n",
    "array1 = np.random.randint(0,2,3)\n",
    "\n",
    "print(array1)\n",
    "print(array1.any())\n",
    "print(array1.all())"
   ]
  },
  {
   "cell_type": "code",
   "execution_count": null,
   "id": "c0a1eec0",
   "metadata": {},
   "outputs": [],
   "source": [
    "array1 = np.array([0,0,0])\n",
    "\n",
    "print(array1)\n",
    "print(array1.any())\n",
    "print(array1.all())"
   ]
  },
  {
   "cell_type": "code",
   "execution_count": null,
   "id": "0f89055a",
   "metadata": {},
   "outputs": [],
   "source": [
    "print(np.any(array1))"
   ]
  },
  {
   "cell_type": "code",
   "execution_count": null,
   "id": "7ee4de51",
   "metadata": {},
   "outputs": [],
   "source": [
    "# Most of your numpy   (any, all) functions become available to the array object as methods of that array class object. \n",
    "\n",
    "# e.g. \n",
    "# Using the numpy modules any function(also method actually)\n",
    "# np.any(arrayobject)\n",
    "\n",
    "# Using the method on the array object. \n",
    "# arrayobject.any()"
   ]
  },
  {
   "cell_type": "markdown",
   "id": "a2858b68",
   "metadata": {},
   "source": [
    "### Homogenous N-Dimensional arrays"
   ]
  },
  {
   "cell_type": "code",
   "execution_count": null,
   "id": "d07343b5",
   "metadata": {},
   "outputs": [],
   "source": [
    "# Constructs arrays of given shape - filled with zeros\n",
    "\n",
    "zeros = np.zeros((3,4), dtype = int)\n",
    "\n",
    "print(zeros)\n",
    "print(type(zeros))"
   ]
  },
  {
   "cell_type": "code",
   "execution_count": null,
   "id": "ef27931f",
   "metadata": {},
   "outputs": [],
   "source": [
    "# Constructs arrays of given shape - filled with ones\n",
    "\n",
    "ones = np.ones((3,4))\n",
    "\n",
    "print(ones)\n",
    "print(type(ones))"
   ]
  },
  {
   "cell_type": "code",
   "execution_count": null,
   "id": "365c18f2",
   "metadata": {},
   "outputs": [],
   "source": [
    "# Constructs arrays of given shape - filled with specified object\n",
    "\n",
    "full = np.full((3,4),'a')\n",
    "\n",
    "print(full)\n",
    "print(type(full))"
   ]
  },
  {
   "cell_type": "code",
   "execution_count": 12,
   "id": "05a859b4",
   "metadata": {},
   "outputs": [
    {
     "name": "stdout",
     "output_type": "stream",
     "text": [
      "[[4.45057637e-308 1.78021527e-306 8.45549797e-307 1.37962049e-306]\n",
      " [1.11260619e-306 1.78010255e-306 9.79054228e-307 4.45057637e-308]\n",
      " [8.45596650e-307 9.34602321e-307 4.94065646e-322 1.29060531e-306]]\n",
      "<class 'numpy.ndarray'>\n"
     ]
    }
   ],
   "source": [
    "import numpy as np\n",
    "# Constructs arrays of given shape - filled with garbage values (considered empty)\n",
    "\n",
    "empty = np.empty((3,4))\n",
    "\n",
    "print(empty)\n",
    "print(type(empty))"
   ]
  },
  {
   "cell_type": "markdown",
   "id": "c7624deb",
   "metadata": {},
   "source": [
    "### Matrix Arrays"
   ]
  },
  {
   "cell_type": "code",
   "execution_count": 3,
   "id": "59caf650",
   "metadata": {},
   "outputs": [
    {
     "name": "stdout",
     "output_type": "stream",
     "text": [
      "[[ True False False False False]\n",
      " [False  True False False False]\n",
      " [False False  True False False]\n",
      " [False False False  True False]\n",
      " [False False False False  True]]\n",
      "<class 'numpy.ndarray'>\n"
     ]
    }
   ],
   "source": [
    "# Creates an identity matrix. An identity matrix is square and filled with 1s along the diagonal and 0s elsewhere.\n",
    "\n",
    "identity = np.identity(5, dtype = bool)\n",
    "\n",
    "print(identity)\n",
    "print(type(identity))"
   ]
  },
  {
   "cell_type": "code",
   "execution_count": 8,
   "id": "a0b69406",
   "metadata": {},
   "outputs": [
    {
     "name": "stdout",
     "output_type": "stream",
     "text": [
      "[[0. 0. 0. 0.]\n",
      " [1. 0. 0. 0.]\n",
      " [0. 1. 0. 0.]\n",
      " [0. 0. 1. 0.]\n",
      " [0. 0. 0. 1.]]\n",
      "<class 'numpy.ndarray'>\n"
     ]
    }
   ],
   "source": [
    "# Creates a sort of identity matrix with 1s on the diagonal and 0s elsewhere - but is not restricted to being square and\n",
    "# is which diagonal the 1s appear can also be adjusted. \n",
    "\n",
    "eye = np.eye(5,4, k=-1)\n",
    "\n",
    "print(eye)\n",
    "print(type(eye))"
   ]
  },
  {
   "cell_type": "code",
   "execution_count": 13,
   "id": "7fa6a566",
   "metadata": {},
   "outputs": [
    {
     "name": "stdout",
     "output_type": "stream",
     "text": [
      "[5 1 3 2 2]\n",
      "[[0 5 0 0 0 0]\n",
      " [0 0 1 0 0 0]\n",
      " [0 0 0 3 0 0]\n",
      " [0 0 0 0 2 0]\n",
      " [0 0 0 0 0 2]\n",
      " [0 0 0 0 0 0]]\n"
     ]
    }
   ],
   "source": [
    "# If we pass a 1D array to the diagonal function - it puts the elements of the 1D array along the diagonal and creates a\n",
    "# square matrix with 0s not along the diagonal.\n",
    "# If we pass a 2D array to the diagonal function - it extracts the elements of the diagonal and returns the 1D array of these\n",
    "# elements. \n",
    "\n",
    "# k parameter is used to place or extract the diagonal elements. \n",
    "\n",
    "diagonal = np.random.randint(1,11,5)\n",
    "\n",
    "print(diagonal)\n",
    "\n",
    "diagfunct = np.diag(diagonal, k = 1)\n",
    "\n",
    "print(diagfunct)"
   ]
  },
  {
   "cell_type": "code",
   "execution_count": 15,
   "id": "7fc6e7d3",
   "metadata": {},
   "outputs": [
    {
     "name": "stdout",
     "output_type": "stream",
     "text": [
      "[[ 3 11  8  1 18]\n",
      " [12  6 17  6 10]\n",
      " [ 7  7  3  7  9]\n",
      " [17  9 11  2  8]\n",
      " [11 19  5 13  4]]\n"
     ]
    }
   ],
   "source": [
    "newarray = np.random.randint(1,21,25).reshape(5,5)\n",
    "\n",
    "print(newarray)"
   ]
  },
  {
   "cell_type": "code",
   "execution_count": 17,
   "id": "be3b0f9a",
   "metadata": {},
   "outputs": [
    {
     "name": "stdout",
     "output_type": "stream",
     "text": [
      "[7 9 5]\n"
     ]
    }
   ],
   "source": [
    "nArrayDiag = np.diag(newarray, k = -2)\n",
    "\n",
    "print(nArrayDiag)"
   ]
  },
  {
   "cell_type": "code",
   "execution_count": 20,
   "id": "feb2035a",
   "metadata": {},
   "outputs": [
    {
     "name": "stdout",
     "output_type": "stream",
     "text": [
      "[[[ 0.  0.  0.  0.  0.]\n",
      "  [ 0.  1.  2.  3.  4.]\n",
      "  [ 0.  2.  4.  6.  8.]\n",
      "  [ 0.  3.  6.  9. 12.]]\n",
      "\n",
      " [[ 0.  1.  2.  3.  4.]\n",
      "  [ 0.  2.  4.  6.  8.]\n",
      "  [ 0.  3.  6.  9. 12.]\n",
      "  [ 0.  4.  8. 12. 16.]]\n",
      "\n",
      " [[ 0.  2.  4.  6.  8.]\n",
      "  [ 0.  3.  6.  9. 12.]\n",
      "  [ 0.  4.  8. 12. 16.]\n",
      "  [ 0.  5. 10. 15. 20.]]]\n"
     ]
    }
   ],
   "source": [
    "# np.fromfunct\n",
    "\n",
    "# Will take two mandatory arguments\n",
    "#1. A function on which to apply the co-ordinate values. \n",
    "#2. Shape of the output array\n",
    "\n",
    "# It creates an array of given shape and fills up the values by passing the co-ordinates of each prospective element to \n",
    "# the function and placing the output at that co-ordinate position.\n",
    "\n",
    "array1 = np.fromfunction(lambda x,y,z : (x+y)*z, (3,4,5))\n",
    "\n",
    "print(array1)"
   ]
  },
  {
   "cell_type": "code",
   "execution_count": null,
   "id": "f1318d95",
   "metadata": {},
   "outputs": [],
   "source": [
    "0,0    0,1     0,2   0,3\n",
    "1,0    1,1     1,2   1,3\n",
    "2,0    2,1     2,2   2,3"
   ]
  },
  {
   "cell_type": "code",
   "execution_count": 21,
   "id": "758c82b2",
   "metadata": {},
   "outputs": [
    {
     "name": "stdout",
     "output_type": "stream",
     "text": [
      "[[[53 75 89 52]\n",
      "  [52 35 74 81]\n",
      "  [10 45 78 40]]\n",
      "\n",
      " [[39 75 34 36]\n",
      "  [46 84 21 44]\n",
      "  [25 44 45 16]]]\n",
      "[[[23  4 61  8]\n",
      "  [ 6 32 31 62]\n",
      "  [ 3 67 51 41]]\n",
      "\n",
      " [[95 46 29 24]\n",
      "  [42 82 30 50]\n",
      "  [82 35 56 72]]]\n"
     ]
    }
   ],
   "source": [
    "# Comparison operators\n",
    "\n",
    "array1 = np.random.randint(1,101,24).reshape(2,3,4)\n",
    "array2 = np.random.randint(1,101,24).reshape(2,3,4)\n",
    "\n",
    "print(array1)\n",
    "print(array2)"
   ]
  },
  {
   "cell_type": "code",
   "execution_count": 22,
   "id": "ac9821a8",
   "metadata": {},
   "outputs": [
    {
     "name": "stdout",
     "output_type": "stream",
     "text": [
      "[[[ 76  79 150  60]\n",
      "  [ 58  67 105 143]\n",
      "  [ 13 112 129  81]]\n",
      "\n",
      " [[134 121  63  60]\n",
      "  [ 88 166  51  94]\n",
      "  [107  79 101  88]]]\n",
      "[[[ 2.30434783 18.75        1.45901639  6.5       ]\n",
      "  [ 8.66666667  1.09375     2.38709677  1.30645161]\n",
      "  [ 3.33333333  0.67164179  1.52941176  0.97560976]]\n",
      "\n",
      " [[ 0.41052632  1.63043478  1.17241379  1.5       ]\n",
      "  [ 1.0952381   1.02439024  0.7         0.88      ]\n",
      "  [ 0.30487805  1.25714286  0.80357143  0.22222222]]]\n"
     ]
    }
   ],
   "source": [
    "array3 = array1 + array2\n",
    "array4 = array1/array2\n",
    "\n",
    "print(array3)\n",
    "print(array4)"
   ]
  },
  {
   "cell_type": "code",
   "execution_count": 23,
   "id": "fbcd8680",
   "metadata": {},
   "outputs": [
    {
     "name": "stdout",
     "output_type": "stream",
     "text": [
      "[[[ True  True  True  True]\n",
      "  [ True  True  True  True]\n",
      "  [ True False  True False]]\n",
      "\n",
      " [[False  True  True  True]\n",
      "  [ True  True False False]\n",
      "  [False  True False False]]]\n"
     ]
    }
   ],
   "source": [
    "array5 = array1 > array2\n",
    "\n",
    "print(array5)"
   ]
  },
  {
   "cell_type": "markdown",
   "id": "3e285e69",
   "metadata": {},
   "source": [
    "### Broadcasting"
   ]
  },
  {
   "cell_type": "code",
   "execution_count": 24,
   "id": "d128c39d",
   "metadata": {},
   "outputs": [
    {
     "name": "stdout",
     "output_type": "stream",
     "text": [
      "[[[8 5 6 9]\n",
      "  [7 1 9 1]\n",
      "  [9 6 8 6]]\n",
      "\n",
      " [[2 5 9 3]\n",
      "  [8 6 6 9]\n",
      "  [9 1 5 8]]]\n",
      "[[[13 10 11 14]\n",
      "  [12  6 14  6]\n",
      "  [14 11 13 11]]\n",
      "\n",
      " [[ 7 10 14  8]\n",
      "  [13 11 11 14]\n",
      "  [14  6 10 13]]]\n"
     ]
    }
   ],
   "source": [
    "array1 = np.random.randint(1,10,24).reshape(2,3,4)\n",
    "array2 = np.random.randint(1,10,24).reshape(2,3,4)\n",
    "\n",
    "print(array1)\n",
    "array3 = array1 + 5\n",
    "print(array3)"
   ]
  },
  {
   "cell_type": "code",
   "execution_count": 25,
   "id": "e1d73b26",
   "metadata": {},
   "outputs": [
    {
     "name": "stdout",
     "output_type": "stream",
     "text": [
      "[[[8 5 6 9]\n",
      "  [7 1 9 1]\n",
      "  [9 6 8 6]]\n",
      "\n",
      " [[2 5 9 3]\n",
      "  [8 6 6 9]\n",
      "  [9 1 5 8]]]\n",
      "[[[6 1 4 4]\n",
      "  [3 3 4 3]\n",
      "  [2 9 4 5]]\n",
      "\n",
      " [[4 8 4 2]\n",
      "  [3 8 1 3]\n",
      "  [4 1 3 3]]]\n"
     ]
    }
   ],
   "source": [
    "print(array1)\n",
    "print(array2)"
   ]
  },
  {
   "cell_type": "code",
   "execution_count": 26,
   "id": "2bf75b8d",
   "metadata": {},
   "outputs": [
    {
     "name": "stdout",
     "output_type": "stream",
     "text": [
      "[[[14  6 10 13]\n",
      "  [10  4 13  4]\n",
      "  [11 15 12 11]]\n",
      "\n",
      " [[ 6 13 13  5]\n",
      "  [11 14  7 12]\n",
      "  [13  2  8 11]]]\n"
     ]
    }
   ],
   "source": [
    "array4 = array1 + array2\n",
    "\n",
    "print(array4)"
   ]
  },
  {
   "cell_type": "code",
   "execution_count": 27,
   "id": "047f2d21",
   "metadata": {},
   "outputs": [
    {
     "name": "stdout",
     "output_type": "stream",
     "text": [
      "[[8 3 9 1]\n",
      " [8 1 3 2]\n",
      " [6 2 9 4]]\n"
     ]
    }
   ],
   "source": [
    "array5 = np.random.randint(1,10,12).reshape(3,4)\n",
    "\n",
    "print(array5)"
   ]
  },
  {
   "cell_type": "code",
   "execution_count": 28,
   "id": "f32bf2e8",
   "metadata": {},
   "outputs": [
    {
     "name": "stdout",
     "output_type": "stream",
     "text": [
      "[[[8 5 6 9]\n",
      "  [7 1 9 1]\n",
      "  [9 6 8 6]]\n",
      "\n",
      " [[2 5 9 3]\n",
      "  [8 6 6 9]\n",
      "  [9 1 5 8]]]\n"
     ]
    }
   ],
   "source": [
    "print(array1)"
   ]
  },
  {
   "cell_type": "code",
   "execution_count": 29,
   "id": "fe63bf8e",
   "metadata": {},
   "outputs": [
    {
     "name": "stdout",
     "output_type": "stream",
     "text": [
      "[[[16  8 15 10]\n",
      "  [15  2 12  3]\n",
      "  [15  8 17 10]]\n",
      "\n",
      " [[10  8 18  4]\n",
      "  [16  7  9 11]\n",
      "  [15  3 14 12]]]\n"
     ]
    }
   ],
   "source": [
    "array6 = array1 + array5\n",
    "\n",
    "print(array6)"
   ]
  },
  {
   "cell_type": "code",
   "execution_count": 38,
   "id": "619eabc1",
   "metadata": {},
   "outputs": [
    {
     "name": "stdout",
     "output_type": "stream",
     "text": [
      "Array1 \n",
      "-----------------------------------------------------------------------------------------------------------------------------\n",
      "\n",
      " [[[2 9 5 2]\n",
      "  [8 1 8 5]\n",
      "  [2 3 9 5]]\n",
      "\n",
      " [[1 4 6 1]\n",
      "  [2 1 8 7]\n",
      "  [5 1 5 8]]]\n",
      "Array2 \n",
      "-----------------------------------------------------------------------------------------------------------------------------\n",
      "\n",
      " [5 1 8 5]\n",
      "Array1+2 \n",
      "-----------------------------------------------------------------------------------------------------------------------------\n",
      "\n",
      " [[[ 7 10 13  7]\n",
      "  [13  2 16 10]\n",
      "  [ 7  4 17 10]]\n",
      "\n",
      " [[ 6  5 14  6]\n",
      "  [ 7  2 16 12]\n",
      "  [10  2 13 13]]]\n"
     ]
    }
   ],
   "source": [
    "array1 = np.random.randint(1,10,24).reshape(2,3,4)\n",
    "\n",
    "array2 = np.random.randint(1,10,4).reshape(4)\n",
    "\n",
    "print('Array1 \\n'+'-'*125 + '\\n'*2, array1)\n",
    "print('Array2 \\n'+'-'*125 + '\\n'*2, array2)\n",
    "print('Array1+2 \\n'+'-'*125 + '\\n'*2, array1+array2)"
   ]
  },
  {
   "cell_type": "code",
   "execution_count": 45,
   "id": "c50e549d",
   "metadata": {},
   "outputs": [
    {
     "name": "stdout",
     "output_type": "stream",
     "text": [
      "[1.5 1.6 1.7 1.8 1.9 2.  2.1 2.2 2.3 2.4 2.5 2.6 2.7 2.8 2.9 3.  3.1 3.2\n",
      " 3.3 3.4 3.5 3.6 3.7 3.8 3.9 4.  4.1 4.2 4.3 4.4 4.5 4.6 4.7 4.8 4.9 5.\n",
      " 5.1 5.2 5.3 5.4 5.5 5.6 5.7 5.8 5.9 6.  6.1 6.2 6.3 6.4 6.5 6.6 6.7 6.8\n",
      " 6.9 7.  7.1]\n"
     ]
    }
   ],
   "source": [
    "# arange function\n",
    "# Almost exactly like range function in python - but python range only accepts integers as start, stop and step values while\n",
    "# arange function allows float values also besides integers as start, stop and step. \n",
    "\n",
    "# arange also allows the datetime datatype to get a range of dates - However, this we shall see when we do numpy datetme.\n",
    "\n",
    "array1 = np.arange(1.5,7.2,0.1)\n",
    "#lst1 = list(range(1,10,0.1))\n",
    "print(array1)\n",
    "#print(lst1)"
   ]
  },
  {
   "cell_type": "code",
   "execution_count": null,
   "id": "1547f780",
   "metadata": {},
   "outputs": [],
   "source": [
    "#linspace"
   ]
  },
  {
   "cell_type": "code",
   "execution_count": 52,
   "id": "63adc0cd",
   "metadata": {},
   "outputs": [
    {
     "name": "stdout",
     "output_type": "stream",
     "text": [
      "[ 1.   1.5  2.   2.5  3.   3.5  4.   4.5  5.   5.5  6.   6.5  7.   7.5\n",
      "  8.   8.5  9.   9.5 10.  10.5 11.  11.5 12.  12.5 13.  13.5 14.  14.5\n",
      " 15.  15.5 16.  16.5 17.  17.5 18.  18.5 19.  19.5 20.  20.5 21.  21.5\n",
      " 22.  22.5 23.  23.5 24.  24.5]\n"
     ]
    }
   ],
   "source": [
    "array1 = np.arange(1,25,0.5)\n",
    "\n",
    "print(array1)"
   ]
  },
  {
   "cell_type": "code",
   "execution_count": 53,
   "id": "db2aae37",
   "metadata": {},
   "outputs": [
    {
     "name": "stdout",
     "output_type": "stream",
     "text": [
      "[ 1.  2.  3.  4.  5.  6.  7.  8.  9. 10. 11. 12. 13. 14. 15. 16. 17. 18.\n",
      " 19. 20. 21. 22. 23. 24. 25. 26. 27. 28. 29. 30. 31. 32. 33. 34. 35. 36.\n",
      " 37. 38. 39. 40. 41. 42. 43. 44. 45. 46. 47. 48. 49. 50.]\n"
     ]
    }
   ],
   "source": [
    "arrayLin = np.linspace(1,50)\n",
    "\n",
    "print(arrayLin)"
   ]
  },
  {
   "cell_type": "code",
   "execution_count": null,
   "id": "ecfe94fe",
   "metadata": {},
   "outputs": [],
   "source": [
    "#Linspace - takes two values - start and stop and qives you 50 (by default - can be changed) EQUIDISTANT Points between those\n",
    "# two values. "
   ]
  },
  {
   "cell_type": "code",
   "execution_count": null,
   "id": "eb1946f9",
   "metadata": {},
   "outputs": [],
   "source": [
    "# arange - when we already know the distance we want between each element of our range. \n",
    "# linspace - when we have a range and number of elements - but dont know or dont want to calculate the distance between them."
   ]
  },
  {
   "cell_type": "code",
   "execution_count": null,
   "id": "fb81b0e7",
   "metadata": {},
   "outputs": [],
   "source": [
    "# It takes 7 arguments.\n",
    "\n",
    "#1. Start - Mandatory\n",
    "#2. Stop - Mandatory\n",
    "#3. Num - Optional - Number of samples required between the range/interval. By default set to 50\n",
    "#4. endpoint - Optional - By default set to true and includes the endpoint(i.e. stop value) - if set to False, returns\n",
    "# equidistant numbers not including the endpoint/stop value.\n",
    "#5 retstep - Optional - Default is False. If set to true, returns the samples and the step value (distance between samples)\n",
    "#6 dtype - Optional - By default datatype will be inferred. However, for int datatype, float will be considered even if \n",
    "# start and stop are int.\n",
    "#7 axis - Optional - By default 0 axis. Only useful in case start and stop are array-like.\n",
    "\n"
   ]
  },
  {
   "cell_type": "code",
   "execution_count": 61,
   "id": "d66aca41",
   "metadata": {},
   "outputs": [
    {
     "name": "stdout",
     "output_type": "stream",
     "text": [
      "(array(['1.0', '2.96', '4.92', '6.88', '8.84', '10.8', '12.76',\n",
      "       '14.719999999999999', '16.68', '18.64', '20.6', '22.56', '24.52',\n",
      "       '26.48', '28.439999999999998', '30.4', '32.36', '34.32', '36.28',\n",
      "       '38.24', '40.2', '42.16', '44.12', '46.08', '48.04'], dtype='<U32'), 1.96)\n"
     ]
    }
   ],
   "source": [
    "arrayLin = np.linspace(1,50,25, endpoint = False, retstep = True, dtype = str)\n",
    "\n",
    "print(arrayLin)"
   ]
  },
  {
   "cell_type": "code",
   "execution_count": 60,
   "id": "9307b9d7",
   "metadata": {},
   "outputs": [],
   "source": [
    "# 1 50  25\n",
    "\n",
    "# 50 - 1 = 49/25 = 1.96"
   ]
  },
  {
   "cell_type": "code",
   "execution_count": 65,
   "id": "bced8e45",
   "metadata": {},
   "outputs": [
    {
     "name": "stdout",
     "output_type": "stream",
     "text": [
      "[[ 1.          1.47368421  1.94736842  2.42105263  2.89473684  3.36842105\n",
      "   3.84210526  4.31578947  4.78947368  5.26315789  5.73684211  6.21052632\n",
      "   6.68421053  7.15789474  7.63157895  8.10526316  8.57894737  9.05263158\n",
      "   9.52631579 10.        ]\n",
      " [ 5.          7.36842105  9.73684211 12.10526316 14.47368421 16.84210526\n",
      "  19.21052632 21.57894737 23.94736842 26.31578947 28.68421053 31.05263158\n",
      "  33.42105263 35.78947368 38.15789474 40.52631579 42.89473684 45.26315789\n",
      "  47.63157895 50.        ]]\n"
     ]
    }
   ],
   "source": [
    "arrayLin = np.linspace((1,5),(10,50),20, axis = 1)\n",
    "\n",
    "print(arrayLin)"
   ]
  },
  {
   "cell_type": "markdown",
   "id": "ce5f7768",
   "metadata": {},
   "source": [
    "### Random module"
   ]
  },
  {
   "cell_type": "code",
   "execution_count": null,
   "id": "d6d512de",
   "metadata": {},
   "outputs": [],
   "source": []
  },
  {
   "cell_type": "code",
   "execution_count": 78,
   "id": "c4eaa285",
   "metadata": {},
   "outputs": [
    {
     "name": "stdout",
     "output_type": "stream",
     "text": [
      "[59 42 92 60 80 15 62 62 47 62]\n"
     ]
    }
   ],
   "source": [
    "array1 = np.random.randint(1,100,10)\n",
    "\n",
    "print(array1)"
   ]
  },
  {
   "cell_type": "code",
   "execution_count": null,
   "id": "c83d69dc",
   "metadata": {},
   "outputs": [],
   "source": [
    "# Random numbers for training, testing etc. \n",
    "\n",
    "# 1,000,000 million random numbers\n",
    "# 800,000 as training values\n",
    "# 200,000 as testing values\n",
    "\n",
    "# model - 87% accurate\n",
    "# model - 79% accurate\n"
   ]
  },
  {
   "cell_type": "code",
   "execution_count": 2,
   "id": "49cb48fd",
   "metadata": {},
   "outputs": [],
   "source": [
    "# Random module\n",
    "# randint\n",
    "# uniform\n",
    "# rand\n",
    "# randn\n",
    "# choice\n",
    "# permutation\n",
    "\n",
    "\n",
    "# Other methods\n",
    "# append\n",
    "# vstack\n",
    "# hstack\n",
    "# sort\n",
    "# insert\n",
    "# transpose\n",
    "\n",
    "\n",
    "# Datetime module\n",
    "# datetime64\n",
    "# timedelta64\n",
    "# is_busday\n",
    "# busday_count\n",
    "# busday_offset\n"
   ]
  },
  {
   "cell_type": "code",
   "execution_count": 26,
   "id": "5e79a6b6",
   "metadata": {},
   "outputs": [
    {
     "name": "stdout",
     "output_type": "stream",
     "text": [
      "[[[5 7 7 5]\n",
      "  [7 5 5 7]\n",
      "  [7 7 6 5]]\n",
      "\n",
      " [[6 5 7 5]\n",
      "  [7 5 5 6]\n",
      "  [7 5 6 7]]]\n"
     ]
    }
   ],
   "source": [
    "# randint - Gives us a random integer value between specified range. \n",
    "\n",
    "# It takes 4 parameters\n",
    "\n",
    "#1. Low (or high) - If only low value provided then takes 0 as start and first value as stop \n",
    "#                 - If two values provided then takes first value as start and second value as stop.\n",
    "#2. High - Second value - stop value. See #1. \n",
    "#3. Sample size = Integer or tuple for shape. If integer provided, n number of samples in 1D Array. If shape provided, \n",
    "# then number of samples required for that shaped array. e.g. for 2,3,4 = 24 samples required. \n",
    "#4. dtype - native numpy dtype (int only). \n",
    "\n",
    "import numpy as np\n",
    "\n",
    "array1 = np.random.randint(5,8,size = (2,3,4))\n",
    "\n",
    "print(array1)"
   ]
  },
  {
   "cell_type": "code",
   "execution_count": 42,
   "id": "e0d68249",
   "metadata": {},
   "outputs": [
    {
     "name": "stdout",
     "output_type": "stream",
     "text": [
      "2.9404669860237815\n"
     ]
    }
   ],
   "source": [
    "# uniform - gives us a random float value between specified range\n",
    "\n",
    "# It takes 4 parameters\n",
    "\n",
    "#1. Low (or high) - If only low value provided then takes 0 as start and first value as stop \n",
    "#                 - If two values provided then takes first value as start and second value as stop.\n",
    "#2. High - Second value - stop value. See #1. \n",
    "#3. Sample size = Integer or tuple for shape. If integer provided, n number of samples in 1D Array. If shape provided, \n",
    "# then number of samples required for that shaped array. e.g. for 2,3,4 = 24 samples required. \n",
    "#4. dtype - native numpy dtype (int only). \n",
    "\n",
    "\n",
    "array1 = np.random.uniform(5)\n",
    "\n",
    "print(array1)"
   ]
  },
  {
   "cell_type": "code",
   "execution_count": 39,
   "id": "d3c115ab",
   "metadata": {},
   "outputs": [
    {
     "name": "stdout",
     "output_type": "stream",
     "text": [
      "6.823049359615469\n"
     ]
    }
   ],
   "source": [
    "array1 = np.random.uniform(5,8)\n",
    "\n",
    "print(array1)"
   ]
  },
  {
   "cell_type": "code",
   "execution_count": 40,
   "id": "30ff3c49",
   "metadata": {},
   "outputs": [
    {
     "name": "stdout",
     "output_type": "stream",
     "text": [
      "[5.39993153 7.61496672 7.78301125 6.67373648 6.48581115 7.70827347\n",
      " 5.89568919 6.30677896 7.591975   7.37184137]\n"
     ]
    }
   ],
   "source": [
    "array1 = np.random.uniform(5,8,10)\n",
    "\n",
    "print(array1)"
   ]
  },
  {
   "cell_type": "code",
   "execution_count": 41,
   "id": "bec6d3e6",
   "metadata": {},
   "outputs": [
    {
     "name": "stdout",
     "output_type": "stream",
     "text": [
      "[[[5.44657045 5.95919203 6.63134856 7.55341217]\n",
      "  [6.40554599 6.97340157 6.26365585 5.55596841]\n",
      "  [7.25399025 5.43679305 7.07687195 5.65879086]]\n",
      "\n",
      " [[6.66230513 7.05360963 7.13723509 7.23921956]\n",
      "  [7.64688022 7.5634172  5.4455557  6.299505  ]\n",
      "  [6.19160172 7.89628247 7.93608637 7.64731182]]]\n"
     ]
    }
   ],
   "source": [
    "array1 = np.random.uniform(5,8,(2,3,4))\n",
    "\n",
    "print(array1)"
   ]
  },
  {
   "cell_type": "code",
   "execution_count": 50,
   "id": "835abcfe",
   "metadata": {},
   "outputs": [
    {
     "name": "stdout",
     "output_type": "stream",
     "text": [
      "0.543094003618957\n"
     ]
    }
   ],
   "source": [
    "#rand function - gives a random float value between 0 and 1 only. \n",
    "\n",
    "# Takes one optional parameter\n",
    "# 1. Size (Optional) - If integer provided then n number of samples in 1D array. If multiple integers separated by commas provided then\n",
    "# returns an array of that shape. \n",
    "\n",
    "array1 = np.random.rand()\n",
    "\n",
    "print(array1)"
   ]
  },
  {
   "cell_type": "code",
   "execution_count": 51,
   "id": "a2f666cd",
   "metadata": {},
   "outputs": [
    {
     "name": "stdout",
     "output_type": "stream",
     "text": [
      "[[[0.88185343 0.53000764 0.91561276 0.94807329]\n",
      "  [0.8092108  0.90057557 0.30319571 0.66142325]\n",
      "  [0.63784548 0.52706867 0.53146341 0.73783076]]\n",
      "\n",
      " [[0.44646076 0.34025375 0.21205035 0.25112684]\n",
      "  [0.03424372 0.03575773 0.39096046 0.2752693 ]\n",
      "  [0.46626158 0.95881378 0.46661471 0.93049876]]]\n"
     ]
    }
   ],
   "source": [
    "array1 = np.random.rand(2,3,4)\n",
    "\n",
    "print(array1)"
   ]
  },
  {
   "cell_type": "code",
   "execution_count": 60,
   "id": "9650c888",
   "metadata": {},
   "outputs": [],
   "source": [
    "#randn - gives random numbers from a normal distribution. Probabilities of obtaining a certain number follow the normal\n",
    "# distribution probabilities. \n",
    "\n",
    "# Roughly - 68% of the values will be between -1 to 1\n",
    "# Roughly - 95% of the values will be between -2 to 2, -2 to -1 and 1 to 2 - 27%\n",
    "# Roughly - 99.2%  of the values will be between -3 to 3, -3 to -2 and 2 to 3 - 4.2%\n",
    "# Roughly - 99.7% of the values will be between -4 to 4\n",
    "\n",
    "# Takes integers as optional parameters to define the shape. \n",
    "\n",
    "# If no shape provided will return a single float value.\n"
   ]
  },
  {
   "cell_type": "code",
   "execution_count": 55,
   "id": "e07cce87",
   "metadata": {},
   "outputs": [
    {
     "name": "stdout",
     "output_type": "stream",
     "text": [
      "0.07710525651736583\n"
     ]
    }
   ],
   "source": [
    "array1 = np.random.randn()\n",
    "\n",
    "print(array1)"
   ]
  },
  {
   "cell_type": "code",
   "execution_count": 57,
   "id": "33148eee",
   "metadata": {},
   "outputs": [
    {
     "name": "stdout",
     "output_type": "stream",
     "text": [
      "-0.8588236779460311\n"
     ]
    }
   ],
   "source": [
    "array1 = np.random.randn()\n",
    "\n",
    "print(array1)"
   ]
  },
  {
   "cell_type": "code",
   "execution_count": 58,
   "id": "e11e3631",
   "metadata": {},
   "outputs": [
    {
     "name": "stdout",
     "output_type": "stream",
     "text": [
      "[-1.67212223 -1.43815831  0.96382062 -0.25047264  0.47022349  0.17701083\n",
      "  1.0698899   0.0360226   2.75868596 -0.60701693]\n"
     ]
    }
   ],
   "source": [
    "array1 = np.random.randn(10)\n",
    "\n",
    "print(array1)"
   ]
  },
  {
   "cell_type": "code",
   "execution_count": 59,
   "id": "b41b0d2a",
   "metadata": {},
   "outputs": [
    {
     "name": "stdout",
     "output_type": "stream",
     "text": [
      "[[[ 0.01332022 -1.46479155  0.77011807 -1.31243235]\n",
      "  [-1.30743049 -0.54164557 -1.76475849  0.76422551]\n",
      "  [-0.26057017 -0.46604893 -0.88904441 -0.29982815]]\n",
      "\n",
      " [[ 2.06035101 -0.77646927  0.41705063 -0.47989882]\n",
      "  [-0.46972257 -0.43877784  0.07679384  0.96512016]\n",
      "  [ 0.31322349  0.25423966  0.18777767  1.71744826]]]\n"
     ]
    }
   ],
   "source": [
    "array1 = np.random.randn(2,3,4)\n",
    "\n",
    "print(array1)"
   ]
  },
  {
   "cell_type": "code",
   "execution_count": 72,
   "id": "e62480c7",
   "metadata": {},
   "outputs": [
    {
     "name": "stdout",
     "output_type": "stream",
     "text": [
      "[ 1  2  3  4  5  6  7  8  9 10]\n"
     ]
    }
   ],
   "source": [
    "# permutation - Gives one possible permutation of the given values.\n",
    "\n",
    "# Takes one mandatory parameter - lets call it X\n",
    "\n",
    "# 1. If X is an integer does 'np.arange(X)' and then permutates the given values. \n",
    "#    If X is an array then permutates the given array (1D or multiDimensional) along axis 0 only.\n",
    "\n",
    "array1 = np.arange(1,11)\n",
    "\n",
    "print(array1)"
   ]
  },
  {
   "cell_type": "code",
   "execution_count": 63,
   "id": "bbb45bf1",
   "metadata": {},
   "outputs": [
    {
     "name": "stdout",
     "output_type": "stream",
     "text": [
      "[ 3 10  7  2  9  8  6  4  1  5]\n"
     ]
    }
   ],
   "source": [
    "permArray1 = np.random.permutation(array1)\n",
    "\n",
    "\n",
    "print(permArray1)"
   ]
  },
  {
   "cell_type": "code",
   "execution_count": 68,
   "id": "58d0999b",
   "metadata": {},
   "outputs": [
    {
     "name": "stdout",
     "output_type": "stream",
     "text": [
      "[[[ 0  1]\n",
      "  [ 2  3]\n",
      "  [ 4  5]]\n",
      "\n",
      " [[ 6  7]\n",
      "  [ 8  9]\n",
      "  [10 11]]\n",
      "\n",
      " [[12 13]\n",
      "  [14 15]\n",
      "  [16 17]]\n",
      "\n",
      " [[18 19]\n",
      "  [20 21]\n",
      "  [22 23]]]\n"
     ]
    }
   ],
   "source": [
    "array1 = np.arange(24).reshape(4,3,2)\n",
    "\n",
    "print(array1)"
   ]
  },
  {
   "cell_type": "code",
   "execution_count": 69,
   "id": "40354cea",
   "metadata": {},
   "outputs": [
    {
     "name": "stdout",
     "output_type": "stream",
     "text": [
      "[[[12 13]\n",
      "  [14 15]\n",
      "  [16 17]]\n",
      "\n",
      " [[ 6  7]\n",
      "  [ 8  9]\n",
      "  [10 11]]\n",
      "\n",
      " [[ 0  1]\n",
      "  [ 2  3]\n",
      "  [ 4  5]]\n",
      "\n",
      " [[18 19]\n",
      "  [20 21]\n",
      "  [22 23]]]\n"
     ]
    }
   ],
   "source": [
    "arrayPerm1 = np.random.permutation(array1)\n",
    "\n",
    "print(arrayPerm1)"
   ]
  },
  {
   "cell_type": "code",
   "execution_count": 71,
   "id": "2e94f265",
   "metadata": {},
   "outputs": [
    {
     "name": "stdout",
     "output_type": "stream",
     "text": [
      "[16 18  4  0 13  9 12 24 22 10 19 21  5 14  3  1 15 17 23 11  8  6 20  2\n",
      "  7]\n"
     ]
    }
   ],
   "source": [
    "arrayPerm1 = np.random.permutation(25)\n",
    "\n",
    "print(arrayPerm1)"
   ]
  },
  {
   "cell_type": "code",
   "execution_count": 107,
   "id": "c99eb8e9",
   "metadata": {},
   "outputs": [
    {
     "name": "stdout",
     "output_type": "stream",
     "text": [
      "[75 84 15 57 61 85 54 89 62  5]\n"
     ]
    }
   ],
   "source": [
    "# choice - Chooses a random element from given elements\n",
    "\n",
    "# Takes the following parameters:\n",
    "\n",
    "#1. Integer or 1D Array to chose from - Mandatory. If integer provided then choses from np.arange(int). If 1D array provided\n",
    "# choses from the 1D array\n",
    "#2. Size - Optional - If not provided, choses one sample. If integer provided then outputs a 1D array with specified number\n",
    "# of elements. If tuple of shape provided outputs array of specified shape. \n",
    "#3. replace - Default is True i.e. will replace back the chose value in the original array and allow it to be chosen again. \n",
    "# If changed to false, then once chosen a value cannot be chosen a second time. \n",
    "# *Note - when replace = true, we can chose a size of elements bigger than original array. If replace = false, then obviously\n",
    "# we need to give a size <= len of original array. \n",
    "#4. p - Optional - Probabilities of chosing any particular value from the given array. Probabilities must always - \n",
    "# - Be given for every element existing in the array to be chosen from i.e. len p parameter must equal len input array. \n",
    "# - Must add up to 1 even though we are permitted to give 0 as probability for any particular value(s).\n",
    "\n",
    "\n",
    "\n",
    "array1 = np.random.randint(1,100,10)\n",
    "print(array1)"
   ]
  },
  {
   "cell_type": "code",
   "execution_count": 106,
   "id": "87e1ba48",
   "metadata": {},
   "outputs": [
    {
     "name": "stdout",
     "output_type": "stream",
     "text": [
      "2\n"
     ]
    }
   ],
   "source": [
    "arrayChoice = np.random.choice(array1)\n",
    "\n",
    "print(arrayChoice)"
   ]
  },
  {
   "cell_type": "code",
   "execution_count": 83,
   "id": "1d2918ff",
   "metadata": {},
   "outputs": [
    {
     "name": "stdout",
     "output_type": "stream",
     "text": [
      "['Sachin' 'Bharath' 'Apurv' 'Rashmika' 'Pushpa']\n",
      "Sachin\n"
     ]
    }
   ],
   "source": [
    "namesArray = np.array(['Sachin', 'Bharath', 'Apurv','Rashmika', 'Pushpa'])\n",
    "\n",
    "print(namesArray)\n",
    "\n",
    "arrayNamesChoice = np.random.choice(namesArray)\n",
    "\n",
    "print(arrayNamesChoice)"
   ]
  },
  {
   "cell_type": "code",
   "execution_count": 90,
   "id": "6e7e7865",
   "metadata": {},
   "outputs": [
    {
     "name": "stdout",
     "output_type": "stream",
     "text": [
      "['Pushpa' 'Sachin' 'Pushpa']\n"
     ]
    }
   ],
   "source": [
    "arrayNamesChoice = np.random.choice(namesArray,3)\n",
    "\n",
    "print(arrayNamesChoice)"
   ]
  },
  {
   "cell_type": "code",
   "execution_count": 91,
   "id": "d6f3e582",
   "metadata": {},
   "outputs": [
    {
     "name": "stdout",
     "output_type": "stream",
     "text": [
      "['Apurv' 'Apurv' 'Pushpa' 'Rashmika' 'Apurv' 'Pushpa' 'Rashmika' 'Pushpa'\n",
      " 'Apurv' 'Bharath']\n"
     ]
    }
   ],
   "source": [
    "arrayNamesChoice = np.random.choice(namesArray,10)\n",
    "\n",
    "print(arrayNamesChoice)"
   ]
  },
  {
   "cell_type": "code",
   "execution_count": 99,
   "id": "674834c6",
   "metadata": {},
   "outputs": [
    {
     "name": "stdout",
     "output_type": "stream",
     "text": [
      "['Rashmika' 'Apurv' 'Bharath']\n"
     ]
    }
   ],
   "source": [
    "arrayNamesChoice = np.random.choice(namesArray,3, replace = False)\n",
    "\n",
    "print(arrayNamesChoice)"
   ]
  },
  {
   "cell_type": "code",
   "execution_count": 103,
   "id": "9e6bef36",
   "metadata": {},
   "outputs": [
    {
     "name": "stdout",
     "output_type": "stream",
     "text": [
      "[[['Rashmika' 'Apurv' 'Bharath' 'Sachin']\n",
      "  ['Rashmika' 'Sachin' 'Rashmika' 'Bharath']\n",
      "  ['Bharath' 'Rashmika' 'Sachin' 'Bharath']]\n",
      "\n",
      " [['Apurv' 'Bharath' 'Rashmika' 'Bharath']\n",
      "  ['Bharath' 'Rashmika' 'Pushpa' 'Pushpa']\n",
      "  ['Bharath' 'Bharath' 'Bharath' 'Bharath']]]\n"
     ]
    }
   ],
   "source": [
    "arrayNamesChoice = np.random.choice(namesArray,(2,3,4), p=[0.1,0.4,0.15,0.30,0.05])\n",
    "\n",
    "print(arrayNamesChoice)"
   ]
  },
  {
   "cell_type": "code",
   "execution_count": 113,
   "id": "1fbd3fee",
   "metadata": {},
   "outputs": [
    {
     "name": "stdout",
     "output_type": "stream",
     "text": [
      "[[[ 1  1 12 17]\n",
      "  [13  9  2  2]\n",
      "  [19 11 14  4]]\n",
      "\n",
      " [[ 7  2 17  6]\n",
      "  [ 3 18  6  3]\n",
      "  [ 6 17  3 16]]]\n"
     ]
    }
   ],
   "source": [
    "# Unlike in lists where a slice is a new object completely, slice of an array is a view of original\n",
    "\n",
    "array1 = np.random.randint(1,20,(2,3,4))\n",
    "\n",
    "print(array1)"
   ]
  },
  {
   "cell_type": "code",
   "execution_count": 109,
   "id": "2790bc96",
   "metadata": {},
   "outputs": [
    {
     "name": "stdout",
     "output_type": "stream",
     "text": [
      "[[ 9  9]\n",
      " [11  8]]\n"
     ]
    }
   ],
   "source": [
    "array2 = array1[0,1:,1:3]\n",
    "\n",
    "print(array2)"
   ]
  },
  {
   "cell_type": "code",
   "execution_count": 110,
   "id": "4d6a766b",
   "metadata": {},
   "outputs": [
    {
     "name": "stdout",
     "output_type": "stream",
     "text": [
      "[[  9 900]\n",
      " [ 11   8]]\n",
      "[[[  8  10  11   4]\n",
      "  [ 10   9 900  12]\n",
      "  [ 18  11   8  19]]\n",
      "\n",
      " [[ 18  19  18   5]\n",
      "  [ 15  12   8  13]\n",
      "  [  2   1  17   1]]]\n"
     ]
    }
   ],
   "source": [
    "array2[0,1] = 900\n",
    "\n",
    "print(array2)\n",
    "print(array1)"
   ]
  },
  {
   "cell_type": "code",
   "execution_count": 111,
   "id": "7029b2d4",
   "metadata": {},
   "outputs": [
    {
     "name": "stdout",
     "output_type": "stream",
     "text": [
      "[[  9 900]\n",
      " [ 11   8]]\n"
     ]
    }
   ],
   "source": [
    "array3 = array1[0,1:,1:3].copy()\n",
    "\n",
    "print(array3)"
   ]
  },
  {
   "cell_type": "code",
   "execution_count": 112,
   "id": "db836f09",
   "metadata": {},
   "outputs": [
    {
     "name": "stdout",
     "output_type": "stream",
     "text": [
      "[[  9 999]\n",
      " [ 11   8]]\n",
      "[[[  8  10  11   4]\n",
      "  [ 10   9 900  12]\n",
      "  [ 18  11   8  19]]\n",
      "\n",
      " [[ 18  19  18   5]\n",
      "  [ 15  12   8  13]\n",
      "  [  2   1  17   1]]]\n"
     ]
    }
   ],
   "source": [
    "array3[0,1] = 999\n",
    "\n",
    "print(array3)\n",
    "print(array1)"
   ]
  },
  {
   "cell_type": "code",
   "execution_count": 114,
   "id": "15428fbe",
   "metadata": {},
   "outputs": [
    {
     "name": "stdout",
     "output_type": "stream",
     "text": [
      "2871493809328\n",
      "2871493810576\n",
      "2871493810480\n"
     ]
    }
   ],
   "source": [
    "print(id(array1))\n",
    "print(id(array2))\n",
    "print(id(array3))"
   ]
  },
  {
   "cell_type": "code",
   "execution_count": 116,
   "id": "b38fac9f",
   "metadata": {},
   "outputs": [
    {
     "name": "stdout",
     "output_type": "stream",
     "text": [
      "[0 1 2 3 4 5 6 7 8 9]\n",
      "[11 12 13 14 15 16 17 18 19]\n",
      "[ 0  1  2  3  4  5  6  7  8  9 11 12 13 14 15 16 17 18 19]\n"
     ]
    }
   ],
   "source": [
    "# append function - takes two array-like objects and appends the elements of the second to the first. \n",
    "\n",
    "# Takes an optional parameter - axis\n",
    "\n",
    "#1. Axis = If no axis specified, flattens a multi-dimensional array and appends the elements from 2nd array to first. \n",
    "# If Axis specified, the appends the elements of specified axis from 2nd array to elements of specified axis from 1st array. \n",
    "\n",
    "array1 = np.arange(10)\n",
    "array2 = np.arange(11,20)\n",
    "\n",
    "print(array1)\n",
    "print(array2)\n",
    "\n",
    "array3 = np.append(array1,array2)\n",
    "\n",
    "print(array3)"
   ]
  },
  {
   "cell_type": "code",
   "execution_count": 119,
   "id": "d4c30a7b",
   "metadata": {},
   "outputs": [
    {
     "name": "stdout",
     "output_type": "stream",
     "text": [
      "Array1 \n",
      "-----------------------------------------------------------------------------------------------------------------------------\n",
      " [[[ 0  1  2  3]\n",
      "  [ 4  5  6  7]\n",
      "  [ 8  9 10 11]]\n",
      "\n",
      " [[12 13 14 15]\n",
      "  [16 17 18 19]\n",
      "  [20 21 22 23]]]\n",
      "Array2 \n",
      "-----------------------------------------------------------------------------------------------------------------------------\n",
      " [[[  1  11  21  31]\n",
      "  [ 41  51  61  71]\n",
      "  [ 81  91 101 111]]\n",
      "\n",
      " [[121 131 141 151]\n",
      "  [161 171 181 191]\n",
      "  [201 211 221 231]]]\n"
     ]
    }
   ],
   "source": [
    "array1 = np.arange(24).reshape(2,3,4)\n",
    "array2 = np.arange(1,241,10).reshape(2,3,4)\n",
    "\n",
    "print('Array1 \\n' + '-'*125 + '\\n',array1)\n",
    "print('Array2 \\n' + '-'*125 + '\\n',array2)"
   ]
  },
  {
   "cell_type": "code",
   "execution_count": 120,
   "id": "03aefd4f",
   "metadata": {},
   "outputs": [
    {
     "name": "stdout",
     "output_type": "stream",
     "text": [
      "[  0   1   2   3   4   5   6   7   8   9  10  11  12  13  14  15  16  17\n",
      "  18  19  20  21  22  23   1  11  21  31  41  51  61  71  81  91 101 111\n",
      " 121 131 141 151 161 171 181 191 201 211 221 231]\n"
     ]
    }
   ],
   "source": [
    "array3 = np.append(array1, array2)\n",
    "\n",
    "print(array3)"
   ]
  },
  {
   "cell_type": "code",
   "execution_count": 121,
   "id": "17aa21c3",
   "metadata": {},
   "outputs": [
    {
     "name": "stdout",
     "output_type": "stream",
     "text": [
      "[[[  0   1   2   3]\n",
      "  [  4   5   6   7]\n",
      "  [  8   9  10  11]]\n",
      "\n",
      " [[ 12  13  14  15]\n",
      "  [ 16  17  18  19]\n",
      "  [ 20  21  22  23]]\n",
      "\n",
      " [[  1  11  21  31]\n",
      "  [ 41  51  61  71]\n",
      "  [ 81  91 101 111]]\n",
      "\n",
      " [[121 131 141 151]\n",
      "  [161 171 181 191]\n",
      "  [201 211 221 231]]]\n"
     ]
    }
   ],
   "source": [
    "array4 = np.append(array1, array2, axis = 0)\n",
    "\n",
    "print(array4)"
   ]
  },
  {
   "cell_type": "code",
   "execution_count": 122,
   "id": "42e343b5",
   "metadata": {},
   "outputs": [
    {
     "name": "stdout",
     "output_type": "stream",
     "text": [
      "[[[  0   1   2   3]\n",
      "  [  4   5   6   7]\n",
      "  [  8   9  10  11]\n",
      "  [  1  11  21  31]\n",
      "  [ 41  51  61  71]\n",
      "  [ 81  91 101 111]]\n",
      "\n",
      " [[ 12  13  14  15]\n",
      "  [ 16  17  18  19]\n",
      "  [ 20  21  22  23]\n",
      "  [121 131 141 151]\n",
      "  [161 171 181 191]\n",
      "  [201 211 221 231]]]\n"
     ]
    }
   ],
   "source": [
    "array4 = np.append(array1, array2, axis = 1)\n",
    "\n",
    "print(array4)"
   ]
  },
  {
   "cell_type": "code",
   "execution_count": 124,
   "id": "196ed8c3",
   "metadata": {},
   "outputs": [
    {
     "name": "stdout",
     "output_type": "stream",
     "text": [
      "Array1 \n",
      "-----------------------------------------------------------------------------------------------------------------------------\n",
      " [[[ 0  1  2  3]\n",
      "  [ 4  5  6  7]\n",
      "  [ 8  9 10 11]]\n",
      "\n",
      " [[12 13 14 15]\n",
      "  [16 17 18 19]\n",
      "  [20 21 22 23]]]\n",
      "Array2 \n",
      "-----------------------------------------------------------------------------------------------------------------------------\n",
      " [[[  1  11  21  31]\n",
      "  [ 41  51  61  71]\n",
      "  [ 81  91 101 111]]\n",
      "\n",
      " [[121 131 141 151]\n",
      "  [161 171 181 191]\n",
      "  [201 211 221 231]]]\n"
     ]
    }
   ],
   "source": [
    "array1 = np.arange(24).reshape(2,3,4)\n",
    "array2 = np.arange(1,241,10).reshape(2,3,4)\n",
    "\n",
    "print('Array1 \\n' + '-'*125 + '\\n',array1)\n",
    "print('Array2 \\n' + '-'*125 + '\\n',array2)"
   ]
  },
  {
   "cell_type": "code",
   "execution_count": 123,
   "id": "ff1e05b3",
   "metadata": {},
   "outputs": [
    {
     "name": "stdout",
     "output_type": "stream",
     "text": [
      "[[[  0   1   2   3   1  11  21  31]\n",
      "  [  4   5   6   7  41  51  61  71]\n",
      "  [  8   9  10  11  81  91 101 111]]\n",
      "\n",
      " [[ 12  13  14  15 121 131 141 151]\n",
      "  [ 16  17  18  19 161 171 181 191]\n",
      "  [ 20  21  22  23 201 211 221 231]]]\n"
     ]
    }
   ],
   "source": [
    "array4 = np.append(array1, array2, axis = 2)\n",
    "\n",
    "print(array4)"
   ]
  },
  {
   "cell_type": "code",
   "execution_count": 126,
   "id": "ec9d14da",
   "metadata": {},
   "outputs": [
    {
     "name": "stdout",
     "output_type": "stream",
     "text": [
      "[[[  0   1   2   3]\n",
      "  [  4   5   6   7]\n",
      "  [  8   9  10  11]]\n",
      "\n",
      " [[ 12  13  14  15]\n",
      "  [ 16  17  18  19]\n",
      "  [ 20  21  22  23]]\n",
      "\n",
      " [[  1  11  21  31]\n",
      "  [ 41  51  61  71]\n",
      "  [ 81  91 101 111]]\n",
      "\n",
      " [[121 131 141 151]\n",
      "  [161 171 181 191]\n",
      "  [201 211 221 231]]]\n"
     ]
    }
   ],
   "source": [
    "# vstack = np.append(array1,array2, axis = 0)\n",
    "\n",
    "array5 = np.vstack((array1,array2))\n",
    "\n",
    "print(array5)"
   ]
  },
  {
   "cell_type": "code",
   "execution_count": 127,
   "id": "dca4894d",
   "metadata": {},
   "outputs": [
    {
     "name": "stdout",
     "output_type": "stream",
     "text": [
      "[[[  0   1   2   3]\n",
      "  [  4   5   6   7]\n",
      "  [  8   9  10  11]\n",
      "  [  1  11  21  31]\n",
      "  [ 41  51  61  71]\n",
      "  [ 81  91 101 111]]\n",
      "\n",
      " [[ 12  13  14  15]\n",
      "  [ 16  17  18  19]\n",
      "  [ 20  21  22  23]\n",
      "  [121 131 141 151]\n",
      "  [161 171 181 191]\n",
      "  [201 211 221 231]]]\n"
     ]
    }
   ],
   "source": [
    "# hstack - np.append(array1,array2, axis = 1)\n",
    "\n",
    "array6 = np.hstack((array1,array2))\n",
    "\n",
    "print(array6)\n"
   ]
  },
  {
   "cell_type": "code",
   "execution_count": 128,
   "id": "dbf9760c",
   "metadata": {},
   "outputs": [
    {
     "name": "stdout",
     "output_type": "stream",
     "text": [
      "[22 15 20  6 16  0 23 18 17  9 14 19  7 13 10 12 21 11  3  8  5  1  4  2]\n"
     ]
    }
   ],
   "source": [
    "# sort - sorts the arrays on specified axis. By default 0 axis.\n",
    "\n",
    "array1 = np.random.choice(24, 24, replace = False)\n",
    "\n",
    "print(array1)"
   ]
  },
  {
   "cell_type": "code",
   "execution_count": 130,
   "id": "f3de5135",
   "metadata": {},
   "outputs": [
    {
     "name": "stdout",
     "output_type": "stream",
     "text": [
      "[ 0  1  2  3  4  5  6  7  8  9 10 11 12 13 14 15 16 17 18 19 20 21 22 23]\n"
     ]
    }
   ],
   "source": [
    "array2 = np.sort(array1)\n",
    "\n",
    "print(array2)"
   ]
  },
  {
   "cell_type": "code",
   "execution_count": 131,
   "id": "37aa5221",
   "metadata": {},
   "outputs": [
    {
     "name": "stdout",
     "output_type": "stream",
     "text": [
      "[[[ 1 10 12 23]\n",
      "  [11  7 18  6]\n",
      "  [ 8 21 19 22]]\n",
      "\n",
      " [[ 5 20  3 15]\n",
      "  [ 9 16 14 13]\n",
      "  [ 2  0  4 17]]]\n"
     ]
    }
   ],
   "source": [
    "array1 = np.random.choice(24, 24, replace = False).reshape(2,3,4)\n",
    "print(array1)"
   ]
  },
  {
   "cell_type": "code",
   "execution_count": 132,
   "id": "59172ed9",
   "metadata": {},
   "outputs": [
    {
     "name": "stdout",
     "output_type": "stream",
     "text": [
      "[[[ 1 10  3 15]\n",
      "  [ 9  7 14  6]\n",
      "  [ 2  0  4 17]]\n",
      "\n",
      " [[ 5 20 12 23]\n",
      "  [11 16 18 13]\n",
      "  [ 8 21 19 22]]]\n"
     ]
    }
   ],
   "source": [
    "array3 = np.sort(array1, axis = 0)\n",
    "\n",
    "print(array3)"
   ]
  },
  {
   "cell_type": "code",
   "execution_count": 133,
   "id": "2d312b7b",
   "metadata": {},
   "outputs": [
    {
     "name": "stdout",
     "output_type": "stream",
     "text": [
      "[[[ 1  7 12  6]\n",
      "  [ 8 10 18 22]\n",
      "  [11 21 19 23]]\n",
      "\n",
      " [[ 2  0  3 13]\n",
      "  [ 5 16  4 15]\n",
      "  [ 9 20 14 17]]]\n"
     ]
    }
   ],
   "source": [
    "array3 = np.sort(array1, axis = 1)\n",
    "\n",
    "print(array3)"
   ]
  },
  {
   "cell_type": "code",
   "execution_count": 134,
   "id": "2c75941a",
   "metadata": {},
   "outputs": [
    {
     "name": "stdout",
     "output_type": "stream",
     "text": [
      "[[[ 1 10 12 23]\n",
      "  [ 6  7 11 18]\n",
      "  [ 8 19 21 22]]\n",
      "\n",
      " [[ 3  5 15 20]\n",
      "  [ 9 13 14 16]\n",
      "  [ 0  2  4 17]]]\n"
     ]
    }
   ],
   "source": [
    "array3 = np.sort(array1, axis = 2)\n",
    "\n",
    "print(array3)"
   ]
  },
  {
   "cell_type": "code",
   "execution_count": 139,
   "id": "52213cd4",
   "metadata": {},
   "outputs": [
    {
     "name": "stdout",
     "output_type": "stream",
     "text": [
      "[ 1 11 21 31 41 51 61 71 81 91]\n"
     ]
    }
   ],
   "source": [
    "# insert - inserts values provided in the array on specific index positions.\n",
    "\n",
    "array1 = np.arange(1,101,10)\n",
    "\n",
    "print(array1)\n",
    "\n"
   ]
  },
  {
   "cell_type": "code",
   "execution_count": 136,
   "id": "9e6ddf1f",
   "metadata": {},
   "outputs": [
    {
     "name": "stdout",
     "output_type": "stream",
     "text": [
      "[  0   1   2   3 100   4   5   6   7   8   9]\n"
     ]
    }
   ],
   "source": [
    "array2 = np.insert(array1,4,100)\n",
    "\n",
    "print(array2)"
   ]
  },
  {
   "cell_type": "code",
   "execution_count": 140,
   "id": "1701dc0f",
   "metadata": {},
   "outputs": [
    {
     "name": "stdout",
     "output_type": "stream",
     "text": [
      "[   1   11   21   31 1001   41   51 1002   61   71 1003   81   91]\n"
     ]
    }
   ],
   "source": [
    "array3 = np.insert(array1,[4,6,8], [1001,1002,1003])\n",
    "\n",
    "print(array3)"
   ]
  },
  {
   "cell_type": "code",
   "execution_count": 141,
   "id": "1d57c14f",
   "metadata": {},
   "outputs": [
    {
     "name": "stdout",
     "output_type": "stream",
     "text": [
      "[[[ 0  1  2  3]\n",
      "  [ 4  5  6  7]\n",
      "  [ 8  9 10 11]]\n",
      "\n",
      " [[12 13 14 15]\n",
      "  [16 17 18 19]\n",
      "  [20 21 22 23]]]\n"
     ]
    }
   ],
   "source": [
    "array3D = np.arange(24).reshape(2,3,4)\n",
    "\n",
    "print(array3D)"
   ]
  },
  {
   "cell_type": "code",
   "execution_count": 143,
   "id": "77ef1281",
   "metadata": {},
   "outputs": [
    {
     "name": "stdout",
     "output_type": "stream",
     "text": [
      "[[35 38 41 33]\n",
      " [28 42 45 26]\n",
      " [28 49 39 46]]\n"
     ]
    }
   ],
   "source": [
    "Ax0 = np.random.randint(25,50,12).reshape(3,4)\n",
    "\n",
    "print(Ax0)\n"
   ]
  },
  {
   "cell_type": "code",
   "execution_count": 144,
   "id": "ed95644d",
   "metadata": {},
   "outputs": [
    {
     "name": "stdout",
     "output_type": "stream",
     "text": [
      "[[[ 0  1  2  3]\n",
      "  [ 4  5  6  7]\n",
      "  [ 8  9 10 11]]\n",
      "\n",
      " [[35 38 41 33]\n",
      "  [28 42 45 26]\n",
      "  [28 49 39 46]]\n",
      "\n",
      " [[12 13 14 15]\n",
      "  [16 17 18 19]\n",
      "  [20 21 22 23]]]\n"
     ]
    }
   ],
   "source": [
    "array3DAx0 = np.insert(array3D, 1, Ax0, axis = 0)\n",
    "\n",
    "print(array3DAx0)"
   ]
  },
  {
   "cell_type": "code",
   "execution_count": 145,
   "id": "8286fa89",
   "metadata": {},
   "outputs": [
    {
     "name": "stdout",
     "output_type": "stream",
     "text": [
      "[[46 49 42 43]\n",
      " [46 30 46 40]]\n"
     ]
    }
   ],
   "source": [
    "Ax1 = np.random.randint(25,50,8).reshape(2,4)\n",
    "\n",
    "print(Ax1)"
   ]
  },
  {
   "cell_type": "code",
   "execution_count": 146,
   "id": "65abe8e9",
   "metadata": {},
   "outputs": [
    {
     "name": "stdout",
     "output_type": "stream",
     "text": [
      "[[[ 0  1  2  3]\n",
      "  [ 4  5  6  7]\n",
      "  [46 49 42 43]\n",
      "  [ 8  9 10 11]]\n",
      "\n",
      " [[12 13 14 15]\n",
      "  [16 17 18 19]\n",
      "  [46 30 46 40]\n",
      "  [20 21 22 23]]]\n"
     ]
    }
   ],
   "source": [
    "array3DAx1 = np.insert(array3D, 2,Ax1, axis = 1)\n",
    "\n",
    "print(array3DAx1)"
   ]
  },
  {
   "cell_type": "code",
   "execution_count": 147,
   "id": "a1859bde",
   "metadata": {},
   "outputs": [
    {
     "name": "stdout",
     "output_type": "stream",
     "text": [
      "[[30 38 25]\n",
      " [25 37 43]]\n"
     ]
    }
   ],
   "source": [
    "Ax2 = np.random.randint(25,50,6).reshape(2,3)\n",
    "\n",
    "print(Ax2)"
   ]
  },
  {
   "cell_type": "code",
   "execution_count": 148,
   "id": "db835bc0",
   "metadata": {},
   "outputs": [
    {
     "name": "stdout",
     "output_type": "stream",
     "text": [
      "[[[30  0  1  2  3]\n",
      "  [38  4  5  6  7]\n",
      "  [25  8  9 10 11]]\n",
      "\n",
      " [[25 12 13 14 15]\n",
      "  [37 16 17 18 19]\n",
      "  [43 20 21 22 23]]]\n"
     ]
    }
   ],
   "source": [
    "array3DAx2 = np.insert(array3D, 0, Ax2, axis = 2)\n",
    "\n",
    "print(array3DAx2)"
   ]
  },
  {
   "cell_type": "code",
   "execution_count": null,
   "id": "a9eadce1",
   "metadata": {},
   "outputs": [],
   "source": [
    "# 2,3,4\n",
    "\n",
    "# Axis 0 = 3,4\n",
    "# Axis 1 = 2,4\n",
    "# Axis 2 = 2,3"
   ]
  },
  {
   "cell_type": "code",
   "execution_count": 149,
   "id": "ea6939d1",
   "metadata": {},
   "outputs": [],
   "source": [
    "# Transpose"
   ]
  },
  {
   "cell_type": "code",
   "execution_count": 150,
   "id": "6c26abb7",
   "metadata": {},
   "outputs": [
    {
     "name": "stdout",
     "output_type": "stream",
     "text": [
      "[[ 0  1  2  3]\n",
      " [ 4  5  6  7]\n",
      " [ 8  9 10 11]]\n"
     ]
    }
   ],
   "source": [
    "array1 = np.arange(12).reshape(3,4)\n",
    "\n",
    "print(array1)"
   ]
  },
  {
   "cell_type": "code",
   "execution_count": 151,
   "id": "dd9a7c92",
   "metadata": {},
   "outputs": [
    {
     "name": "stdout",
     "output_type": "stream",
     "text": [
      "[[ 0  4  8]\n",
      " [ 1  5  9]\n",
      " [ 2  6 10]\n",
      " [ 3  7 11]]\n"
     ]
    }
   ],
   "source": [
    "array2 = array1.transpose()\n",
    "\n",
    "print(array2)"
   ]
  },
  {
   "cell_type": "code",
   "execution_count": 152,
   "id": "051b8039",
   "metadata": {},
   "outputs": [
    {
     "name": "stdout",
     "output_type": "stream",
     "text": [
      "[[[ 0  1  2  3]\n",
      "  [ 4  5  6  7]\n",
      "  [ 8  9 10 11]]\n",
      "\n",
      " [[12 13 14 15]\n",
      "  [16 17 18 19]\n",
      "  [20 21 22 23]]]\n"
     ]
    }
   ],
   "source": [
    "array1 = np.arange(24).reshape(2,3,4)\n",
    "\n",
    "print(array1)"
   ]
  },
  {
   "cell_type": "code",
   "execution_count": 153,
   "id": "8acef620",
   "metadata": {},
   "outputs": [
    {
     "name": "stdout",
     "output_type": "stream",
     "text": [
      "[[[ 0  1  2  3]\n",
      "  [12 13 14 15]]\n",
      "\n",
      " [[ 4  5  6  7]\n",
      "  [16 17 18 19]]\n",
      "\n",
      " [[ 8  9 10 11]\n",
      "  [20 21 22 23]]]\n"
     ]
    }
   ],
   "source": [
    "array3 = array1.transpose(1,0,2)\n",
    "\n",
    "print(array3)"
   ]
  },
  {
   "cell_type": "code",
   "execution_count": 154,
   "id": "c011a6ad",
   "metadata": {},
   "outputs": [
    {
     "name": "stdout",
     "output_type": "stream",
     "text": [
      "[[[ 0 12]\n",
      "  [ 1 13]\n",
      "  [ 2 14]\n",
      "  [ 3 15]]\n",
      "\n",
      " [[ 4 16]\n",
      "  [ 5 17]\n",
      "  [ 6 18]\n",
      "  [ 7 19]]\n",
      "\n",
      " [[ 8 20]\n",
      "  [ 9 21]\n",
      "  [10 22]\n",
      "  [11 23]]]\n"
     ]
    }
   ],
   "source": [
    "array4 = array1.transpose(1,2,0)\n",
    "\n",
    "print(array4)"
   ]
  },
  {
   "cell_type": "code",
   "execution_count": null,
   "id": "1171c499",
   "metadata": {},
   "outputs": [],
   "source": [
    "### datetime64 module"
   ]
  },
  {
   "cell_type": "code",
   "execution_count": 168,
   "id": "5877a10b",
   "metadata": {},
   "outputs": [
    {
     "name": "stdout",
     "output_type": "stream",
     "text": [
      "2023-09-27\n",
      "<class 'numpy.datetime64'>\n",
      "datetime64[D]\n"
     ]
    }
   ],
   "source": [
    "arrayDate = np.datetime64('2023-09-27')\n",
    "\n",
    "print(arrayDate)\n",
    "print(type(arrayDate))\n",
    "print(arrayDate.dtype)"
   ]
  },
  {
   "cell_type": "code",
   "execution_count": 156,
   "id": "9e309071",
   "metadata": {},
   "outputs": [
    {
     "name": "stdout",
     "output_type": "stream",
     "text": [
      "2023-10-02\n"
     ]
    }
   ],
   "source": [
    "print(arrayDate+5)"
   ]
  },
  {
   "cell_type": "code",
   "execution_count": 162,
   "id": "34332038",
   "metadata": {},
   "outputs": [
    {
     "name": "stdout",
     "output_type": "stream",
     "text": [
      "2023-09-27T09:50:59.999\n",
      "<class 'numpy.datetime64'>\n"
     ]
    }
   ],
   "source": [
    "# Standard format for input to a datetime64 function is: \n",
    "\n",
    "# YYYY-MM-DDThh:mm:ss.ms\n",
    "\n",
    "# You can truncate the input and exclude inputting 'T' but otherwise format HAS to be as above specified. \n",
    "\n",
    "\n",
    "arrayTime = np.datetime64('2023-09-27 09:50:59.999')\n",
    "\n",
    "print(arrayTime)\n",
    "print(type(arrayTime))"
   ]
  },
  {
   "cell_type": "code",
   "execution_count": 167,
   "id": "bfa1ebf6",
   "metadata": {},
   "outputs": [
    {
     "name": "stdout",
     "output_type": "stream",
     "text": [
      "2023-09-27T09:50\n",
      "<class 'numpy.datetime64'>\n",
      "datetime64[m]\n"
     ]
    }
   ],
   "source": [
    "arrayTime = np.datetime64('2023-09-27 09:50')\n",
    "print(arrayTime)\n",
    "print(type(arrayTime))\n",
    "print(arrayTime.dtype)"
   ]
  },
  {
   "cell_type": "code",
   "execution_count": 170,
   "id": "2a56aec6",
   "metadata": {},
   "outputs": [
    {
     "name": "stdout",
     "output_type": "stream",
     "text": [
      "2023-09-27T09\n",
      "<class 'numpy.datetime64'>\n",
      "datetime64[h]\n"
     ]
    }
   ],
   "source": [
    "arrayTime = np.datetime64('2023-09-27 09')\n",
    "print(arrayTime)\n",
    "print(type(arrayTime))\n",
    "\n",
    "print(arrayTime.dtype)"
   ]
  },
  {
   "cell_type": "code",
   "execution_count": 171,
   "id": "b6af1ae8",
   "metadata": {},
   "outputs": [
    {
     "name": "stdout",
     "output_type": "stream",
     "text": [
      "2023-09-27T14\n"
     ]
    }
   ],
   "source": [
    "arrayTimeNew = arrayTime+5\n",
    "\n",
    "print(arrayTimeNew)"
   ]
  },
  {
   "cell_type": "code",
   "execution_count": null,
   "id": "1bedc6a9",
   "metadata": {},
   "outputs": [],
   "source": [
    "# Common abbreviations are givin below\n",
    "\n",
    "# Abbreviation - Meaning\n",
    "# Y            - Years\n",
    "# M            - Months\n",
    "# D            - Days\n",
    "# W            - Weeks\n",
    "# h            - Hours\n",
    "# m            - Minutes\n",
    "# s            - Seconds\n"
   ]
  },
  {
   "cell_type": "code",
   "execution_count": 174,
   "id": "0b51c7b9",
   "metadata": {},
   "outputs": [
    {
     "name": "stdout",
     "output_type": "stream",
     "text": [
      "5 days\n",
      "<class 'numpy.timedelta64'>\n",
      "timedelta64[D]\n"
     ]
    }
   ],
   "source": [
    "#timedelta64\n",
    "\n",
    "\n",
    "TimeD = np.timedelta64(5,'D')\n",
    "\n",
    "print(TimeD)\n",
    "print(type(TimeD))\n",
    "print(TimeD.dtype)"
   ]
  },
  {
   "cell_type": "code",
   "execution_count": 176,
   "id": "2084ab36",
   "metadata": {},
   "outputs": [
    {
     "name": "stdout",
     "output_type": "stream",
     "text": [
      "2023-10-02T09\n"
     ]
    }
   ],
   "source": [
    "arrayTimeNew = arrayTime + np.timedelta64(5,'D')\n",
    "\n",
    "print(arrayTimeNew)\n",
    "\n"
   ]
  },
  {
   "cell_type": "code",
   "execution_count": 178,
   "id": "7531f5d3",
   "metadata": {},
   "outputs": [
    {
     "name": "stdout",
     "output_type": "stream",
     "text": [
      "2023-09-27T09:05\n"
     ]
    }
   ],
   "source": [
    "arrayTimeNew = arrayTime + np.timedelta64(5,'m')\n",
    "\n",
    "print(arrayTimeNew)\n"
   ]
  },
  {
   "cell_type": "code",
   "execution_count": 177,
   "id": "037f8ca8",
   "metadata": {},
   "outputs": [
    {
     "ename": "UFuncTypeError",
     "evalue": "Cannot cast ufunc 'add' input 1 from dtype('<m8[Y]') to dtype('<m8[h]') with casting rule 'same_kind'",
     "output_type": "error",
     "traceback": [
      "\u001b[1;31m---------------------------------------------------------------------------\u001b[0m",
      "\u001b[1;31mUFuncTypeError\u001b[0m                            Traceback (most recent call last)",
      "\u001b[1;32m~\\AppData\\Local\\Temp\\ipykernel_21708\\3732756296.py\u001b[0m in \u001b[0;36m<module>\u001b[1;34m\u001b[0m\n\u001b[1;32m----> 1\u001b[1;33m \u001b[0marrayTimeYear\u001b[0m \u001b[1;33m=\u001b[0m \u001b[0marrayTime\u001b[0m \u001b[1;33m+\u001b[0m \u001b[0mnp\u001b[0m\u001b[1;33m.\u001b[0m\u001b[0mtimedelta64\u001b[0m\u001b[1;33m(\u001b[0m\u001b[1;36m2\u001b[0m\u001b[1;33m,\u001b[0m\u001b[1;34m'Y'\u001b[0m\u001b[1;33m)\u001b[0m\u001b[1;33m\u001b[0m\u001b[1;33m\u001b[0m\u001b[0m\n\u001b[0m\u001b[0;32m      2\u001b[0m \u001b[1;33m\u001b[0m\u001b[0m\n\u001b[0;32m      3\u001b[0m \u001b[0mprint\u001b[0m\u001b[1;33m(\u001b[0m\u001b[0marrayTimeYear\u001b[0m\u001b[1;33m)\u001b[0m\u001b[1;33m\u001b[0m\u001b[1;33m\u001b[0m\u001b[0m\n",
      "\u001b[1;31mUFuncTypeError\u001b[0m: Cannot cast ufunc 'add' input 1 from dtype('<m8[Y]') to dtype('<m8[h]') with casting rule 'same_kind'"
     ]
    }
   ],
   "source": [
    "arrayTimeYear = arrayTime + np.timedelta64(2,'Y')\n",
    "\n",
    "print(arrayTimeYear)"
   ]
  },
  {
   "cell_type": "code",
   "execution_count": 179,
   "id": "c6401d3c",
   "metadata": {},
   "outputs": [
    {
     "ename": "UFuncTypeError",
     "evalue": "Cannot cast ufunc 'add' input 1 from dtype('<m8[M]') to dtype('<m8[h]') with casting rule 'same_kind'",
     "output_type": "error",
     "traceback": [
      "\u001b[1;31m---------------------------------------------------------------------------\u001b[0m",
      "\u001b[1;31mUFuncTypeError\u001b[0m                            Traceback (most recent call last)",
      "\u001b[1;32m~\\AppData\\Local\\Temp\\ipykernel_21708\\745734855.py\u001b[0m in \u001b[0;36m<module>\u001b[1;34m\u001b[0m\n\u001b[1;32m----> 1\u001b[1;33m \u001b[0marrayTimeYear\u001b[0m \u001b[1;33m=\u001b[0m \u001b[0marrayTime\u001b[0m \u001b[1;33m+\u001b[0m \u001b[0mnp\u001b[0m\u001b[1;33m.\u001b[0m\u001b[0mtimedelta64\u001b[0m\u001b[1;33m(\u001b[0m\u001b[1;36m2\u001b[0m\u001b[1;33m,\u001b[0m\u001b[1;34m'M'\u001b[0m\u001b[1;33m)\u001b[0m\u001b[1;33m\u001b[0m\u001b[1;33m\u001b[0m\u001b[0m\n\u001b[0m\u001b[0;32m      2\u001b[0m \u001b[1;33m\u001b[0m\u001b[0m\n\u001b[0;32m      3\u001b[0m \u001b[0mprint\u001b[0m\u001b[1;33m(\u001b[0m\u001b[0marrayTimeYear\u001b[0m\u001b[1;33m)\u001b[0m\u001b[1;33m\u001b[0m\u001b[1;33m\u001b[0m\u001b[0m\n",
      "\u001b[1;31mUFuncTypeError\u001b[0m: Cannot cast ufunc 'add' input 1 from dtype('<m8[M]') to dtype('<m8[h]') with casting rule 'same_kind'"
     ]
    }
   ],
   "source": [
    "arrayTimeYear = arrayTime + np.timedelta64(2,'M')\n",
    "\n",
    "print(arrayTimeYear)"
   ]
  },
  {
   "cell_type": "code",
   "execution_count": 180,
   "id": "d93bc265",
   "metadata": {},
   "outputs": [
    {
     "name": "stdout",
     "output_type": "stream",
     "text": [
      "2023-09\n"
     ]
    }
   ],
   "source": [
    "arrayMonth = np.datetime64('2023-09')\n",
    "\n",
    "print(arrayMonth)"
   ]
  },
  {
   "cell_type": "code",
   "execution_count": 184,
   "id": "e459f11a",
   "metadata": {},
   "outputs": [
    {
     "name": "stdout",
     "output_type": "stream",
     "text": [
      "2025-09\n"
     ]
    }
   ],
   "source": [
    "arrayYear = arrayMonth + np.timedelta64(2,'Y')\n",
    "\n",
    "print(arrayYear)"
   ]
  },
  {
   "cell_type": "code",
   "execution_count": 185,
   "id": "5d72179d",
   "metadata": {},
   "outputs": [
    {
     "name": "stdout",
     "output_type": "stream",
     "text": [
      "2023-09-27\n"
     ]
    }
   ],
   "source": [
    "arrayToday = np.datetime64('today')\n",
    "\n",
    "print(arrayToday)"
   ]
  },
  {
   "cell_type": "code",
   "execution_count": 3,
   "id": "fa7ac930",
   "metadata": {},
   "outputs": [
    {
     "name": "stdout",
     "output_type": "stream",
     "text": [
      "False\n"
     ]
    }
   ],
   "source": [
    "#is_busday\n",
    "import numpy as np\n",
    "print(np.is_busday(np.datetime64('2023-09-30')))"
   ]
  },
  {
   "cell_type": "code",
   "execution_count": null,
   "id": "74460866",
   "metadata": {},
   "outputs": [],
   "source": [
    "# weekmask defaults to [1,1,1,1,1,0,0] - list (Starts with Monday and ends with Sunday)\n",
    "# Can also be written as '1111100' - string of 1s and 0s for True and False\n",
    "# Or - 'Mon Tue Wed Thu Fri Sat Sun' - Three letter abbreviation string"
   ]
  },
  {
   "cell_type": "code",
   "execution_count": 5,
   "id": "c0c2e9c4",
   "metadata": {},
   "outputs": [
    {
     "name": "stdout",
     "output_type": "stream",
     "text": [
      "True\n"
     ]
    }
   ],
   "source": [
    "bday = np.is_busday(np.datetime64('2023-09-30'),weekmask = [1,1,1,1,1,1,0])\n",
    "\n",
    "print(bday)"
   ]
  },
  {
   "cell_type": "code",
   "execution_count": 7,
   "id": "53b09468",
   "metadata": {},
   "outputs": [
    {
     "name": "stdout",
     "output_type": "stream",
     "text": [
      "True\n"
     ]
    }
   ],
   "source": [
    "bday = np.is_busday(np.datetime64('2023-09-30'),weekmask = 'Mon Tue Wed Thu Fri Sat')\n",
    "\n",
    "print(bday)"
   ]
  },
  {
   "cell_type": "code",
   "execution_count": 10,
   "id": "24271d18",
   "metadata": {},
   "outputs": [
    {
     "name": "stdout",
     "output_type": "stream",
     "text": [
      "['2023-09-01' '2023-09-03' '2023-09-05' '2023-09-07' '2023-09-09'\n",
      " '2023-09-11' '2023-09-13' '2023-09-15' '2023-09-17' '2023-09-19'\n",
      " '2023-09-21' '2023-09-23' '2023-09-25' '2023-09-27' '2023-09-29']\n"
     ]
    }
   ],
   "source": [
    "september = np.arange(np.datetime64('2023-09-01'),np.datetime64('2023-10-01'),2)\n",
    "\n",
    "print(september)"
   ]
  },
  {
   "cell_type": "code",
   "execution_count": 13,
   "id": "f12b3b1a",
   "metadata": {},
   "outputs": [
    {
     "name": "stdout",
     "output_type": "stream",
     "text": [
      "[False False False False  True False False False False False False  True\n",
      " False False False False False False  True False False False False False\n",
      " False  True False False False False]\n"
     ]
    }
   ],
   "source": [
    "# arange along with weekmask and then boolean index on Sept\n",
    "\n",
    "septTue = np.is_busday(np.arange(np.datetime64('2023-09-01'),np.datetime64('2023-10-01')),weekmask = '0100000')\n",
    "\n",
    "print(septTue)"
   ]
  },
  {
   "cell_type": "code",
   "execution_count": 14,
   "id": "76fe342e",
   "metadata": {},
   "outputs": [
    {
     "name": "stdout",
     "output_type": "stream",
     "text": [
      "['2023-09-05' '2023-09-12' '2023-09-19' '2023-09-26']\n"
     ]
    }
   ],
   "source": [
    "septTue2 = np.arange(np.datetime64('2023-09-01'), np.datetime64('2023-10-01'))[septTue]\n",
    "\n",
    "print(septTue2)"
   ]
  },
  {
   "cell_type": "code",
   "execution_count": 15,
   "id": "b24e1c82",
   "metadata": {},
   "outputs": [
    {
     "name": "stdout",
     "output_type": "stream",
     "text": [
      "21\n"
     ]
    }
   ],
   "source": [
    "#busday_count\n",
    "\n",
    "busCountSept = np.busday_count('2023-09-01', '2023-10-01')\n",
    "\n",
    "print(busCountSept)"
   ]
  },
  {
   "cell_type": "code",
   "execution_count": 17,
   "id": "c066d571",
   "metadata": {},
   "outputs": [
    {
     "name": "stdout",
     "output_type": "stream",
     "text": [
      "21\n"
     ]
    }
   ],
   "source": [
    "septTue = np.is_busday(np.arange(np.datetime64('2023-09-01'),np.datetime64('2023-10-01')),weekmask = '1111100')\n",
    "\n",
    "print(septTue.sum())\n"
   ]
  },
  {
   "cell_type": "code",
   "execution_count": 18,
   "id": "0227b6c0",
   "metadata": {},
   "outputs": [
    {
     "name": "stdout",
     "output_type": "stream",
     "text": [
      "110\n"
     ]
    }
   ],
   "source": [
    "holidays = ['2023-10-02','2023-10-23','2023-10-24','2023-12-25','2023-12-31','2024-01-01']\n",
    "\n",
    "busCountSept = np.busday_count('2023-09-01', '2024-02-02')\n",
    "\n",
    "print(busCountSept)"
   ]
  },
  {
   "cell_type": "code",
   "execution_count": 19,
   "id": "acb958b1",
   "metadata": {},
   "outputs": [
    {
     "name": "stdout",
     "output_type": "stream",
     "text": [
      "105\n"
     ]
    }
   ],
   "source": [
    "busCountSept = np.busday_count('2023-09-01', '2024-02-02',holidays = holidays)\n",
    "\n",
    "print(busCountSept)"
   ]
  },
  {
   "cell_type": "code",
   "execution_count": 24,
   "id": "7f23edab",
   "metadata": {},
   "outputs": [
    {
     "name": "stdout",
     "output_type": "stream",
     "text": [
      "2023-09-22\n"
     ]
    }
   ],
   "source": [
    "#busday_offset\n",
    "\n",
    "bdayoffset = np.busday_offset('2023-09-25',-1)\n",
    "\n",
    "print(bdayoffset)"
   ]
  },
  {
   "cell_type": "code",
   "execution_count": null,
   "id": "818432ab",
   "metadata": {},
   "outputs": [],
   "source": []
  }
 ],
 "metadata": {
  "kernelspec": {
   "display_name": "Python 3 (ipykernel)",
   "language": "python",
   "name": "python3"
  },
  "language_info": {
   "codemirror_mode": {
    "name": "ipython",
    "version": 3
   },
   "file_extension": ".py",
   "mimetype": "text/x-python",
   "name": "python",
   "nbconvert_exporter": "python",
   "pygments_lexer": "ipython3",
   "version": "3.9.13"
  }
 },
 "nbformat": 4,
 "nbformat_minor": 5
}
