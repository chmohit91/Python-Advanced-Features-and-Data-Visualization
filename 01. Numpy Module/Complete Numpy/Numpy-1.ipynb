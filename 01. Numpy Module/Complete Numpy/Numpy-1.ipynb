{
 "cells": [
  {
   "cell_type": "markdown",
   "id": "ceb5b193",
   "metadata": {},
   "source": [
    "### Numpy \n",
    "\n",
    "- Numpy is a Python library. We call it a python library because it supports python syntax.\n",
    "- It stands for Numerical python\n",
    "- Numpy is used to perform advance numerical computations on large dataset\n",
    "- By using, numpy we can perform complex operations with less lines of code\n",
    "- Numpy provides a very useful data-structure known as array"
   ]
  },
  {
   "cell_type": "markdown",
   "id": "dfe57b0d",
   "metadata": {},
   "source": [
    "### How to import Numpy ?"
   ]
  },
  {
   "cell_type": "code",
   "execution_count": 1,
   "id": "ada0cbc8",
   "metadata": {},
   "outputs": [],
   "source": [
    "import numpy as np "
   ]
  },
  {
   "cell_type": "code",
   "execution_count": 2,
   "id": "91accdc0",
   "metadata": {},
   "outputs": [
    {
     "name": "stdout",
     "output_type": "stream",
     "text": [
      "['ALLOW_THREADS', 'AxisError', 'BUFSIZE', 'CLIP', 'ComplexWarning', 'DataSource', 'ERR_CALL', 'ERR_DEFAULT', 'ERR_IGNORE', 'ERR_LOG', 'ERR_PRINT', 'ERR_RAISE', 'ERR_WARN', 'FLOATING_POINT_SUPPORT', 'FPE_DIVIDEBYZERO', 'FPE_INVALID', 'FPE_OVERFLOW', 'FPE_UNDERFLOW', 'False_', 'Inf', 'Infinity', 'MAXDIMS', 'MAY_SHARE_BOUNDS', 'MAY_SHARE_EXACT', 'ModuleDeprecationWarning', 'NAN', 'NINF', 'NZERO', 'NaN', 'PINF', 'PZERO', 'RAISE', 'RankWarning', 'SHIFT_DIVIDEBYZERO', 'SHIFT_INVALID', 'SHIFT_OVERFLOW', 'SHIFT_UNDERFLOW', 'ScalarType', 'Tester', 'TooHardError', 'True_', 'UFUNC_BUFSIZE_DEFAULT', 'UFUNC_PYVALS_NAME', 'VisibleDeprecationWarning', 'WRAP', '_CopyMode', '_NoValue', '_UFUNC_API', '__NUMPY_SETUP__', '__all__', '__builtins__', '__cached__', '__config__', '__deprecated_attrs__', '__dir__', '__doc__', '__expired_functions__', '__file__', '__former_attrs__', '__future_scalars__', '__getattr__', '__git_version__', '__loader__', '__mkl_version__', '__name__', '__package__', '__path__', '__spec__', '__version__', '_add_newdoc_ufunc', '_builtins', '_distributor_init', '_financial_names', '_get_promotion_state', '_globals', '_int_extended_msg', '_mat', '_no_nep50_warning', '_pyinstaller_hooks_dir', '_pytesttester', '_set_promotion_state', '_specific_msg', '_version', 'abs', 'absolute', 'add', 'add_docstring', 'add_newdoc', 'add_newdoc_ufunc', 'all', 'allclose', 'alltrue', 'amax', 'amin', 'angle', 'any', 'append', 'apply_along_axis', 'apply_over_axes', 'arange', 'arccos', 'arccosh', 'arcsin', 'arcsinh', 'arctan', 'arctan2', 'arctanh', 'argmax', 'argmin', 'argpartition', 'argsort', 'argwhere', 'around', 'array', 'array2string', 'array_equal', 'array_equiv', 'array_repr', 'array_split', 'array_str', 'asanyarray', 'asarray', 'asarray_chkfinite', 'ascontiguousarray', 'asfarray', 'asfortranarray', 'asmatrix', 'atleast_1d', 'atleast_2d', 'atleast_3d', 'average', 'bartlett', 'base_repr', 'binary_repr', 'bincount', 'bitwise_and', 'bitwise_not', 'bitwise_or', 'bitwise_xor', 'blackman', 'block', 'bmat', 'bool_', 'broadcast', 'broadcast_arrays', 'broadcast_shapes', 'broadcast_to', 'busday_count', 'busday_offset', 'busdaycalendar', 'byte', 'byte_bounds', 'bytes_', 'c_', 'can_cast', 'cast', 'cbrt', 'cdouble', 'ceil', 'cfloat', 'char', 'character', 'chararray', 'choose', 'clip', 'clongdouble', 'clongfloat', 'column_stack', 'common_type', 'compare_chararrays', 'compat', 'complex128', 'complex64', 'complex_', 'complexfloating', 'compress', 'concatenate', 'conj', 'conjugate', 'convolve', 'copy', 'copysign', 'copyto', 'corrcoef', 'correlate', 'cos', 'cosh', 'count_nonzero', 'cov', 'cross', 'csingle', 'ctypeslib', 'cumprod', 'cumproduct', 'cumsum', 'datetime64', 'datetime_as_string', 'datetime_data', 'deg2rad', 'degrees', 'delete', 'deprecate', 'deprecate_with_doc', 'diag', 'diag_indices', 'diag_indices_from', 'diagflat', 'diagonal', 'diff', 'digitize', 'disp', 'divide', 'divmod', 'dot', 'double', 'dsplit', 'dstack', 'dtype', 'e', 'ediff1d', 'einsum', 'einsum_path', 'emath', 'empty', 'empty_like', 'equal', 'errstate', 'euler_gamma', 'exp', 'exp2', 'expand_dims', 'expm1', 'extract', 'eye', 'fabs', 'fastCopyAndTranspose', 'fft', 'fill_diagonal', 'find_common_type', 'finfo', 'fix', 'flatiter', 'flatnonzero', 'flexible', 'flip', 'fliplr', 'flipud', 'float16', 'float32', 'float64', 'float_', 'float_power', 'floating', 'floor', 'floor_divide', 'fmax', 'fmin', 'fmod', 'format_float_positional', 'format_float_scientific', 'format_parser', 'frexp', 'from_dlpack', 'frombuffer', 'fromfile', 'fromfunction', 'fromiter', 'frompyfunc', 'fromregex', 'fromstring', 'full', 'full_like', 'gcd', 'generic', 'genfromtxt', 'geomspace', 'get_array_wrap', 'get_include', 'get_printoptions', 'getbufsize', 'geterr', 'geterrcall', 'geterrobj', 'gradient', 'greater', 'greater_equal', 'half', 'hamming', 'hanning', 'heaviside', 'histogram', 'histogram2d', 'histogram_bin_edges', 'histogramdd', 'hsplit', 'hstack', 'hypot', 'i0', 'identity', 'iinfo', 'imag', 'in1d', 'index_exp', 'indices', 'inexact', 'inf', 'info', 'infty', 'inner', 'insert', 'int16', 'int32', 'int64', 'int8', 'int_', 'intc', 'integer', 'interp', 'intersect1d', 'intp', 'invert', 'is_busday', 'isclose', 'iscomplex', 'iscomplexobj', 'isfinite', 'isfortran', 'isin', 'isinf', 'isnan', 'isnat', 'isneginf', 'isposinf', 'isreal', 'isrealobj', 'isscalar', 'issctype', 'issubclass_', 'issubdtype', 'issubsctype', 'iterable', 'ix_', 'kaiser', 'kron', 'lcm', 'ldexp', 'left_shift', 'less', 'less_equal', 'lexsort', 'lib', 'linalg', 'linspace', 'little_endian', 'load', 'loadtxt', 'log', 'log10', 'log1p', 'log2', 'logaddexp', 'logaddexp2', 'logical_and', 'logical_not', 'logical_or', 'logical_xor', 'logspace', 'longcomplex', 'longdouble', 'longfloat', 'longlong', 'lookfor', 'ma', 'mask_indices', 'mat', 'math', 'matmul', 'matrix', 'max', 'maximum', 'maximum_sctype', 'may_share_memory', 'mean', 'median', 'memmap', 'meshgrid', 'mgrid', 'min', 'min_scalar_type', 'minimum', 'mintypecode', 'mkl', 'mod', 'modf', 'moveaxis', 'msort', 'multiply', 'nan', 'nan_to_num', 'nanargmax', 'nanargmin', 'nancumprod', 'nancumsum', 'nanmax', 'nanmean', 'nanmedian', 'nanmin', 'nanpercentile', 'nanprod', 'nanquantile', 'nanstd', 'nansum', 'nanvar', 'nbytes', 'ndarray', 'ndenumerate', 'ndim', 'ndindex', 'nditer', 'negative', 'nested_iters', 'newaxis', 'nextafter', 'nonzero', 'not_equal', 'numarray', 'number', 'obj2sctype', 'object_', 'ogrid', 'oldnumeric', 'ones', 'ones_like', 'outer', 'packbits', 'pad', 'partition', 'percentile', 'pi', 'piecewise', 'place', 'poly', 'poly1d', 'polyadd', 'polyder', 'polydiv', 'polyfit', 'polyint', 'polymul', 'polynomial', 'polysub', 'polyval', 'positive', 'power', 'printoptions', 'prod', 'product', 'promote_types', 'ptp', 'put', 'put_along_axis', 'putmask', 'quantile', 'r_', 'rad2deg', 'radians', 'random', 'ravel', 'ravel_multi_index', 'real', 'real_if_close', 'rec', 'recarray', 'recfromcsv', 'recfromtxt', 'reciprocal', 'record', 'remainder', 'repeat', 'require', 'reshape', 'resize', 'result_type', 'right_shift', 'rint', 'roll', 'rollaxis', 'roots', 'rot90', 'round', 'round_', 'row_stack', 's_', 'safe_eval', 'save', 'savetxt', 'savez', 'savez_compressed', 'sctype2char', 'sctypeDict', 'sctypes', 'searchsorted', 'select', 'set_numeric_ops', 'set_printoptions', 'set_string_function', 'setbufsize', 'setdiff1d', 'seterr', 'seterrcall', 'seterrobj', 'setxor1d', 'shape', 'shares_memory', 'short', 'show_config', 'show_runtime', 'sign', 'signbit', 'signedinteger', 'sin', 'sinc', 'single', 'singlecomplex', 'sinh', 'size', 'sometrue', 'sort', 'sort_complex', 'source', 'spacing', 'split', 'sqrt', 'square', 'squeeze', 'stack', 'std', 'str_', 'string_', 'subtract', 'sum', 'swapaxes', 'take', 'take_along_axis', 'tan', 'tanh', 'tensordot', 'test', 'testing', 'tile', 'timedelta64', 'trace', 'tracemalloc_domain', 'transpose', 'trapz', 'tri', 'tril', 'tril_indices', 'tril_indices_from', 'trim_zeros', 'triu', 'triu_indices', 'triu_indices_from', 'true_divide', 'trunc', 'typecodes', 'typename', 'ubyte', 'ufunc', 'uint', 'uint16', 'uint32', 'uint64', 'uint8', 'uintc', 'uintp', 'ulonglong', 'unicode_', 'union1d', 'unique', 'unpackbits', 'unravel_index', 'unsignedinteger', 'unwrap', 'use_hugepage', 'ushort', 'vander', 'var', 'vdot', 'vectorize', 'version', 'void', 'vsplit', 'vstack', 'where', 'who', 'zeros', 'zeros_like']\n"
     ]
    }
   ],
   "source": [
    "print(dir(np))"
   ]
  },
  {
   "cell_type": "code",
   "execution_count": 3,
   "id": "81ae1c32",
   "metadata": {},
   "outputs": [
    {
     "name": "stdout",
     "output_type": "stream",
     "text": [
      "[1 2 3 4 5] <class 'numpy.ndarray'>\n"
     ]
    }
   ],
   "source": [
    "a = np.array([1,2,3,4,5])\n",
    "print(a, type(a))"
   ]
  },
  {
   "cell_type": "markdown",
   "id": "e9f60996",
   "metadata": {},
   "source": [
    "### Version"
   ]
  },
  {
   "cell_type": "code",
   "execution_count": 4,
   "id": "bedf77e7",
   "metadata": {},
   "outputs": [
    {
     "data": {
      "text/plain": [
       "'1.24.3'"
      ]
     },
     "execution_count": 4,
     "metadata": {},
     "output_type": "execute_result"
    }
   ],
   "source": [
    "np.__version__"
   ]
  },
  {
   "cell_type": "markdown",
   "id": "3e97abeb",
   "metadata": {},
   "source": [
    "### How to install Numpy ?\n"
   ]
  },
  {
   "cell_type": "code",
   "execution_count": 5,
   "id": "08607ed7",
   "metadata": {},
   "outputs": [
    {
     "name": "stdout",
     "output_type": "stream",
     "text": [
      "Requirement already satisfied: Numpy in c:\\users\\mayank\\anaconda3\\lib\\site-packages (1.24.3)\n",
      "Note: you may need to restart the kernel to use updated packages.\n"
     ]
    }
   ],
   "source": [
    "pip install Numpy"
   ]
  },
  {
   "cell_type": "markdown",
   "id": "e5400f38",
   "metadata": {},
   "source": [
    "### How to update Numpy?\n",
    "\n",
    "- conda update Numpy on anaconda prompt\n",
    "- Start> anaconda prompt"
   ]
  },
  {
   "cell_type": "markdown",
   "id": "f423ab4d",
   "metadata": {},
   "source": [
    "### Array \n",
    "\n",
    "- An array is a collection of Homogenous(Same type) elements "
   ]
  },
  {
   "cell_type": "code",
   "execution_count": 9,
   "id": "06371b97",
   "metadata": {},
   "outputs": [
    {
     "name": "stdout",
     "output_type": "stream",
     "text": [
      "[1, 2, 3, 4, 5, 6] <class 'list'>\n"
     ]
    }
   ],
   "source": [
    "lst = [1,2,3,4,5,6]\n",
    "print(lst, type(lst))"
   ]
  },
  {
   "cell_type": "code",
   "execution_count": 10,
   "id": "f0fcfa7c",
   "metadata": {},
   "outputs": [
    {
     "name": "stdout",
     "output_type": "stream",
     "text": [
      "[1 2 3 4 5 6] <class 'numpy.ndarray'>\n"
     ]
    }
   ],
   "source": [
    "arr = np.array(lst)\n",
    "print(arr, type(arr))"
   ]
  },
  {
   "cell_type": "markdown",
   "id": "e50e737c",
   "metadata": {},
   "source": [
    "### List vs Array\n",
    "\n",
    "- With the array we can easily perform some operations that we could not easily perform over the list\n",
    "- Arrays are going to be way faster "
   ]
  },
  {
   "cell_type": "code",
   "execution_count": 11,
   "id": "d8a2eb83",
   "metadata": {},
   "outputs": [
    {
     "name": "stdout",
     "output_type": "stream",
     "text": [
      "[1, 2, 3, 4, 5, 6, 7, 8, 9, 10]\n"
     ]
    }
   ],
   "source": [
    "lst = [i for i in range(1, 11)]\n",
    "print(lst)"
   ]
  },
  {
   "cell_type": "code",
   "execution_count": 13,
   "id": "d3e84c2d",
   "metadata": {
    "scrolled": true
   },
   "outputs": [
    {
     "name": "stdout",
     "output_type": "stream",
     "text": [
      "[5, 10, 15, 20, 25, 30, 35, 40, 45, 50]\n"
     ]
    }
   ],
   "source": [
    "#Multiply every element of this list with a 5 while using list only \n",
    "\n",
    "lst1 = [i*5 for i in lst]\n",
    "print(lst1)"
   ]
  },
  {
   "cell_type": "code",
   "execution_count": 16,
   "id": "4bce8b6b",
   "metadata": {},
   "outputs": [
    {
     "name": "stdout",
     "output_type": "stream",
     "text": [
      "[5, 10, 15, 20, 25, 30, 35, 40, 45, 50]\n"
     ]
    }
   ],
   "source": [
    "lst2 = []\n",
    "\n",
    "for i in lst:\n",
    "    lst2.append(i*5)\n",
    "print(lst2)"
   ]
  },
  {
   "cell_type": "code",
   "execution_count": 14,
   "id": "3fe6983d",
   "metadata": {},
   "outputs": [
    {
     "data": {
      "text/plain": [
       "array([ 1,  2,  3,  4,  5,  6,  7,  8,  9, 10])"
      ]
     },
     "execution_count": 14,
     "metadata": {},
     "output_type": "execute_result"
    }
   ],
   "source": [
    "#Multiply every element of this list with a 5 while using array only\n",
    "\n",
    "arr = np.array(lst)\n",
    "arr"
   ]
  },
  {
   "cell_type": "code",
   "execution_count": 15,
   "id": "eedd5856",
   "metadata": {},
   "outputs": [
    {
     "data": {
      "text/plain": [
       "array([ 5, 10, 15, 20, 25, 30, 35, 40, 45, 50])"
      ]
     },
     "execution_count": 15,
     "metadata": {},
     "output_type": "execute_result"
    }
   ],
   "source": [
    "arr*5"
   ]
  },
  {
   "cell_type": "markdown",
   "id": "ab0bec03",
   "metadata": {},
   "source": [
    "### Array are faster than the list"
   ]
  },
  {
   "cell_type": "code",
   "execution_count": 29,
   "id": "c55a725c",
   "metadata": {},
   "outputs": [],
   "source": [
    "import time "
   ]
  },
  {
   "cell_type": "code",
   "execution_count": 33,
   "id": "8fc0895c",
   "metadata": {},
   "outputs": [
    {
     "name": "stdout",
     "output_type": "stream",
     "text": [
      "0.00600123405456543\n"
     ]
    }
   ],
   "source": [
    "st = time.time()\n",
    "\n",
    "lst = [i*5 for i in range(100000)]\n",
    "\n",
    "end = time.time()\n",
    "\n",
    "tt = end - st\n",
    "print(tt)"
   ]
  },
  {
   "cell_type": "code",
   "execution_count": 35,
   "id": "ce884dcb",
   "metadata": {},
   "outputs": [
    {
     "name": "stdout",
     "output_type": "stream",
     "text": [
      "0.0009996891021728516\n"
     ]
    }
   ],
   "source": [
    "st = time.time()\n",
    "\n",
    "arr = np.arange(100000)\n",
    "arr*5\n",
    "\n",
    "end = time.time()\n",
    "\n",
    "tt = end-st\n",
    "\n",
    "print(tt)"
   ]
  },
  {
   "cell_type": "markdown",
   "id": "e7653098",
   "metadata": {},
   "source": [
    "### Why arrays are faster than a list\n",
    "\n",
    "- On list, we have to use a loop to perform some operation\n",
    "- Loop makes the process slow \n",
    "- Array use vectorisation operation by using array broadcasting and this process will very fast\n",
    "- List is a collection of heterogenous elements \n",
    "- A list has to store a lot of information for each element seperately because each element behaves differently in a list\n",
    "- This makes the process slower\n",
    "- An array is a collection of homogenous elements, it does not store extra information of the elements seperately"
   ]
  },
  {
   "cell_type": "code",
   "execution_count": null,
   "id": "f45f68c5",
   "metadata": {},
   "outputs": [],
   "source": [
    "v = (ai+bj+ck)*5\n",
    "v = (ai+bj+ck)*(5i+5j+5k) # dot product i.i = 1, j.j = 1, k.k = 1, i.j = 0, i.k = 0, j.k = 0\n",
    "v = (5a+5b+5c)"
   ]
  },
  {
   "cell_type": "code",
   "execution_count": null,
   "id": "6b2bb688",
   "metadata": {},
   "outputs": [],
   "source": [
    "v = [a,b,c]*5\n",
    "v = [a,b,c]*[5,5,5]\n",
    "v = [5a,5b,5c]"
   ]
  },
  {
   "cell_type": "markdown",
   "id": "6fa7e5d4",
   "metadata": {},
   "source": [
    "### Array upcasting\n",
    "\n",
    "- When we pass heterogenous elements in an array, then it will convert them into 1 datatype and this process is called upcasting"
   ]
  },
  {
   "cell_type": "code",
   "execution_count": null,
   "id": "50907687",
   "metadata": {},
   "outputs": [],
   "source": [
    "# int<float<complex<string<object "
   ]
  },
  {
   "cell_type": "code",
   "execution_count": 36,
   "id": "b2e7d70e",
   "metadata": {},
   "outputs": [
    {
     "data": {
      "text/plain": [
       "array([1, 2, 3, 4, 5])"
      ]
     },
     "execution_count": 36,
     "metadata": {},
     "output_type": "execute_result"
    }
   ],
   "source": [
    "arr = np.array([1,2,3,4,5])\n",
    "arr"
   ]
  },
  {
   "cell_type": "code",
   "execution_count": 37,
   "id": "8f3fe10c",
   "metadata": {},
   "outputs": [
    {
     "data": {
      "text/plain": [
       "array([1., 2., 3., 4., 5.])"
      ]
     },
     "execution_count": 37,
     "metadata": {},
     "output_type": "execute_result"
    }
   ],
   "source": [
    "arr = np.array([1,2.0,3,4,5])\n",
    "arr"
   ]
  },
  {
   "cell_type": "code",
   "execution_count": 40,
   "id": "d545e57b",
   "metadata": {},
   "outputs": [
    {
     "data": {
      "text/plain": [
       "array([1.+0.j, 2.+0.j, 3.+7.j, 4.+0.j, 5.+0.j])"
      ]
     },
     "execution_count": 40,
     "metadata": {},
     "output_type": "execute_result"
    }
   ],
   "source": [
    "arr = np.array([1,2,3+7j,4,5])\n",
    "arr"
   ]
  },
  {
   "cell_type": "code",
   "execution_count": 41,
   "id": "caafecfe",
   "metadata": {},
   "outputs": [
    {
     "data": {
      "text/plain": [
       "array(['1', '2', '(3+7j)', '4', '5'], dtype='<U64')"
      ]
     },
     "execution_count": 41,
     "metadata": {},
     "output_type": "execute_result"
    }
   ],
   "source": [
    "arr = np.array([1,2,3+7j,'4',5])\n",
    "arr"
   ]
  },
  {
   "cell_type": "code",
   "execution_count": 44,
   "id": "4d756711",
   "metadata": {},
   "outputs": [
    {
     "data": {
      "text/plain": [
       "array(['10', '20+9j', '30', '40', '50'], dtype='<U11')"
      ]
     },
     "execution_count": 44,
     "metadata": {},
     "output_type": "execute_result"
    }
   ],
   "source": [
    "arr = np.array([10, '20+9j', 30, 40, 50 ])\n",
    "arr"
   ]
  },
  {
   "cell_type": "code",
   "execution_count": 42,
   "id": "b998dfba",
   "metadata": {},
   "outputs": [
    {
     "data": {
      "text/plain": [
       "array([1, 2, (3+7j), '4', 5], dtype=object)"
      ]
     },
     "execution_count": 42,
     "metadata": {},
     "output_type": "execute_result"
    }
   ],
   "source": [
    "arr = np.array([1,2,3+7j,'4',5], dtype = object)\n",
    "arr"
   ]
  },
  {
   "cell_type": "code",
   "execution_count": 43,
   "id": "8c19f578",
   "metadata": {},
   "outputs": [
    {
     "data": {
      "text/plain": [
       "dtype('O')"
      ]
     },
     "execution_count": 43,
     "metadata": {},
     "output_type": "execute_result"
    }
   ],
   "source": [
    "arr.dtype"
   ]
  },
  {
   "cell_type": "markdown",
   "id": "a4d4af37",
   "metadata": {},
   "source": [
    "### Create Different Kinds of array "
   ]
  },
  {
   "cell_type": "markdown",
   "id": "63707ded",
   "metadata": {},
   "source": [
    "### np.arange()\n",
    "\n",
    "- It creates an array of numbers \n",
    "\n",
    "    Syntax:\n",
    "    \n",
    "        np.arange(start, stop, step_size)\n",
    "        stop value - excluded\n",
    "        step_size = 1"
   ]
  },
  {
   "cell_type": "code",
   "execution_count": 47,
   "id": "5a0273be",
   "metadata": {},
   "outputs": [
    {
     "data": {
      "text/plain": [
       "array([ 1,  2,  3,  4,  5,  6,  7,  8,  9, 10])"
      ]
     },
     "execution_count": 47,
     "metadata": {},
     "output_type": "execute_result"
    }
   ],
   "source": [
    "# create an array that has numbers from 1 to 10 \n",
    "\n",
    "arr = np.arange(1,11,1)\n",
    "arr"
   ]
  },
  {
   "cell_type": "code",
   "execution_count": 49,
   "id": "26a7989f",
   "metadata": {},
   "outputs": [
    {
     "data": {
      "text/plain": [
       "array([ 1,  2,  3,  4,  5,  6,  7,  8,  9, 10])"
      ]
     },
     "execution_count": 49,
     "metadata": {},
     "output_type": "execute_result"
    }
   ],
   "source": [
    "arr = np.arange(1,11)\n",
    "arr"
   ]
  },
  {
   "cell_type": "code",
   "execution_count": 50,
   "id": "f666a908",
   "metadata": {},
   "outputs": [
    {
     "data": {
      "text/plain": [
       "array([ 0,  1,  2,  3,  4,  5,  6,  7,  8,  9, 10])"
      ]
     },
     "execution_count": 50,
     "metadata": {},
     "output_type": "execute_result"
    }
   ],
   "source": [
    "arr = np.arange(11)\n",
    "arr"
   ]
  },
  {
   "cell_type": "code",
   "execution_count": 51,
   "id": "84a5c4a6",
   "metadata": {},
   "outputs": [
    {
     "data": {
      "text/plain": [
       "array([ 0,  1,  2,  3,  4,  5,  6,  7,  8,  9, 10])"
      ]
     },
     "execution_count": 51,
     "metadata": {},
     "output_type": "execute_result"
    }
   ],
   "source": [
    "lst = [i for i in range(11)]\n",
    "arr = np.array(lst)\n",
    "arr"
   ]
  },
  {
   "cell_type": "markdown",
   "id": "bfc223da",
   "metadata": {},
   "source": [
    "### np.linspace()\n",
    "\n",
    "- It creates an array of equally spaced values within a range of values \n",
    "\n",
    "        Syntax:- \n",
    "            \n",
    "               np.linspace(start, stop, number of values)\n",
    "               \n",
    "               By default, in linspace both the start and stop values are included \n",
    "               By default, linspace will return the answer in float"
   ]
  },
  {
   "cell_type": "code",
   "execution_count": 52,
   "id": "a07a6fef",
   "metadata": {},
   "outputs": [
    {
     "data": {
      "text/plain": [
       "array([1. , 1.5, 2. , 2.5, 3. ])"
      ]
     },
     "execution_count": 52,
     "metadata": {},
     "output_type": "execute_result"
    }
   ],
   "source": [
    "# create an array of 5 equally spaced values between 1 and 3\n",
    "\n",
    "np.linspace(1,3,5)"
   ]
  },
  {
   "cell_type": "code",
   "execution_count": 53,
   "id": "0cdc313b",
   "metadata": {},
   "outputs": [
    {
     "data": {
      "text/plain": [
       "array([1.        , 1.22222222, 1.44444444, 1.66666667, 1.88888889,\n",
       "       2.11111111, 2.33333333, 2.55555556, 2.77777778, 3.        ])"
      ]
     },
     "execution_count": 53,
     "metadata": {},
     "output_type": "execute_result"
    }
   ],
   "source": [
    "# create an array of 10 equally spaced values between 1 and 3\n",
    "\n",
    "np.linspace(1,3,10)"
   ]
  },
  {
   "cell_type": "code",
   "execution_count": 55,
   "id": "0bafc6c6",
   "metadata": {},
   "outputs": [
    {
     "data": {
      "text/plain": [
       "array([1.        , 1.04081633, 1.08163265, 1.12244898, 1.16326531,\n",
       "       1.20408163, 1.24489796, 1.28571429, 1.32653061, 1.36734694,\n",
       "       1.40816327, 1.44897959, 1.48979592, 1.53061224, 1.57142857,\n",
       "       1.6122449 , 1.65306122, 1.69387755, 1.73469388, 1.7755102 ,\n",
       "       1.81632653, 1.85714286, 1.89795918, 1.93877551, 1.97959184,\n",
       "       2.02040816, 2.06122449, 2.10204082, 2.14285714, 2.18367347,\n",
       "       2.2244898 , 2.26530612, 2.30612245, 2.34693878, 2.3877551 ,\n",
       "       2.42857143, 2.46938776, 2.51020408, 2.55102041, 2.59183673,\n",
       "       2.63265306, 2.67346939, 2.71428571, 2.75510204, 2.79591837,\n",
       "       2.83673469, 2.87755102, 2.91836735, 2.95918367, 3.        ])"
      ]
     },
     "execution_count": 55,
     "metadata": {},
     "output_type": "execute_result"
    }
   ],
   "source": [
    "# create an array of 50 equally spaced values between 1 and 3\n",
    "\n",
    "np.linspace(1,3,50)"
   ]
  },
  {
   "cell_type": "markdown",
   "id": "da4399af",
   "metadata": {},
   "source": [
    "### np.zeros\n",
    "\n",
    "- It will return an array of the given shape with all the elements of the array as zero\n",
    "\n",
    "        Syntax:-\n",
    "        \n",
    "            np.zeros((rows, columns))\n",
    "            \n",
    "            By default, it will return the answer in float"
   ]
  },
  {
   "cell_type": "code",
   "execution_count": 56,
   "id": "51d3955f",
   "metadata": {},
   "outputs": [
    {
     "data": {
      "text/plain": [
       "array([[0., 0., 0.],\n",
       "       [0., 0., 0.],\n",
       "       [0., 0., 0.]])"
      ]
     },
     "execution_count": 56,
     "metadata": {},
     "output_type": "execute_result"
    }
   ],
   "source": [
    "np.zeros((3,3))"
   ]
  },
  {
   "cell_type": "code",
   "execution_count": 57,
   "id": "9fc09fb6",
   "metadata": {},
   "outputs": [
    {
     "data": {
      "text/plain": [
       "array([[0., 0., 0.],\n",
       "       [0., 0., 0.],\n",
       "       [0., 0., 0.],\n",
       "       [0., 0., 0.]])"
      ]
     },
     "execution_count": 57,
     "metadata": {},
     "output_type": "execute_result"
    }
   ],
   "source": [
    "np.zeros((4,3))"
   ]
  },
  {
   "cell_type": "code",
   "execution_count": 58,
   "id": "03b94185",
   "metadata": {},
   "outputs": [
    {
     "data": {
      "text/plain": [
       "array([[0, 0, 0],\n",
       "       [0, 0, 0],\n",
       "       [0, 0, 0],\n",
       "       [0, 0, 0]])"
      ]
     },
     "execution_count": 58,
     "metadata": {},
     "output_type": "execute_result"
    }
   ],
   "source": [
    "np.zeros((4,3), dtype = 'int32')"
   ]
  },
  {
   "cell_type": "markdown",
   "id": "7fda05c2",
   "metadata": {},
   "source": [
    "### np.ones()\n",
    "\n",
    "- It will return an array of the given shape where all the elements are going to be 1 \n",
    "\n",
    "        Syntax:-\n",
    "        \n",
    "            np.ones((rows, columns))\n",
    "            \n",
    "            By default, it will return the answer in float"
   ]
  },
  {
   "cell_type": "code",
   "execution_count": 59,
   "id": "e7795c64",
   "metadata": {},
   "outputs": [
    {
     "data": {
      "text/plain": [
       "array([[1., 1., 1.],\n",
       "       [1., 1., 1.],\n",
       "       [1., 1., 1.]])"
      ]
     },
     "execution_count": 59,
     "metadata": {},
     "output_type": "execute_result"
    }
   ],
   "source": [
    "np.ones((3,3))"
   ]
  },
  {
   "cell_type": "code",
   "execution_count": 60,
   "id": "d529da5e",
   "metadata": {},
   "outputs": [
    {
     "data": {
      "text/plain": [
       "array([[1, 1, 1],\n",
       "       [1, 1, 1],\n",
       "       [1, 1, 1]])"
      ]
     },
     "execution_count": 60,
     "metadata": {},
     "output_type": "execute_result"
    }
   ],
   "source": [
    "np.ones((3,3), dtype = 'int32')"
   ]
  },
  {
   "cell_type": "markdown",
   "id": "e1c653f2",
   "metadata": {},
   "source": [
    "### np.full()\n",
    "\n",
    "- It returns an array of the given shape and a given values \n",
    "\n",
    "       Syntax:\n",
    "               \n",
    "               np.full((rows, columns), value)\n",
    "               \n",
    "               By default, it will return you the answer in integer/\n",
    "               "
   ]
  },
  {
   "cell_type": "code",
   "execution_count": 61,
   "id": "222f499a",
   "metadata": {},
   "outputs": [
    {
     "data": {
      "text/plain": [
       "array([[5, 5, 5],\n",
       "       [5, 5, 5],\n",
       "       [5, 5, 5]])"
      ]
     },
     "execution_count": 61,
     "metadata": {},
     "output_type": "execute_result"
    }
   ],
   "source": [
    "np.full((3,3), 5)"
   ]
  },
  {
   "cell_type": "code",
   "execution_count": 62,
   "id": "57008bbe",
   "metadata": {},
   "outputs": [
    {
     "data": {
      "text/plain": [
       "array([[5, 5, 5],\n",
       "       [5, 5, 5],\n",
       "       [5, 5, 5]])"
      ]
     },
     "execution_count": 62,
     "metadata": {},
     "output_type": "execute_result"
    }
   ],
   "source": [
    "np.ones((3,3), dtype = 'int32')*5"
   ]
  },
  {
   "cell_type": "markdown",
   "id": "0dda6e9f",
   "metadata": {},
   "source": [
    "### np.eye()\n",
    "\n",
    "- It will retunr an identity matrix\n",
    "- In an identity matrix, the diagonal elements are 1's and the non diagonal elements are 0's\n",
    "- by deafault, the values will be in float"
   ]
  },
  {
   "cell_type": "code",
   "execution_count": 63,
   "id": "2897085d",
   "metadata": {},
   "outputs": [
    {
     "data": {
      "text/plain": [
       "array([[1., 0., 0., 0.],\n",
       "       [0., 1., 0., 0.],\n",
       "       [0., 0., 1., 0.],\n",
       "       [0., 0., 0., 1.]])"
      ]
     },
     "execution_count": 63,
     "metadata": {},
     "output_type": "execute_result"
    }
   ],
   "source": [
    "# create an identity matrix 4*4 \n",
    "\n",
    "np.eye(4,4)"
   ]
  },
  {
   "cell_type": "code",
   "execution_count": 64,
   "id": "cb2f509b",
   "metadata": {},
   "outputs": [
    {
     "data": {
      "text/plain": [
       "array([[1, 0, 0, 0],\n",
       "       [0, 1, 0, 0],\n",
       "       [0, 0, 1, 0],\n",
       "       [0, 0, 0, 1]])"
      ]
     },
     "execution_count": 64,
     "metadata": {},
     "output_type": "execute_result"
    }
   ],
   "source": [
    "# create an identity matrix 4*4 \n",
    "\n",
    "np.eye(4,4, dtype = 'int32')"
   ]
  },
  {
   "cell_type": "markdown",
   "id": "7b90494a",
   "metadata": {},
   "source": [
    "### np.zeros_like()\n",
    "\n",
    "- It returns an array of 0's of the given shape of another array"
   ]
  },
  {
   "cell_type": "code",
   "execution_count": 66,
   "id": "06e9114b",
   "metadata": {},
   "outputs": [
    {
     "data": {
      "text/plain": [
       "array([[1, 2, 3],\n",
       "       [4, 5, 6]])"
      ]
     },
     "execution_count": 66,
     "metadata": {},
     "output_type": "execute_result"
    }
   ],
   "source": [
    "arr = np.array([[1,2,3],[4,5,6]])\n",
    "arr"
   ]
  },
  {
   "cell_type": "code",
   "execution_count": 67,
   "id": "ca0c9838",
   "metadata": {},
   "outputs": [
    {
     "data": {
      "text/plain": [
       "array([[0, 0, 0],\n",
       "       [0, 0, 0]])"
      ]
     },
     "execution_count": 67,
     "metadata": {},
     "output_type": "execute_result"
    }
   ],
   "source": [
    "arr1 = np.zeros_like(arr)\n",
    "arr1"
   ]
  },
  {
   "cell_type": "markdown",
   "id": "7ce0904d",
   "metadata": {},
   "source": [
    "### np.ones_like()\n",
    "\n",
    "- It returns an array of 1's of the given shape of another array"
   ]
  },
  {
   "cell_type": "code",
   "execution_count": 69,
   "id": "068820c0",
   "metadata": {},
   "outputs": [
    {
     "data": {
      "text/plain": [
       "array([[1, 2, 3],\n",
       "       [4, 5, 6]])"
      ]
     },
     "execution_count": 69,
     "metadata": {},
     "output_type": "execute_result"
    }
   ],
   "source": [
    "arr"
   ]
  },
  {
   "cell_type": "code",
   "execution_count": 70,
   "id": "472696fe",
   "metadata": {},
   "outputs": [
    {
     "data": {
      "text/plain": [
       "array([[1, 1, 1],\n",
       "       [1, 1, 1]])"
      ]
     },
     "execution_count": 70,
     "metadata": {},
     "output_type": "execute_result"
    }
   ],
   "source": [
    "arr2 = np.ones_like(arr)\n",
    "arr2"
   ]
  },
  {
   "cell_type": "markdown",
   "id": "6d69654b",
   "metadata": {},
   "source": [
    "### np.full_like()\n",
    "\n",
    "- It returns an array of the given shape of another array having a particular value "
   ]
  },
  {
   "cell_type": "code",
   "execution_count": 72,
   "id": "4177a048",
   "metadata": {},
   "outputs": [
    {
     "data": {
      "text/plain": [
       "array([[1, 2, 3],\n",
       "       [4, 5, 6]])"
      ]
     },
     "execution_count": 72,
     "metadata": {},
     "output_type": "execute_result"
    }
   ],
   "source": [
    "arr"
   ]
  },
  {
   "cell_type": "code",
   "execution_count": 74,
   "id": "b65af6d5",
   "metadata": {},
   "outputs": [
    {
     "data": {
      "text/plain": [
       "array([[10, 10, 10],\n",
       "       [10, 10, 10]])"
      ]
     },
     "execution_count": 74,
     "metadata": {},
     "output_type": "execute_result"
    }
   ],
   "source": [
    "arr3 = np.full_like(arr, 10)\n",
    "arr3"
   ]
  },
  {
   "cell_type": "markdown",
   "id": "c8c2c543",
   "metadata": {},
   "source": [
    "### np.diagonal()\n",
    "\n",
    "- It return the principal diagonal from an array\n",
    "- By default for this function, the offset = 0"
   ]
  },
  {
   "cell_type": "code",
   "execution_count": 86,
   "id": "b3866bd9",
   "metadata": {},
   "outputs": [
    {
     "data": {
      "text/plain": [
       "array([13, 43, 24, 61, 28, 71, 56, 72, 31, 67, 34, 59, 71, 92, 67, 47, 51,\n",
       "       65, 32, 74, 45, 41, 79, 57, 98, 91, 18, 37, 15, 85, 94, 16, 94, 80,\n",
       "       75, 38])"
      ]
     },
     "execution_count": 86,
     "metadata": {},
     "output_type": "execute_result"
    }
   ],
   "source": [
    "arr = np.random.randint(10,100,36)\n",
    "arr"
   ]
  },
  {
   "cell_type": "code",
   "execution_count": 87,
   "id": "f81f0206",
   "metadata": {
    "scrolled": true
   },
   "outputs": [
    {
     "data": {
      "text/plain": [
       "array([[13, 43, 24, 61, 28, 71],\n",
       "       [56, 72, 31, 67, 34, 59],\n",
       "       [71, 92, 67, 47, 51, 65],\n",
       "       [32, 74, 45, 41, 79, 57],\n",
       "       [98, 91, 18, 37, 15, 85],\n",
       "       [94, 16, 94, 80, 75, 38]])"
      ]
     },
     "execution_count": 87,
     "metadata": {},
     "output_type": "execute_result"
    }
   ],
   "source": [
    "arr = arr.reshape(6,6)\n",
    "arr"
   ]
  },
  {
   "cell_type": "code",
   "execution_count": 79,
   "id": "c55f21ba",
   "metadata": {},
   "outputs": [
    {
     "data": {
      "text/plain": [
       "array([82, 19, 60, 52, 13, 58])"
      ]
     },
     "execution_count": 79,
     "metadata": {},
     "output_type": "execute_result"
    }
   ],
   "source": [
    "z = np.diagonal(arr)\n",
    "z"
   ]
  },
  {
   "cell_type": "code",
   "execution_count": 80,
   "id": "d2040ff8",
   "metadata": {},
   "outputs": [
    {
     "data": {
      "text/plain": [
       "array([16, 43, 69, 59, 61])"
      ]
     },
     "execution_count": 80,
     "metadata": {},
     "output_type": "execute_result"
    }
   ],
   "source": [
    "z = np.diagonal(arr, offset = 1)\n",
    "z"
   ]
  },
  {
   "cell_type": "code",
   "execution_count": 82,
   "id": "1248a7a5",
   "metadata": {},
   "outputs": [
    {
     "data": {
      "text/plain": [
       "array([67, 51, 29, 37])"
      ]
     },
     "execution_count": 82,
     "metadata": {},
     "output_type": "execute_result"
    }
   ],
   "source": [
    "z = np.diagonal(arr, offset = 2)\n",
    "z"
   ]
  },
  {
   "cell_type": "code",
   "execution_count": 81,
   "id": "35deae77",
   "metadata": {},
   "outputs": [
    {
     "data": {
      "text/plain": [
       "array([61, 20, 66, 11, 88])"
      ]
     },
     "execution_count": 81,
     "metadata": {},
     "output_type": "execute_result"
    }
   ],
   "source": [
    "z = np.diagonal(arr, offset = -1)\n",
    "z"
   ]
  },
  {
   "cell_type": "code",
   "execution_count": 83,
   "id": "deb1bd80",
   "metadata": {},
   "outputs": [
    {
     "data": {
      "text/plain": [
       "array([85, 93, 77, 77])"
      ]
     },
     "execution_count": 83,
     "metadata": {},
     "output_type": "execute_result"
    }
   ],
   "source": [
    "z = np.diagonal(arr, offset = -2)\n",
    "z"
   ]
  },
  {
   "cell_type": "markdown",
   "id": "7b0c5063",
   "metadata": {},
   "source": [
    "### np.diag()\n",
    "\n",
    "- It returns a diagonal array\n",
    "- In a diagonal array, the diagonal elements are non-zero rest every element is zero\n",
    "\n",
    "    Syntax:-\n",
    "        \n",
    "        np.diag([diagonal])"
   ]
  },
  {
   "cell_type": "code",
   "execution_count": 84,
   "id": "7d25d3d1",
   "metadata": {},
   "outputs": [
    {
     "data": {
      "text/plain": [
       "array([[1, 0, 0, 0, 0],\n",
       "       [0, 2, 0, 0, 0],\n",
       "       [0, 0, 3, 0, 0],\n",
       "       [0, 0, 0, 4, 0],\n",
       "       [0, 0, 0, 0, 5]])"
      ]
     },
     "execution_count": 84,
     "metadata": {},
     "output_type": "execute_result"
    }
   ],
   "source": [
    "a = np.diag([1,2,3,4,5])\n",
    "a"
   ]
  },
  {
   "cell_type": "code",
   "execution_count": 85,
   "id": "cbcca69c",
   "metadata": {},
   "outputs": [
    {
     "data": {
      "text/plain": [
       "array([[1, 0, 0, 0, 0],\n",
       "       [0, 2, 0, 0, 0],\n",
       "       [0, 0, 3, 0, 0],\n",
       "       [0, 0, 0, 4, 0],\n",
       "       [0, 0, 0, 0, 5]])"
      ]
     },
     "execution_count": 85,
     "metadata": {},
     "output_type": "execute_result"
    }
   ],
   "source": [
    "a.T"
   ]
  },
  {
   "cell_type": "code",
   "execution_count": null,
   "id": "d0bd5109",
   "metadata": {},
   "outputs": [],
   "source": []
  }
 ],
 "metadata": {
  "kernelspec": {
   "display_name": "Python 3 (ipykernel)",
   "language": "python",
   "name": "python3"
  },
  "language_info": {
   "codemirror_mode": {
    "name": "ipython",
    "version": 3
   },
   "file_extension": ".py",
   "mimetype": "text/x-python",
   "name": "python",
   "nbconvert_exporter": "python",
   "pygments_lexer": "ipython3",
   "version": "3.11.5"
  }
 },
 "nbformat": 4,
 "nbformat_minor": 5
}
