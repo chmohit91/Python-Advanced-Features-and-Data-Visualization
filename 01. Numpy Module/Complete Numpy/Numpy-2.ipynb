{
 "cells": [
  {
   "cell_type": "markdown",
   "id": "fe45567d",
   "metadata": {},
   "source": [
    "### np.diagonal()"
   ]
  },
  {
   "cell_type": "code",
   "execution_count": 2,
   "id": "26e3b0ff",
   "metadata": {},
   "outputs": [],
   "source": [
    "import numpy as np"
   ]
  },
  {
   "cell_type": "code",
   "execution_count": 3,
   "id": "e59f765d",
   "metadata": {
    "scrolled": true
   },
   "outputs": [
    {
     "data": {
      "text/plain": [
       "array([44, 24, 11, 89, 64, 57, 29, 40, 38, 60, 75, 89, 78, 77, 75, 77, 47,\n",
       "       11, 56, 43, 14, 37, 13, 51, 72, 13, 79, 39, 54, 26, 36, 35, 45, 19,\n",
       "       94, 47])"
      ]
     },
     "execution_count": 3,
     "metadata": {},
     "output_type": "execute_result"
    }
   ],
   "source": [
    "arr = np.random.randint(10,100, 36)\n",
    "arr"
   ]
  },
  {
   "cell_type": "code",
   "execution_count": 4,
   "id": "283e25ea",
   "metadata": {},
   "outputs": [
    {
     "data": {
      "text/plain": [
       "array([[44, 24, 11, 89, 64, 57],\n",
       "       [29, 40, 38, 60, 75, 89],\n",
       "       [78, 77, 75, 77, 47, 11],\n",
       "       [56, 43, 14, 37, 13, 51],\n",
       "       [72, 13, 79, 39, 54, 26],\n",
       "       [36, 35, 45, 19, 94, 47]])"
      ]
     },
     "execution_count": 4,
     "metadata": {},
     "output_type": "execute_result"
    }
   ],
   "source": [
    "arr = arr.reshape(6,6)\n",
    "arr"
   ]
  },
  {
   "cell_type": "code",
   "execution_count": 5,
   "id": "4e9e9e33",
   "metadata": {},
   "outputs": [
    {
     "data": {
      "text/plain": [
       "array([44, 40, 75, 37, 54, 47])"
      ]
     },
     "execution_count": 5,
     "metadata": {},
     "output_type": "execute_result"
    }
   ],
   "source": [
    "z = np.diagonal(arr)\n",
    "z"
   ]
  },
  {
   "cell_type": "code",
   "execution_count": 6,
   "id": "8403bc78",
   "metadata": {},
   "outputs": [
    {
     "data": {
      "text/plain": [
       "array([24, 38, 77, 13, 26])"
      ]
     },
     "execution_count": 6,
     "metadata": {},
     "output_type": "execute_result"
    }
   ],
   "source": [
    "z = np.diagonal(arr, offset = 1)\n",
    "z"
   ]
  },
  {
   "cell_type": "code",
   "execution_count": 8,
   "id": "3c2b3ca4",
   "metadata": {},
   "outputs": [
    {
     "data": {
      "text/plain": [
       "array([29, 77, 14, 39, 94])"
      ]
     },
     "execution_count": 8,
     "metadata": {},
     "output_type": "execute_result"
    }
   ],
   "source": [
    "z = np.diagonal(arr, offset = -1)\n",
    "z"
   ]
  },
  {
   "cell_type": "markdown",
   "id": "d2bef8b7",
   "metadata": {},
   "source": [
    "### np.trace()\n",
    "\n",
    "- It return the sum of the diagonal of an array"
   ]
  },
  {
   "cell_type": "code",
   "execution_count": 9,
   "id": "97208818",
   "metadata": {},
   "outputs": [
    {
     "data": {
      "text/plain": [
       "array([[44, 24, 11, 89, 64, 57],\n",
       "       [29, 40, 38, 60, 75, 89],\n",
       "       [78, 77, 75, 77, 47, 11],\n",
       "       [56, 43, 14, 37, 13, 51],\n",
       "       [72, 13, 79, 39, 54, 26],\n",
       "       [36, 35, 45, 19, 94, 47]])"
      ]
     },
     "execution_count": 9,
     "metadata": {},
     "output_type": "execute_result"
    }
   ],
   "source": [
    "arr"
   ]
  },
  {
   "cell_type": "code",
   "execution_count": 10,
   "id": "ba2f5ff8",
   "metadata": {},
   "outputs": [
    {
     "data": {
      "text/plain": [
       "297"
      ]
     },
     "execution_count": 10,
     "metadata": {},
     "output_type": "execute_result"
    }
   ],
   "source": [
    "a = np.trace(arr)\n",
    "a"
   ]
  },
  {
   "cell_type": "code",
   "execution_count": 11,
   "id": "07624a69",
   "metadata": {},
   "outputs": [
    {
     "data": {
      "text/plain": [
       "297"
      ]
     },
     "execution_count": 11,
     "metadata": {},
     "output_type": "execute_result"
    }
   ],
   "source": [
    "44+40+75+37+54+47"
   ]
  },
  {
   "cell_type": "code",
   "execution_count": 12,
   "id": "27636eff",
   "metadata": {},
   "outputs": [
    {
     "data": {
      "text/plain": [
       "array([24, 38, 77, 13, 26])"
      ]
     },
     "execution_count": 12,
     "metadata": {},
     "output_type": "execute_result"
    }
   ],
   "source": [
    "z = np.diagonal(arr, offset = 1)\n",
    "z"
   ]
  },
  {
   "cell_type": "code",
   "execution_count": 13,
   "id": "25ecd9ad",
   "metadata": {},
   "outputs": [
    {
     "data": {
      "text/plain": [
       "178"
      ]
     },
     "execution_count": 13,
     "metadata": {},
     "output_type": "execute_result"
    }
   ],
   "source": [
    "a = np.trace(arr, offset = 1)\n",
    "a"
   ]
  },
  {
   "cell_type": "code",
   "execution_count": 14,
   "id": "ca74a06a",
   "metadata": {},
   "outputs": [
    {
     "data": {
      "text/plain": [
       "178"
      ]
     },
     "execution_count": 14,
     "metadata": {},
     "output_type": "execute_result"
    }
   ],
   "source": [
    "24+38+77+13+26"
   ]
  },
  {
   "cell_type": "code",
   "execution_count": 15,
   "id": "2462eb4e",
   "metadata": {},
   "outputs": [
    {
     "data": {
      "text/plain": [
       "array([29, 77, 14, 39, 94])"
      ]
     },
     "execution_count": 15,
     "metadata": {},
     "output_type": "execute_result"
    }
   ],
   "source": [
    "z = np.diagonal(arr, offset = -1)\n",
    "z"
   ]
  },
  {
   "cell_type": "code",
   "execution_count": 16,
   "id": "3a39bba5",
   "metadata": {},
   "outputs": [
    {
     "data": {
      "text/plain": [
       "253"
      ]
     },
     "execution_count": 16,
     "metadata": {},
     "output_type": "execute_result"
    }
   ],
   "source": [
    "a = np.trace(arr, offset = -1)\n",
    "a"
   ]
  },
  {
   "cell_type": "markdown",
   "id": "7d6beae1",
   "metadata": {},
   "source": [
    "### Attributes \n",
    "\n",
    "- These are some characteristics or Properties of an object, which are storing some kind of an information in them "
   ]
  },
  {
   "cell_type": "markdown",
   "id": "eeb0281f",
   "metadata": {},
   "source": [
    "### Shape\n",
    "\n",
    "- This tells us about the shape of the array \n"
   ]
  },
  {
   "cell_type": "code",
   "execution_count": 17,
   "id": "2651524c",
   "metadata": {},
   "outputs": [
    {
     "data": {
      "text/plain": [
       "array([0.23943509, 0.3461558 , 0.33554855, 0.29894131, 0.37908988,\n",
       "       0.61874117, 0.79615376, 0.14736042, 0.34406253, 0.19756699,\n",
       "       0.50637152, 0.01370444, 0.41252469, 0.08867339, 0.83179902,\n",
       "       0.3958035 , 0.78245502, 0.59934433, 0.76051502, 0.24288357,\n",
       "       0.32548867, 0.24802186, 0.60143313, 0.32699154])"
      ]
     },
     "execution_count": 17,
     "metadata": {},
     "output_type": "execute_result"
    }
   ],
   "source": [
    "n = np.random.random(24) # random.random will generate number between 0 and 1 \n",
    "n"
   ]
  },
  {
   "cell_type": "code",
   "execution_count": 18,
   "id": "fa2c8357",
   "metadata": {},
   "outputs": [
    {
     "data": {
      "text/plain": [
       "(24,)"
      ]
     },
     "execution_count": 18,
     "metadata": {},
     "output_type": "execute_result"
    }
   ],
   "source": [
    "n.shape"
   ]
  },
  {
   "cell_type": "markdown",
   "id": "22b0a19f",
   "metadata": {},
   "source": [
    "### Reshape \n",
    "\n",
    "- It reshapes the array as per the shape we have passed \n",
    "- It return a new array of the given shape, it doesnot make the changes in the existing array"
   ]
  },
  {
   "cell_type": "code",
   "execution_count": 20,
   "id": "6a493c01",
   "metadata": {},
   "outputs": [
    {
     "data": {
      "text/plain": [
       "array([0.23943509, 0.3461558 , 0.33554855, 0.29894131, 0.37908988,\n",
       "       0.61874117, 0.79615376, 0.14736042, 0.34406253, 0.19756699,\n",
       "       0.50637152, 0.01370444, 0.41252469, 0.08867339, 0.83179902,\n",
       "       0.3958035 , 0.78245502, 0.59934433, 0.76051502, 0.24288357,\n",
       "       0.32548867, 0.24802186, 0.60143313, 0.32699154])"
      ]
     },
     "execution_count": 20,
     "metadata": {},
     "output_type": "execute_result"
    }
   ],
   "source": [
    "n"
   ]
  },
  {
   "cell_type": "code",
   "execution_count": 21,
   "id": "a747ae97",
   "metadata": {},
   "outputs": [
    {
     "data": {
      "text/plain": [
       "(24,)"
      ]
     },
     "execution_count": 21,
     "metadata": {},
     "output_type": "execute_result"
    }
   ],
   "source": [
    "n.shape"
   ]
  },
  {
   "cell_type": "code",
   "execution_count": 22,
   "id": "91b22f65",
   "metadata": {},
   "outputs": [
    {
     "data": {
      "text/plain": [
       "array([[0.23943509, 0.3461558 ],\n",
       "       [0.33554855, 0.29894131],\n",
       "       [0.37908988, 0.61874117],\n",
       "       [0.79615376, 0.14736042],\n",
       "       [0.34406253, 0.19756699],\n",
       "       [0.50637152, 0.01370444],\n",
       "       [0.41252469, 0.08867339],\n",
       "       [0.83179902, 0.3958035 ],\n",
       "       [0.78245502, 0.59934433],\n",
       "       [0.76051502, 0.24288357],\n",
       "       [0.32548867, 0.24802186],\n",
       "       [0.60143313, 0.32699154]])"
      ]
     },
     "execution_count": 22,
     "metadata": {},
     "output_type": "execute_result"
    }
   ],
   "source": [
    "n.reshape(12,2)"
   ]
  },
  {
   "cell_type": "code",
   "execution_count": 23,
   "id": "1b924e62",
   "metadata": {},
   "outputs": [
    {
     "data": {
      "text/plain": [
       "array([[0.23943509, 0.3461558 , 0.33554855, 0.29894131, 0.37908988,\n",
       "        0.61874117, 0.79615376, 0.14736042],\n",
       "       [0.34406253, 0.19756699, 0.50637152, 0.01370444, 0.41252469,\n",
       "        0.08867339, 0.83179902, 0.3958035 ],\n",
       "       [0.78245502, 0.59934433, 0.76051502, 0.24288357, 0.32548867,\n",
       "        0.24802186, 0.60143313, 0.32699154]])"
      ]
     },
     "execution_count": 23,
     "metadata": {},
     "output_type": "execute_result"
    }
   ],
   "source": [
    "n.reshape(3,8)"
   ]
  },
  {
   "cell_type": "code",
   "execution_count": 24,
   "id": "bc50752a",
   "metadata": {},
   "outputs": [
    {
     "data": {
      "text/plain": [
       "array([[0.23943509, 0.3461558 , 0.33554855, 0.29894131],\n",
       "       [0.37908988, 0.61874117, 0.79615376, 0.14736042],\n",
       "       [0.34406253, 0.19756699, 0.50637152, 0.01370444],\n",
       "       [0.41252469, 0.08867339, 0.83179902, 0.3958035 ],\n",
       "       [0.78245502, 0.59934433, 0.76051502, 0.24288357],\n",
       "       [0.32548867, 0.24802186, 0.60143313, 0.32699154]])"
      ]
     },
     "execution_count": 24,
     "metadata": {},
     "output_type": "execute_result"
    }
   ],
   "source": [
    "n.reshape(6,4)"
   ]
  },
  {
   "cell_type": "markdown",
   "id": "a1315059",
   "metadata": {},
   "source": [
    "### dtype\n",
    "\n",
    " - This tells us about the datatype stored in the array "
   ]
  },
  {
   "cell_type": "code",
   "execution_count": 25,
   "id": "01e1184a",
   "metadata": {},
   "outputs": [
    {
     "data": {
      "text/plain": [
       "array([0.23943509, 0.3461558 , 0.33554855, 0.29894131, 0.37908988,\n",
       "       0.61874117, 0.79615376, 0.14736042, 0.34406253, 0.19756699,\n",
       "       0.50637152, 0.01370444, 0.41252469, 0.08867339, 0.83179902,\n",
       "       0.3958035 , 0.78245502, 0.59934433, 0.76051502, 0.24288357,\n",
       "       0.32548867, 0.24802186, 0.60143313, 0.32699154])"
      ]
     },
     "execution_count": 25,
     "metadata": {},
     "output_type": "execute_result"
    }
   ],
   "source": [
    "n"
   ]
  },
  {
   "cell_type": "code",
   "execution_count": 26,
   "id": "81ea6861",
   "metadata": {},
   "outputs": [
    {
     "data": {
      "text/plain": [
       "dtype('float64')"
      ]
     },
     "execution_count": 26,
     "metadata": {},
     "output_type": "execute_result"
    }
   ],
   "source": [
    "n.dtype"
   ]
  },
  {
   "cell_type": "markdown",
   "id": "efee4932",
   "metadata": {},
   "source": [
    "### Dimensionality - ndim\n",
    "\n",
    "- This tells us about the dimension of the array"
   ]
  },
  {
   "cell_type": "code",
   "execution_count": 27,
   "id": "96a19061",
   "metadata": {},
   "outputs": [
    {
     "data": {
      "text/plain": [
       "array([[[[57, 89],\n",
       "         [25, 75],\n",
       "         [63, 49]],\n",
       "\n",
       "        [[45, 40],\n",
       "         [62, 32],\n",
       "         [84, 56]],\n",
       "\n",
       "        [[79, 95],\n",
       "         [55, 66],\n",
       "         [30, 77]]],\n",
       "\n",
       "\n",
       "       [[[41, 57],\n",
       "         [20, 21],\n",
       "         [26, 94]],\n",
       "\n",
       "        [[26, 17],\n",
       "         [21, 49],\n",
       "         [61, 12]],\n",
       "\n",
       "        [[91, 55],\n",
       "         [41, 94],\n",
       "         [84, 60]]]])"
      ]
     },
     "execution_count": 27,
     "metadata": {},
     "output_type": "execute_result"
    }
   ],
   "source": [
    "n = np.random.randint(10,100,36).reshape(2,3,3,2)\n",
    "n"
   ]
  },
  {
   "cell_type": "code",
   "execution_count": 28,
   "id": "8b24c3d6",
   "metadata": {},
   "outputs": [
    {
     "data": {
      "text/plain": [
       "4"
      ]
     },
     "execution_count": 28,
     "metadata": {},
     "output_type": "execute_result"
    }
   ],
   "source": [
    "n.ndim"
   ]
  },
  {
   "cell_type": "code",
   "execution_count": 29,
   "id": "3db421d2",
   "metadata": {},
   "outputs": [
    {
     "data": {
      "text/plain": [
       "array([[[29, 37, 22, 56],\n",
       "        [91, 37, 42, 27],\n",
       "        [72, 70, 15, 56]],\n",
       "\n",
       "       [[53, 30, 89, 65],\n",
       "        [60, 51, 32, 33],\n",
       "        [76, 51, 97, 24]],\n",
       "\n",
       "       [[67, 37, 63, 30],\n",
       "        [79, 10, 58, 69],\n",
       "        [29, 27, 51, 14]]])"
      ]
     },
     "execution_count": 29,
     "metadata": {},
     "output_type": "execute_result"
    }
   ],
   "source": [
    "n = np.random.randint(10,100,36).reshape(3,3,4)\n",
    "n"
   ]
  },
  {
   "cell_type": "code",
   "execution_count": 30,
   "id": "6fc876ca",
   "metadata": {},
   "outputs": [
    {
     "data": {
      "text/plain": [
       "3"
      ]
     },
     "execution_count": 30,
     "metadata": {},
     "output_type": "execute_result"
    }
   ],
   "source": [
    "n.ndim"
   ]
  },
  {
   "cell_type": "markdown",
   "id": "71d200ae",
   "metadata": {},
   "source": [
    "### Create a 2D array, 3D array and 4D array "
   ]
  },
  {
   "cell_type": "code",
   "execution_count": null,
   "id": "5b481493",
   "metadata": {},
   "outputs": [],
   "source": [
    "list - 1D\n",
    "list of a list - 2D\n",
    "2 2D - 3D\n",
    "2 3D - 4D"
   ]
  },
  {
   "cell_type": "code",
   "execution_count": 32,
   "id": "54aa871c",
   "metadata": {},
   "outputs": [
    {
     "data": {
      "text/plain": [
       "array([1, 2, 3, 4])"
      ]
     },
     "execution_count": 32,
     "metadata": {},
     "output_type": "execute_result"
    }
   ],
   "source": [
    "a = np.array([1,2,3,4])\n",
    "a"
   ]
  },
  {
   "cell_type": "code",
   "execution_count": 33,
   "id": "45c2385d",
   "metadata": {},
   "outputs": [
    {
     "data": {
      "text/plain": [
       "array([[1, 2, 3, 4],\n",
       "       [5, 6, 7, 8]])"
      ]
     },
     "execution_count": 33,
     "metadata": {},
     "output_type": "execute_result"
    }
   ],
   "source": [
    "a = np.array([[1,2,3,4], [5,6,7,8]])\n",
    "a"
   ]
  },
  {
   "cell_type": "code",
   "execution_count": 34,
   "id": "bc29c411",
   "metadata": {},
   "outputs": [
    {
     "data": {
      "text/plain": [
       "array([[[1, 2, 3, 4],\n",
       "        [5, 6, 7, 8]],\n",
       "\n",
       "       [[1, 2, 3, 4],\n",
       "        [5, 6, 7, 8]]])"
      ]
     },
     "execution_count": 34,
     "metadata": {},
     "output_type": "execute_result"
    }
   ],
   "source": [
    "a = np.array([[[1,2,3,4], [5,6,7,8]], \n",
    "              [[1,2,3,4], [5,6,7,8]]])\n",
    "a"
   ]
  },
  {
   "cell_type": "code",
   "execution_count": 35,
   "id": "779f3b3f",
   "metadata": {},
   "outputs": [
    {
     "data": {
      "text/plain": [
       "array([[[[1, 2, 3, 4],\n",
       "         [5, 6, 7, 8]],\n",
       "\n",
       "        [[1, 2, 3, 4],\n",
       "         [5, 6, 7, 8]]],\n",
       "\n",
       "\n",
       "       [[[1, 2, 3, 4],\n",
       "         [5, 6, 7, 8]],\n",
       "\n",
       "        [[1, 2, 3, 4],\n",
       "         [5, 6, 7, 8]]]])"
      ]
     },
     "execution_count": 35,
     "metadata": {},
     "output_type": "execute_result"
    }
   ],
   "source": [
    "a = np.array([[[[1,2,3,4], [5,6,7,8]], \n",
    "              [[1,2,3,4], [5,6,7,8]]], \n",
    "             [[[1,2,3,4], [5,6,7,8]], \n",
    "              [[1,2,3,4], [5,6,7,8]]]])\n",
    "a"
   ]
  },
  {
   "cell_type": "code",
   "execution_count": 36,
   "id": "206849ef",
   "metadata": {},
   "outputs": [
    {
     "data": {
      "text/plain": [
       "array([1, 2, 3])"
      ]
     },
     "execution_count": 36,
     "metadata": {},
     "output_type": "execute_result"
    }
   ],
   "source": [
    "n = np.array([1,2,3])\n",
    "n"
   ]
  },
  {
   "cell_type": "code",
   "execution_count": 37,
   "id": "f4fcd560",
   "metadata": {},
   "outputs": [
    {
     "data": {
      "text/plain": [
       "(3,)"
      ]
     },
     "execution_count": 37,
     "metadata": {},
     "output_type": "execute_result"
    }
   ],
   "source": [
    "n.shape"
   ]
  },
  {
   "cell_type": "code",
   "execution_count": 38,
   "id": "f23b5920",
   "metadata": {},
   "outputs": [
    {
     "data": {
      "text/plain": [
       "array([[1, 2, 3],\n",
       "       [4, 5, 6]])"
      ]
     },
     "execution_count": 38,
     "metadata": {},
     "output_type": "execute_result"
    }
   ],
   "source": [
    "n = np.array([[1,2,3], [4,5,6]])\n",
    "n"
   ]
  },
  {
   "cell_type": "code",
   "execution_count": 39,
   "id": "729227aa",
   "metadata": {},
   "outputs": [
    {
     "data": {
      "text/plain": [
       "(2, 3)"
      ]
     },
     "execution_count": 39,
     "metadata": {},
     "output_type": "execute_result"
    }
   ],
   "source": [
    "n.shape"
   ]
  },
  {
   "cell_type": "code",
   "execution_count": 40,
   "id": "195202c0",
   "metadata": {},
   "outputs": [
    {
     "data": {
      "text/plain": [
       "array([[[1, 2, 3],\n",
       "        [4, 5, 6]],\n",
       "\n",
       "       [[1, 2, 3],\n",
       "        [4, 5, 6]]])"
      ]
     },
     "execution_count": 40,
     "metadata": {},
     "output_type": "execute_result"
    }
   ],
   "source": [
    "n = np.array([[[1,2,3], [4,5,6]], [[1,2,3], [4,5,6]]])\n",
    "n"
   ]
  },
  {
   "cell_type": "code",
   "execution_count": 41,
   "id": "0be82ccc",
   "metadata": {},
   "outputs": [
    {
     "data": {
      "text/plain": [
       "(2, 2, 3)"
      ]
     },
     "execution_count": 41,
     "metadata": {},
     "output_type": "execute_result"
    }
   ],
   "source": [
    "n.shape"
   ]
  },
  {
   "cell_type": "markdown",
   "id": "fdb19ac0",
   "metadata": {},
   "source": [
    "number of layers, list in each layer, elements in each list "
   ]
  },
  {
   "cell_type": "code",
   "execution_count": 42,
   "id": "289c4fb5",
   "metadata": {},
   "outputs": [
    {
     "data": {
      "text/plain": [
       "array([0.31075185, 0.64363528, 0.8993454 , 0.94614042, 0.02883916,\n",
       "       0.5649789 , 0.57232465, 0.32399132, 0.9485152 , 0.49430502,\n",
       "       0.47822086, 0.88813808, 0.09715862, 0.53655697, 0.12411725,\n",
       "       0.76890707, 0.56859326, 0.18246954, 0.44926349, 0.56192658,\n",
       "       0.32200315, 0.97218112, 0.43029323, 0.53666993])"
      ]
     },
     "execution_count": 42,
     "metadata": {},
     "output_type": "execute_result"
    }
   ],
   "source": [
    "n = np.random.random(24) # random.random will generate number between 0 and 1 \n",
    "n"
   ]
  },
  {
   "cell_type": "code",
   "execution_count": 43,
   "id": "182b9f43",
   "metadata": {},
   "outputs": [
    {
     "data": {
      "text/plain": [
       "array([[[0.31075185, 0.64363528],\n",
       "        [0.8993454 , 0.94614042],\n",
       "        [0.02883916, 0.5649789 ],\n",
       "        [0.57232465, 0.32399132]],\n",
       "\n",
       "       [[0.9485152 , 0.49430502],\n",
       "        [0.47822086, 0.88813808],\n",
       "        [0.09715862, 0.53655697],\n",
       "        [0.12411725, 0.76890707]],\n",
       "\n",
       "       [[0.56859326, 0.18246954],\n",
       "        [0.44926349, 0.56192658],\n",
       "        [0.32200315, 0.97218112],\n",
       "        [0.43029323, 0.53666993]]])"
      ]
     },
     "execution_count": 43,
     "metadata": {},
     "output_type": "execute_result"
    }
   ],
   "source": [
    "n.reshape(3,4,2)"
   ]
  },
  {
   "cell_type": "markdown",
   "id": "92871266",
   "metadata": {},
   "source": [
    "### Indexing and Slicing in Array"
   ]
  },
  {
   "cell_type": "markdown",
   "id": "cadb247a",
   "metadata": {},
   "source": [
    "#### Indexing and Slicing in 1-D array\n",
    "\n",
    "- the indexing and the slicing of a 1-D array is similar to the indexing and the slicing of a list\n",
    "- Array will support both Positive and negative indexing"
   ]
  },
  {
   "cell_type": "markdown",
   "id": "9f36f651",
   "metadata": {},
   "source": [
    "#### Indexing \n",
    "\n",
    "- Fetching the elements out form a particukar position or index \n",
    "\n",
    "        Syntax:\n",
    "            \n",
    "                arr[index]"
   ]
  },
  {
   "cell_type": "code",
   "execution_count": 44,
   "id": "01daa15e",
   "metadata": {},
   "outputs": [
    {
     "data": {
      "text/plain": [
       "array([1, 2, 3, 4, 5, 6, 7, 8, 9])"
      ]
     },
     "execution_count": 44,
     "metadata": {},
     "output_type": "execute_result"
    }
   ],
   "source": [
    "arr = np.array([1,2,3,4,5,6,7,8,9])\n",
    "arr"
   ]
  },
  {
   "cell_type": "code",
   "execution_count": 45,
   "id": "b6dca900",
   "metadata": {},
   "outputs": [
    {
     "data": {
      "text/plain": [
       "(9,)"
      ]
     },
     "execution_count": 45,
     "metadata": {},
     "output_type": "execute_result"
    }
   ],
   "source": [
    "arr.shape"
   ]
  },
  {
   "cell_type": "code",
   "execution_count": 46,
   "id": "8a644ed1",
   "metadata": {},
   "outputs": [
    {
     "data": {
      "text/plain": [
       "1"
      ]
     },
     "execution_count": 46,
     "metadata": {},
     "output_type": "execute_result"
    }
   ],
   "source": [
    "arr.ndim"
   ]
  },
  {
   "cell_type": "code",
   "execution_count": 47,
   "id": "3226dcbb",
   "metadata": {},
   "outputs": [
    {
     "data": {
      "text/plain": [
       "1"
      ]
     },
     "execution_count": 47,
     "metadata": {},
     "output_type": "execute_result"
    }
   ],
   "source": [
    "# Fetch te first ite from the array \n",
    "\n",
    "arr[0] # Positive indexing\n",
    "arr[-len(arr)] # Negative indexing\n"
   ]
  },
  {
   "cell_type": "code",
   "execution_count": 49,
   "id": "a7cec4ef",
   "metadata": {},
   "outputs": [
    {
     "data": {
      "text/plain": [
       "9"
      ]
     },
     "execution_count": 49,
     "metadata": {},
     "output_type": "execute_result"
    }
   ],
   "source": [
    "# Fetch the last element from the array \n",
    "\n",
    "arr[8]\n",
    "arr[-1]\n",
    "arr[len(arr)-1]"
   ]
  },
  {
   "cell_type": "markdown",
   "id": "56731612",
   "metadata": {},
   "source": [
    "### Slicing \n",
    "\n",
    "    Synatx:\n",
    "            arr[starting_index:ending_index:step_size)\n",
    "            \n",
    "              ending_index excluded\n",
    "              step_size = 1"
   ]
  },
  {
   "cell_type": "code",
   "execution_count": 50,
   "id": "84c61896",
   "metadata": {},
   "outputs": [
    {
     "data": {
      "text/plain": [
       "array([1, 2, 3, 4, 5, 6, 7, 8, 9])"
      ]
     },
     "execution_count": 50,
     "metadata": {},
     "output_type": "execute_result"
    }
   ],
   "source": [
    "arr"
   ]
  },
  {
   "cell_type": "code",
   "execution_count": 51,
   "id": "41989908",
   "metadata": {},
   "outputs": [
    {
     "name": "stdout",
     "output_type": "stream",
     "text": [
      "[1 2 3 4 5]\n",
      "[1 2 3 4 5]\n",
      "[1 2 3 4 5]\n"
     ]
    }
   ],
   "source": [
    "# Fetch the first five elements\n",
    "\n",
    "print(arr[0:5])\n",
    "print(arr[:5])\n",
    "print(arr[0:5:1])"
   ]
  },
  {
   "cell_type": "code",
   "execution_count": 52,
   "id": "709ecc46",
   "metadata": {},
   "outputs": [
    {
     "data": {
      "text/plain": [
       "array([9, 8, 7, 6, 5, 4, 3, 2, 1])"
      ]
     },
     "execution_count": 52,
     "metadata": {},
     "output_type": "execute_result"
    }
   ],
   "source": [
    "# Reverse the array \n",
    "\n",
    "arr[::-1]"
   ]
  },
  {
   "cell_type": "code",
   "execution_count": 53,
   "id": "19abce92",
   "metadata": {},
   "outputs": [
    {
     "name": "stdout",
     "output_type": "stream",
     "text": [
      "[9 7 5 3 1]\n"
     ]
    }
   ],
   "source": [
    "# Fetch every second element in the reverse order\n",
    "\n",
    "print(arr[::-2])"
   ]
  },
  {
   "cell_type": "markdown",
   "id": "cdb7a667",
   "metadata": {},
   "source": [
    "### Indexing and Slicing in 2-D array "
   ]
  },
  {
   "cell_type": "markdown",
   "id": "fb2c9ae6",
   "metadata": {},
   "source": [
    "- How many list are there in an array and how many elements are there in each list\n",
    "- How many list out of the total we want and how many elements from the total we want"
   ]
  },
  {
   "cell_type": "code",
   "execution_count": 87,
   "id": "d498e576",
   "metadata": {},
   "outputs": [
    {
     "data": {
      "text/plain": [
       "array([38, 13, 73, 10, 76,  6, 80, 65, 17,  2, 77, 72])"
      ]
     },
     "execution_count": 87,
     "metadata": {},
     "output_type": "execute_result"
    }
   ],
   "source": [
    "np.random.seed(1) # it is fixing the random state \n",
    "arr = np.random.randint(1,100,12)\n",
    "arr"
   ]
  },
  {
   "cell_type": "code",
   "execution_count": 88,
   "id": "4a4c8cfe",
   "metadata": {},
   "outputs": [
    {
     "data": {
      "text/plain": [
       "array([[38, 13, 73, 10],\n",
       "       [76,  6, 80, 65],\n",
       "       [17,  2, 77, 72]])"
      ]
     },
     "execution_count": 88,
     "metadata": {},
     "output_type": "execute_result"
    }
   ],
   "source": [
    "arr1 = arr.reshape(3,4)\n",
    "arr1"
   ]
  },
  {
   "cell_type": "code",
   "execution_count": 89,
   "id": "a7f8520f",
   "metadata": {},
   "outputs": [
    {
     "data": {
      "text/plain": [
       "2"
      ]
     },
     "execution_count": 89,
     "metadata": {},
     "output_type": "execute_result"
    }
   ],
   "source": [
    "arr1.ndim"
   ]
  },
  {
   "cell_type": "code",
   "execution_count": 90,
   "id": "12269046",
   "metadata": {},
   "outputs": [
    {
     "data": {
      "text/plain": [
       "3"
      ]
     },
     "execution_count": 90,
     "metadata": {},
     "output_type": "execute_result"
    }
   ],
   "source": [
    "len(arr1)"
   ]
  },
  {
   "cell_type": "code",
   "execution_count": 91,
   "id": "051f3257",
   "metadata": {},
   "outputs": [
    {
     "name": "stdout",
     "output_type": "stream",
     "text": [
      "[38 13 73 10]\n",
      "[38 13 73 10]\n",
      "[38 13 73 10]\n"
     ]
    }
   ],
   "source": [
    "# fetch the first row \n",
    "\n",
    "print(arr1[0]) # Positive Indexing\n",
    "print(arr1[-3]) # Negative Indexinh\n",
    "print(arr1[-len(arr1)])"
   ]
  },
  {
   "cell_type": "code",
   "execution_count": 92,
   "id": "5848b5d3",
   "metadata": {},
   "outputs": [
    {
     "name": "stdout",
     "output_type": "stream",
     "text": [
      "[17  2 77 72]\n",
      "[17  2 77 72]\n",
      "[17  2 77 72]\n"
     ]
    }
   ],
   "source": [
    "# fetch the last row \n",
    "print(arr1[2])\n",
    "print(arr1[-1])\n",
    "print(arr1[len(arr1)-1])"
   ]
  },
  {
   "cell_type": "code",
   "execution_count": 93,
   "id": "c5ad37bf",
   "metadata": {},
   "outputs": [
    {
     "data": {
      "text/plain": [
       "array([[38, 13, 73, 10],\n",
       "       [76,  6, 80, 65],\n",
       "       [17,  2, 77, 72]])"
      ]
     },
     "execution_count": 93,
     "metadata": {},
     "output_type": "execute_result"
    }
   ],
   "source": [
    "arr1"
   ]
  },
  {
   "cell_type": "code",
   "execution_count": 94,
   "id": "a96efeed",
   "metadata": {},
   "outputs": [
    {
     "data": {
      "text/plain": [
       "38"
      ]
     },
     "execution_count": 94,
     "metadata": {},
     "output_type": "execute_result"
    }
   ],
   "source": [
    "arr1[0][0]"
   ]
  },
  {
   "cell_type": "markdown",
   "id": "73624ad1",
   "metadata": {},
   "source": [
    "#### Slicing in 2-D\n",
    "\n",
    "##### arr[row_slicing]\n",
    "\n",
    "arr[row_starting_index:row_endinhg_indexing:step_size]\n",
    "\n",
    "##### arr[column_slicing]\n",
    "\n",
    "arr[column_Starting_index: column_ending_index: step_size]\n",
    "\n",
    "##### arr[row_Slicing, Column_slicing]\n",
    "\n",
    "arr[row_starting_index:row_endinhg_indexing:step_size, column_Starting_index: column_ending_index: step_size]\n"
   ]
  },
  {
   "cell_type": "code",
   "execution_count": 95,
   "id": "c62e002b",
   "metadata": {},
   "outputs": [
    {
     "data": {
      "text/plain": [
       "38"
      ]
     },
     "execution_count": 95,
     "metadata": {},
     "output_type": "execute_result"
    }
   ],
   "source": [
    "arr1[0,0]"
   ]
  },
  {
   "cell_type": "code",
   "execution_count": 96,
   "id": "05692962",
   "metadata": {},
   "outputs": [
    {
     "data": {
      "text/plain": [
       "array([[38, 13, 73, 10],\n",
       "       [76,  6, 80, 65],\n",
       "       [17,  2, 77, 72]])"
      ]
     },
     "execution_count": 96,
     "metadata": {},
     "output_type": "execute_result"
    }
   ],
   "source": [
    "arr1"
   ]
  },
  {
   "cell_type": "code",
   "execution_count": 97,
   "id": "8a860bac",
   "metadata": {},
   "outputs": [
    {
     "name": "stdout",
     "output_type": "stream",
     "text": [
      "[[38]\n",
      " [76]\n",
      " [17]]\n"
     ]
    }
   ],
   "source": [
    "print(arr1[::, 0:1])"
   ]
  },
  {
   "cell_type": "code",
   "execution_count": 98,
   "id": "0a090d67",
   "metadata": {},
   "outputs": [
    {
     "data": {
      "text/plain": [
       "array([[13, 73],\n",
       "       [ 6, 80],\n",
       "       [ 2, 77]])"
      ]
     },
     "execution_count": 98,
     "metadata": {},
     "output_type": "execute_result"
    }
   ],
   "source": [
    "arr1[::, 1:3]\n"
   ]
  },
  {
   "cell_type": "code",
   "execution_count": 101,
   "id": "7b7b1668",
   "metadata": {},
   "outputs": [
    {
     "data": {
      "text/plain": [
       "array([[38, 13, 73, 10],\n",
       "       [76,  6, 80, 65],\n",
       "       [17,  2, 77, 72]])"
      ]
     },
     "execution_count": 101,
     "metadata": {},
     "output_type": "execute_result"
    }
   ],
   "source": [
    "arr1"
   ]
  },
  {
   "cell_type": "code",
   "execution_count": 102,
   "id": "fee03fc9",
   "metadata": {},
   "outputs": [
    {
     "data": {
      "text/plain": [
       "array([[80, 65],\n",
       "       [77, 72]])"
      ]
     },
     "execution_count": 102,
     "metadata": {},
     "output_type": "execute_result"
    }
   ],
   "source": [
    "arr1[1:3, 2:4]\n"
   ]
  },
  {
   "cell_type": "code",
   "execution_count": 106,
   "id": "f6668be9",
   "metadata": {},
   "outputs": [
    {
     "data": {
      "text/plain": [
       "array([[80, 65],\n",
       "       [77, 72]])"
      ]
     },
     "execution_count": 106,
     "metadata": {},
     "output_type": "execute_result"
    }
   ],
   "source": [
    "arr1[1:,2:]\n"
   ]
  },
  {
   "cell_type": "code",
   "execution_count": 107,
   "id": "79d8097c",
   "metadata": {},
   "outputs": [
    {
     "data": {
      "text/plain": [
       "array([[76,  6, 80],\n",
       "       [17,  2, 77]])"
      ]
     },
     "execution_count": 107,
     "metadata": {},
     "output_type": "execute_result"
    }
   ],
   "source": [
    "arr1[1:, :3]"
   ]
  },
  {
   "cell_type": "code",
   "execution_count": 109,
   "id": "6a860184",
   "metadata": {},
   "outputs": [
    {
     "data": {
      "text/plain": [
       "array([[38, 13, 73, 10],\n",
       "       [76,  6, 80, 65],\n",
       "       [17,  2, 77, 72]])"
      ]
     },
     "execution_count": 109,
     "metadata": {},
     "output_type": "execute_result"
    }
   ],
   "source": [
    "arr1"
   ]
  },
  {
   "cell_type": "code",
   "execution_count": 112,
   "id": "bbe10620",
   "metadata": {},
   "outputs": [
    {
     "data": {
      "text/plain": [
       "array([[10, 73, 13, 38],\n",
       "       [65, 80,  6, 76],\n",
       "       [72, 77,  2, 17]])"
      ]
     },
     "execution_count": 112,
     "metadata": {},
     "output_type": "execute_result"
    }
   ],
   "source": [
    "#         [[10,73,13,38],\n",
    "#        [65,80,6,76],\n",
    "#        [72,77,2,17]]\n",
    "\n",
    "arr1[::,::-1]\n"
   ]
  },
  {
   "cell_type": "code",
   "execution_count": 113,
   "id": "5e61c8ab",
   "metadata": {},
   "outputs": [
    {
     "data": {
      "text/plain": [
       "array([[72, 77,  2, 17],\n",
       "       [65, 80,  6, 76],\n",
       "       [10, 73, 13, 38]])"
      ]
     },
     "execution_count": 113,
     "metadata": {},
     "output_type": "execute_result"
    }
   ],
   "source": [
    "#         [[72,77,2,17],\n",
    "#        [65,80,6,76],\n",
    "#        [10,73,13,38]]\n",
    "\n",
    "arr1[::-1,::-1]\n"
   ]
  },
  {
   "cell_type": "code",
   "execution_count": 114,
   "id": "41ccba72",
   "metadata": {},
   "outputs": [
    {
     "data": {
      "text/plain": [
       "array([[ 7, 26, 51],\n",
       "       [21, 19, 85],\n",
       "       [12, 29, 30]])"
      ]
     },
     "execution_count": 114,
     "metadata": {},
     "output_type": "execute_result"
    }
   ],
   "source": [
    "arr = np.random.randint(1,100,9).reshape(3,3)\n",
    "arr"
   ]
  },
  {
   "cell_type": "code",
   "execution_count": 115,
   "id": "28fe3bf9",
   "metadata": {},
   "outputs": [
    {
     "data": {
      "text/plain": [
       "array([ 7, 19, 30])"
      ]
     },
     "execution_count": 115,
     "metadata": {},
     "output_type": "execute_result"
    }
   ],
   "source": [
    "np.diagonal(arr)"
   ]
  },
  {
   "cell_type": "code",
   "execution_count": 118,
   "id": "e7c3eaf0",
   "metadata": {},
   "outputs": [
    {
     "data": {
      "text/plain": [
       "array([30, 19,  7])"
      ]
     },
     "execution_count": 118,
     "metadata": {},
     "output_type": "execute_result"
    }
   ],
   "source": [
    "np.diagonal(arr)[::-1]\n"
   ]
  },
  {
   "cell_type": "code",
   "execution_count": null,
   "id": "ecd40b38",
   "metadata": {},
   "outputs": [],
   "source": []
  }
 ],
 "metadata": {
  "kernelspec": {
   "display_name": "Python 3 (ipykernel)",
   "language": "python",
   "name": "python3"
  },
  "language_info": {
   "codemirror_mode": {
    "name": "ipython",
    "version": 3
   },
   "file_extension": ".py",
   "mimetype": "text/x-python",
   "name": "python",
   "nbconvert_exporter": "python",
   "pygments_lexer": "ipython3",
   "version": "3.11.5"
  }
 },
 "nbformat": 4,
 "nbformat_minor": 5
}
