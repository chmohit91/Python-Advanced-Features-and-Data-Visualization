{
 "cells": [
  {
   "cell_type": "markdown",
   "id": "547ef78e",
   "metadata": {},
   "source": [
    "### Indexing and Slicing in 3-D array "
   ]
  },
  {
   "cell_type": "code",
   "execution_count": 4,
   "id": "fca435df",
   "metadata": {},
   "outputs": [],
   "source": [
    "import numpy as np"
   ]
  },
  {
   "cell_type": "code",
   "execution_count": 11,
   "id": "16e8b5e2",
   "metadata": {},
   "outputs": [
    {
     "data": {
      "text/plain": [
       "array([[[ 0,  1,  2],\n",
       "        [ 3,  4,  5],\n",
       "        [ 6,  7,  8]],\n",
       "\n",
       "       [[ 9, 10, 11],\n",
       "        [12, 13, 14],\n",
       "        [15, 16, 17]],\n",
       "\n",
       "       [[18, 19, 20],\n",
       "        [21, 22, 23],\n",
       "        [24, 25, 26]]])"
      ]
     },
     "execution_count": 11,
     "metadata": {},
     "output_type": "execute_result"
    }
   ],
   "source": [
    "np.random.seed(1)\n",
    "arr = np.arange(27)\n",
    "arr = arr.reshape(3,3,3)\n",
    "arr"
   ]
  },
  {
   "cell_type": "markdown",
   "id": "768bfe00",
   "metadata": {},
   "source": [
    "### Indexing\n",
    "\n",
    "    Syntax:\n",
    "    \n",
    "        arr[arry_index] # Fetch the layer\n",
    "        arr[arr_index, row_index] # fetch a layer and a specific list in that layer\n",
    "        arr[arr_index, row_index, column_index] # fetch a layer, a specific list and a specific element from the list"
   ]
  },
  {
   "cell_type": "code",
   "execution_count": 12,
   "id": "d9a07164",
   "metadata": {},
   "outputs": [
    {
     "data": {
      "text/plain": [
       "array([[[ 0,  1,  2],\n",
       "        [ 3,  4,  5],\n",
       "        [ 6,  7,  8]],\n",
       "\n",
       "       [[ 9, 10, 11],\n",
       "        [12, 13, 14],\n",
       "        [15, 16, 17]],\n",
       "\n",
       "       [[18, 19, 20],\n",
       "        [21, 22, 23],\n",
       "        [24, 25, 26]]])"
      ]
     },
     "execution_count": 12,
     "metadata": {},
     "output_type": "execute_result"
    }
   ],
   "source": [
    "arr"
   ]
  },
  {
   "cell_type": "code",
   "execution_count": 13,
   "id": "5463b222",
   "metadata": {},
   "outputs": [
    {
     "data": {
      "text/plain": [
       "array([[ 9, 10, 11],\n",
       "       [12, 13, 14],\n",
       "       [15, 16, 17]])"
      ]
     },
     "execution_count": 13,
     "metadata": {},
     "output_type": "execute_result"
    }
   ],
   "source": [
    "arr[1]"
   ]
  },
  {
   "cell_type": "code",
   "execution_count": 14,
   "id": "4201ede1",
   "metadata": {},
   "outputs": [
    {
     "data": {
      "text/plain": [
       "array([3, 4, 5])"
      ]
     },
     "execution_count": 14,
     "metadata": {},
     "output_type": "execute_result"
    }
   ],
   "source": [
    "arr[0,1]"
   ]
  },
  {
   "cell_type": "code",
   "execution_count": 15,
   "id": "6d34113e",
   "metadata": {},
   "outputs": [
    {
     "data": {
      "text/plain": [
       "8"
      ]
     },
     "execution_count": 15,
     "metadata": {},
     "output_type": "execute_result"
    }
   ],
   "source": [
    "arr[0,2,2]"
   ]
  },
  {
   "cell_type": "code",
   "execution_count": 16,
   "id": "909e662b",
   "metadata": {},
   "outputs": [
    {
     "data": {
      "text/plain": [
       "array([[[ 0,  1,  2],\n",
       "        [ 3,  4,  5],\n",
       "        [ 6,  7,  8]],\n",
       "\n",
       "       [[ 9, 10, 11],\n",
       "        [12, 13, 14],\n",
       "        [15, 16, 17]],\n",
       "\n",
       "       [[18, 19, 20],\n",
       "        [21, 22, 23],\n",
       "        [24, 25, 26]]])"
      ]
     },
     "execution_count": 16,
     "metadata": {},
     "output_type": "execute_result"
    }
   ],
   "source": [
    "arr"
   ]
  },
  {
   "cell_type": "code",
   "execution_count": 17,
   "id": "6c26e772",
   "metadata": {},
   "outputs": [
    {
     "data": {
      "text/plain": [
       "16"
      ]
     },
     "execution_count": 17,
     "metadata": {},
     "output_type": "execute_result"
    }
   ],
   "source": [
    "# fetch 16 \n",
    "\n",
    "arr[1,2, 1]"
   ]
  },
  {
   "cell_type": "markdown",
   "id": "ed77b7cf",
   "metadata": {},
   "source": [
    "### Slicing "
   ]
  },
  {
   "cell_type": "markdown",
   "id": "66adbf9a",
   "metadata": {},
   "source": [
    "#### Synatx:\n",
    "    \n",
    "#### arr[layer_slicing]\n",
    "        \n",
    "        arr[layer_starting_index:layer_ending_index:step_size]\n",
    "        \n",
    "        Here ending_index will be excluded"
   ]
  },
  {
   "cell_type": "code",
   "execution_count": 18,
   "id": "e4140212",
   "metadata": {},
   "outputs": [
    {
     "data": {
      "text/plain": [
       "array([[[ 0,  1,  2],\n",
       "        [ 3,  4,  5],\n",
       "        [ 6,  7,  8]],\n",
       "\n",
       "       [[ 9, 10, 11],\n",
       "        [12, 13, 14],\n",
       "        [15, 16, 17]],\n",
       "\n",
       "       [[18, 19, 20],\n",
       "        [21, 22, 23],\n",
       "        [24, 25, 26]]])"
      ]
     },
     "execution_count": 18,
     "metadata": {},
     "output_type": "execute_result"
    }
   ],
   "source": [
    "arr"
   ]
  },
  {
   "cell_type": "code",
   "execution_count": 20,
   "id": "c365e00c",
   "metadata": {},
   "outputs": [
    {
     "data": {
      "text/plain": [
       "array([[[ 0,  1,  2],\n",
       "        [ 3,  4,  5],\n",
       "        [ 6,  7,  8]],\n",
       "\n",
       "       [[ 9, 10, 11],\n",
       "        [12, 13, 14],\n",
       "        [15, 16, 17]]])"
      ]
     },
     "execution_count": 20,
     "metadata": {},
     "output_type": "execute_result"
    }
   ],
   "source": [
    "arr[0:2]"
   ]
  },
  {
   "cell_type": "code",
   "execution_count": 22,
   "id": "5e5f9609",
   "metadata": {},
   "outputs": [
    {
     "data": {
      "text/plain": [
       "array([[[ 9, 10, 11],\n",
       "        [12, 13, 14],\n",
       "        [15, 16, 17]],\n",
       "\n",
       "       [[18, 19, 20],\n",
       "        [21, 22, 23],\n",
       "        [24, 25, 26]]])"
      ]
     },
     "execution_count": 22,
     "metadata": {},
     "output_type": "execute_result"
    }
   ],
   "source": [
    "arr[1:3]"
   ]
  },
  {
   "cell_type": "code",
   "execution_count": 23,
   "id": "017a225c",
   "metadata": {},
   "outputs": [
    {
     "data": {
      "text/plain": [
       "array([[[ 0,  1,  2],\n",
       "        [ 3,  4,  5],\n",
       "        [ 6,  7,  8]],\n",
       "\n",
       "       [[18, 19, 20],\n",
       "        [21, 22, 23],\n",
       "        [24, 25, 26]]])"
      ]
     },
     "execution_count": 23,
     "metadata": {},
     "output_type": "execute_result"
    }
   ],
   "source": [
    "arr[0::2]"
   ]
  },
  {
   "cell_type": "code",
   "execution_count": 24,
   "id": "5d0a0245",
   "metadata": {},
   "outputs": [
    {
     "data": {
      "text/plain": [
       "array([[[ 0,  1,  2],\n",
       "        [ 3,  4,  5],\n",
       "        [ 6,  7,  8]],\n",
       "\n",
       "       [[18, 19, 20],\n",
       "        [21, 22, 23],\n",
       "        [24, 25, 26]]])"
      ]
     },
     "execution_count": 24,
     "metadata": {},
     "output_type": "execute_result"
    }
   ],
   "source": [
    "arr[::2]"
   ]
  },
  {
   "cell_type": "markdown",
   "id": "81afaee7",
   "metadata": {},
   "source": [
    "#### arr[layer_slicing, row_slicing]\n",
    "        \n",
    "        arr[layer_starting_index:layer_ending_index:step_size, row_starting_index:row_ending_index:step_size]\n",
    "        \n",
    "        Here ending_index will be excluded"
   ]
  },
  {
   "cell_type": "code",
   "execution_count": 26,
   "id": "2591b018",
   "metadata": {},
   "outputs": [
    {
     "data": {
      "text/plain": [
       "array([[[ 0,  1,  2],\n",
       "        [ 3,  4,  5],\n",
       "        [ 6,  7,  8]],\n",
       "\n",
       "       [[ 9, 10, 11],\n",
       "        [12, 13, 14],\n",
       "        [15, 16, 17]],\n",
       "\n",
       "       [[18, 19, 20],\n",
       "        [21, 22, 23],\n",
       "        [24, 25, 26]]])"
      ]
     },
     "execution_count": 26,
     "metadata": {},
     "output_type": "execute_result"
    }
   ],
   "source": [
    "arr"
   ]
  },
  {
   "cell_type": "code",
   "execution_count": 27,
   "id": "667644ca",
   "metadata": {},
   "outputs": [
    {
     "data": {
      "text/plain": [
       "array([[[ 0,  1,  2],\n",
       "        [ 3,  4,  5]],\n",
       "\n",
       "       [[ 9, 10, 11],\n",
       "        [12, 13, 14]]])"
      ]
     },
     "execution_count": 27,
     "metadata": {},
     "output_type": "execute_result"
    }
   ],
   "source": [
    "# fetch the first two rows from the first two layer \n",
    "\n",
    "arr[:2, :2]"
   ]
  },
  {
   "cell_type": "code",
   "execution_count": 28,
   "id": "8634c95b",
   "metadata": {},
   "outputs": [
    {
     "data": {
      "text/plain": [
       "array([[[ 3,  4,  5],\n",
       "        [ 6,  7,  8]],\n",
       "\n",
       "       [[12, 13, 14],\n",
       "        [15, 16, 17]],\n",
       "\n",
       "       [[21, 22, 23],\n",
       "        [24, 25, 26]]])"
      ]
     },
     "execution_count": 28,
     "metadata": {},
     "output_type": "execute_result"
    }
   ],
   "source": [
    "# from each layer/array, i want the last two rows \n",
    "\n",
    "arr[::,1:3]"
   ]
  },
  {
   "cell_type": "code",
   "execution_count": 30,
   "id": "e154c85b",
   "metadata": {},
   "outputs": [
    {
     "data": {
      "text/plain": [
       "array([[[ 3,  4,  5],\n",
       "        [ 6,  7,  8]],\n",
       "\n",
       "       [[21, 22, 23],\n",
       "        [24, 25, 26]]])"
      ]
     },
     "execution_count": 30,
     "metadata": {},
     "output_type": "execute_result"
    }
   ],
   "source": [
    "# fetch the last two rows from the first and the last layer\n",
    "\n",
    "arr[::2, 1:]"
   ]
  },
  {
   "cell_type": "code",
   "execution_count": 31,
   "id": "83396d07",
   "metadata": {},
   "outputs": [
    {
     "data": {
      "text/plain": [
       "array([[[ 0,  1,  2],\n",
       "        [ 6,  7,  8]],\n",
       "\n",
       "       [[ 9, 10, 11],\n",
       "        [15, 16, 17]],\n",
       "\n",
       "       [[18, 19, 20],\n",
       "        [24, 25, 26]]])"
      ]
     },
     "execution_count": 31,
     "metadata": {},
     "output_type": "execute_result"
    }
   ],
   "source": [
    "# fecth the first and the last row from the all the layers \n",
    "\n",
    "arr[::, ::2]"
   ]
  },
  {
   "cell_type": "markdown",
   "id": "c391f37a",
   "metadata": {},
   "source": [
    "#### arr[layer_slicing, row_slicing, column_slicing]\n",
    "        \n",
    "arr[layer_starting_index:layer_ending_index:step_size, row_starting_index:row_ending_index:step_size,column_starting_index:column_ending_index:step_size ]\n",
    "        \n",
    "Here ending_index will be excluded"
   ]
  },
  {
   "cell_type": "code",
   "execution_count": 32,
   "id": "a468d235",
   "metadata": {},
   "outputs": [
    {
     "data": {
      "text/plain": [
       "array([[[ 0,  1,  2],\n",
       "        [ 3,  4,  5],\n",
       "        [ 6,  7,  8]],\n",
       "\n",
       "       [[ 9, 10, 11],\n",
       "        [12, 13, 14],\n",
       "        [15, 16, 17]],\n",
       "\n",
       "       [[18, 19, 20],\n",
       "        [21, 22, 23],\n",
       "        [24, 25, 26]]])"
      ]
     },
     "execution_count": 32,
     "metadata": {},
     "output_type": "execute_result"
    }
   ],
   "source": [
    "arr"
   ]
  },
  {
   "cell_type": "code",
   "execution_count": 33,
   "id": "12c225ec",
   "metadata": {},
   "outputs": [
    {
     "data": {
      "text/plain": [
       "array([[[ 0,  1],\n",
       "        [ 3,  4],\n",
       "        [ 6,  7]],\n",
       "\n",
       "       [[ 9, 10],\n",
       "        [12, 13],\n",
       "        [15, 16]],\n",
       "\n",
       "       [[18, 19],\n",
       "        [21, 22],\n",
       "        [24, 25]]])"
      ]
     },
     "execution_count": 33,
     "metadata": {},
     "output_type": "execute_result"
    }
   ],
   "source": [
    "arr[::,::,:2]"
   ]
  },
  {
   "cell_type": "code",
   "execution_count": 36,
   "id": "f38780ac",
   "metadata": {},
   "outputs": [
    {
     "data": {
      "text/plain": [
       "array([[[ 2],\n",
       "        [ 5],\n",
       "        [ 8]],\n",
       "\n",
       "       [[11],\n",
       "        [14],\n",
       "        [17]],\n",
       "\n",
       "       [[20],\n",
       "        [23],\n",
       "        [26]]])"
      ]
     },
     "execution_count": 36,
     "metadata": {},
     "output_type": "execute_result"
    }
   ],
   "source": [
    "arr[::, ::, 2:]"
   ]
  },
  {
   "cell_type": "code",
   "execution_count": 35,
   "id": "d67fc543",
   "metadata": {
    "scrolled": true
   },
   "outputs": [
    {
     "data": {
      "text/plain": [
       "array([[[ 0,  2],\n",
       "        [ 3,  5],\n",
       "        [ 6,  8]],\n",
       "\n",
       "       [[ 9, 11],\n",
       "        [12, 14],\n",
       "        [15, 17]],\n",
       "\n",
       "       [[18, 20],\n",
       "        [21, 23],\n",
       "        [24, 26]]])"
      ]
     },
     "execution_count": 35,
     "metadata": {},
     "output_type": "execute_result"
    }
   ],
   "source": [
    "arr[::, ::, ::2]"
   ]
  },
  {
   "cell_type": "markdown",
   "id": "f1a403d7",
   "metadata": {},
   "source": [
    "### Array of Random Value \n",
    "\n",
    "- In numpy, we have a random module that is used to create array of random values in it"
   ]
  },
  {
   "cell_type": "markdown",
   "id": "d059e892",
   "metadata": {},
   "source": [
    "### random.random()\n",
    "\n",
    "- It generates a specified number of random values \n",
    "- The random valuws are always between 0 and 1\n",
    "\n",
    "    Synatx:\n",
    "        \n",
    "        np.random.random(number of values)"
   ]
  },
  {
   "cell_type": "code",
   "execution_count": 43,
   "id": "4b344b73",
   "metadata": {},
   "outputs": [
    {
     "data": {
      "text/plain": [
       "array([0.90539232, 0.45988027, 0.54634682, 0.79860359, 0.28571885,\n",
       "       0.49025352, 0.59911031, 0.01553328, 0.59348141, 0.43367635,\n",
       "       0.80736053, 0.3152448 , 0.89288871, 0.57785722, 0.1840102 ,\n",
       "       0.78792923, 0.61203118, 0.05390927, 0.42019368, 0.67906884])"
      ]
     },
     "execution_count": 43,
     "metadata": {},
     "output_type": "execute_result"
    }
   ],
   "source": [
    "arr = np.random.random(20)\n",
    "arr"
   ]
  },
  {
   "cell_type": "code",
   "execution_count": 45,
   "id": "f235c1a5",
   "metadata": {},
   "outputs": [
    {
     "name": "stdout",
     "output_type": "stream",
     "text": [
      "[[0.19856989 0.42670101 0.34334624]\n",
      " [0.7976388  0.87999829 0.90384196]\n",
      " [0.66271981 0.27020826 0.2523667 ]]\n"
     ]
    }
   ],
   "source": [
    "# create a 3*3 matrix with random values between 0 and 1\n",
    "\n",
    "arr = np.random.random(9)\n",
    "arr = arr.reshape(3,3)\n",
    "print(arr)\n"
   ]
  },
  {
   "cell_type": "code",
   "execution_count": 46,
   "id": "809c1ac1",
   "metadata": {},
   "outputs": [
    {
     "data": {
      "text/plain": [
       "array([[0.85489794, 0.52771465, 0.80216108],\n",
       "       [0.57248852, 0.73314253, 0.51901163],\n",
       "       [0.77088391, 0.56885799, 0.46570988]])"
      ]
     },
     "execution_count": 46,
     "metadata": {},
     "output_type": "execute_result"
    }
   ],
   "source": [
    "arr = np.random.random(9).reshape(3,3)\n",
    "arr"
   ]
  },
  {
   "cell_type": "markdown",
   "id": "b174d6ab",
   "metadata": {},
   "source": [
    "### random.rand()\n",
    "\n",
    "- It returns an array of the random values of the given shape \n",
    "- The random values are between 0 and 1 \n",
    "\n",
    "    Syntax:\n",
    "    \n",
    "        np.random.rand(rows, columns)"
   ]
  },
  {
   "cell_type": "code",
   "execution_count": 48,
   "id": "31b2adeb",
   "metadata": {},
   "outputs": [
    {
     "data": {
      "text/plain": [
       "array([[0.56949441, 0.16097144, 0.46688002],\n",
       "       [0.34517205, 0.22503996, 0.59251187],\n",
       "       [0.31226984, 0.91630555, 0.90963552]])"
      ]
     },
     "execution_count": 48,
     "metadata": {},
     "output_type": "execute_result"
    }
   ],
   "source": [
    "arr = np.random.rand(3,3)\n",
    "arr"
   ]
  },
  {
   "cell_type": "code",
   "execution_count": 49,
   "id": "686b327d",
   "metadata": {},
   "outputs": [
    {
     "data": {
      "text/plain": [
       "array([[0.25711829, 0.1108913 , 0.19296273, 0.49958417],\n",
       "       [0.72858567, 0.20819444, 0.24803356, 0.85167187],\n",
       "       [0.41584872, 0.61668507, 0.23366614, 0.10196726]])"
      ]
     },
     "execution_count": 49,
     "metadata": {},
     "output_type": "execute_result"
    }
   ],
   "source": [
    "arr = np.random.rand(3,4)\n",
    "arr"
   ]
  },
  {
   "cell_type": "code",
   "execution_count": 50,
   "id": "fef4c2a4",
   "metadata": {},
   "outputs": [
    {
     "name": "stdout",
     "output_type": "stream",
     "text": [
      "[[0.51585702 0.47714099 0.15267164 0.62180623 0.54401012 0.65413735]\n",
      " [0.14454554 0.75152782 0.22204914 0.51935182 0.78529603 0.02233043]\n",
      " [0.32436246 0.87292238 0.84470961 0.53844059 0.86660827 0.94980599]\n",
      " [0.826407   0.85411544 0.0987434  0.65130433 0.70351699 0.61024081]\n",
      " [0.79961526 0.03457122 0.77023873 0.7317286  0.25969839 0.2570693 ]]\n"
     ]
    }
   ],
   "source": [
    "# create a 5*6 matrix\n",
    "\n",
    "arr1 = np.random.rand(5,6)\n",
    "print(arr1)\n"
   ]
  },
  {
   "cell_type": "markdown",
   "id": "ee6d17bd",
   "metadata": {},
   "source": [
    "### random.randint()\n",
    "\n",
    "- It returns a 1-D array of random numbers (integers) between a specified range\n",
    "\n",
    "    Synatx:\n",
    "                \n",
    "               np.random.randint(start, stop, number of values)\n",
    "       \n",
    "               By default, both the start and the stop values are excluded "
   ]
  },
  {
   "cell_type": "code",
   "execution_count": 51,
   "id": "b36340c4",
   "metadata": {},
   "outputs": [],
   "source": [
    "arr = np.random.randint(0,51,36)"
   ]
  },
  {
   "cell_type": "code",
   "execution_count": 52,
   "id": "d256a842",
   "metadata": {},
   "outputs": [
    {
     "data": {
      "text/plain": [
       "array([14, 33, 27, 13, 30, 43, 46,  9,  3,  3,  3, 33, 35, 16, 28, 37,  0,\n",
       "       37, 29, 18, 14, 39,  6, 28, 10, 32, 46, 29, 18, 36, 29, 39, 28, 29,\n",
       "       39, 26])"
      ]
     },
     "execution_count": 52,
     "metadata": {},
     "output_type": "execute_result"
    }
   ],
   "source": [
    "arr"
   ]
  },
  {
   "cell_type": "code",
   "execution_count": 53,
   "id": "215e3849",
   "metadata": {},
   "outputs": [
    {
     "data": {
      "text/plain": [
       "array([[14, 33, 27, 13, 30, 43],\n",
       "       [46,  9,  3,  3,  3, 33],\n",
       "       [35, 16, 28, 37,  0, 37],\n",
       "       [29, 18, 14, 39,  6, 28],\n",
       "       [10, 32, 46, 29, 18, 36],\n",
       "       [29, 39, 28, 29, 39, 26]])"
      ]
     },
     "execution_count": 53,
     "metadata": {},
     "output_type": "execute_result"
    }
   ],
   "source": [
    "arr = arr.reshape(6,6)\n",
    "arr"
   ]
  },
  {
   "cell_type": "code",
   "execution_count": 56,
   "id": "9ee3cecf",
   "metadata": {},
   "outputs": [
    {
     "data": {
      "text/plain": [
       "array([[[14, 36, 26],\n",
       "        [32,  1, 48],\n",
       "        [24, 22, 34]],\n",
       "\n",
       "       [[30, 21,  4],\n",
       "        [ 3, 48, 18],\n",
       "        [33, 11, 11]],\n",
       "\n",
       "       [[12,  4, 45],\n",
       "        [ 0, 25, 40],\n",
       "        [ 7,  7, 33]],\n",
       "\n",
       "       [[ 7, 34,  4],\n",
       "        [ 5, 39, 50],\n",
       "        [12, 45, 32]]])"
      ]
     },
     "execution_count": 56,
     "metadata": {},
     "output_type": "execute_result"
    }
   ],
   "source": [
    "arr = np.random.randint(0,51,36).reshape(4,3,3)\n",
    "arr"
   ]
  },
  {
   "cell_type": "markdown",
   "id": "953eb05f",
   "metadata": {},
   "source": [
    "### random.seed(random state)\n",
    "\n",
    "- It is used to set the random state of the randomized value \n",
    "- Random state is an integer number in the range 0 to (2**32)-1\n"
   ]
  },
  {
   "cell_type": "code",
   "execution_count": 57,
   "id": "8e3aeb9e",
   "metadata": {},
   "outputs": [
    {
     "data": {
      "text/plain": [
       "array([[10, 16, 65, 29, 90, 94, 30,  9, 74],\n",
       "       [ 1, 41, 37, 17, 12, 55, 89, 63, 34],\n",
       "       [73, 79, 50, 52, 55, 78, 70, 14, 26],\n",
       "       [14, 93, 87, 31, 31, 90, 13, 66, 32],\n",
       "       [58, 37, 28, 19, 94, 78, 23, 24, 95],\n",
       "       [12, 29, 75, 89, 10, 16, 19, 81, 72],\n",
       "       [89, 12, 18, 47,  8, 76, 29, 34, 85],\n",
       "       [97, 89, 45,  6,  5, 72, 89, 89, 51],\n",
       "       [55, 35, 16, 78, 89, 16,  7, 86, 23]])"
      ]
     },
     "execution_count": 57,
     "metadata": {},
     "output_type": "execute_result"
    }
   ],
   "source": [
    "np.random.seed(10)\n",
    "arr = np.random.randint(1,100,81).reshape(9,9)\n",
    "arr"
   ]
  },
  {
   "cell_type": "code",
   "execution_count": 59,
   "id": "c2263200",
   "metadata": {},
   "outputs": [
    {
     "data": {
      "text/plain": [
       "array([[0.77132064, 0.02075195, 0.63364823, 0.74880388, 0.49850701,\n",
       "        0.22479665, 0.19806286, 0.76053071, 0.16911084],\n",
       "       [0.08833981, 0.68535982, 0.95339335, 0.00394827, 0.51219226,\n",
       "        0.81262096, 0.61252607, 0.72175532, 0.29187607],\n",
       "       [0.91777412, 0.71457578, 0.54254437, 0.14217005, 0.37334076,\n",
       "        0.67413362, 0.44183317, 0.43401399, 0.61776698],\n",
       "       [0.51313824, 0.65039718, 0.60103895, 0.8052232 , 0.52164715,\n",
       "        0.90864888, 0.31923609, 0.09045935, 0.30070006],\n",
       "       [0.11398436, 0.82868133, 0.04689632, 0.62628715, 0.54758616,\n",
       "        0.819287  , 0.19894754, 0.8568503 , 0.35165264],\n",
       "       [0.75464769, 0.29596171, 0.88393648, 0.32551164, 0.1650159 ,\n",
       "        0.39252924, 0.09346037, 0.82110566, 0.15115202],\n",
       "       [0.38411445, 0.94426071, 0.98762547, 0.45630455, 0.82612284,\n",
       "        0.25137413, 0.59737165, 0.90283176, 0.53455795],\n",
       "       [0.59020136, 0.03928177, 0.35718176, 0.07961309, 0.30545992,\n",
       "        0.33071931, 0.7738303 , 0.03995921, 0.42949218],\n",
       "       [0.31492687, 0.63649114, 0.34634715, 0.04309736, 0.87991517,\n",
       "        0.76324059, 0.87809664, 0.41750914, 0.60557756]])"
      ]
     },
     "execution_count": 59,
     "metadata": {},
     "output_type": "execute_result"
    }
   ],
   "source": [
    "np.random.seed(10)\n",
    "arr = np.random.random(81).reshape(9,9)\n",
    "arr"
   ]
  },
  {
   "cell_type": "code",
   "execution_count": 68,
   "id": "4af110ea",
   "metadata": {},
   "outputs": [
    {
     "data": {
      "text/plain": [
       "array([[0.77132064, 0.02075195, 0.63364823, 0.74880388, 0.49850701,\n",
       "        0.22479665, 0.19806286, 0.76053071, 0.16911084],\n",
       "       [0.08833981, 0.68535982, 0.95339335, 0.00394827, 0.51219226,\n",
       "        0.81262096, 0.61252607, 0.72175532, 0.29187607],\n",
       "       [0.91777412, 0.71457578, 0.54254437, 0.14217005, 0.37334076,\n",
       "        0.67413362, 0.44183317, 0.43401399, 0.61776698],\n",
       "       [0.51313824, 0.65039718, 0.60103895, 0.8052232 , 0.52164715,\n",
       "        0.90864888, 0.31923609, 0.09045935, 0.30070006],\n",
       "       [0.11398436, 0.82868133, 0.04689632, 0.62628715, 0.54758616,\n",
       "        0.819287  , 0.19894754, 0.8568503 , 0.35165264],\n",
       "       [0.75464769, 0.29596171, 0.88393648, 0.32551164, 0.1650159 ,\n",
       "        0.39252924, 0.09346037, 0.82110566, 0.15115202],\n",
       "       [0.38411445, 0.94426071, 0.98762547, 0.45630455, 0.82612284,\n",
       "        0.25137413, 0.59737165, 0.90283176, 0.53455795],\n",
       "       [0.59020136, 0.03928177, 0.35718176, 0.07961309, 0.30545992,\n",
       "        0.33071931, 0.7738303 , 0.03995921, 0.42949218],\n",
       "       [0.31492687, 0.63649114, 0.34634715, 0.04309736, 0.87991517,\n",
       "        0.76324059, 0.87809664, 0.41750914, 0.60557756]])"
      ]
     },
     "execution_count": 68,
     "metadata": {},
     "output_type": "execute_result"
    }
   ],
   "source": [
    "np.random.seed(10)\n",
    "arr1 = np.random.rand(9,9)\n",
    "arr1"
   ]
  },
  {
   "cell_type": "code",
   "execution_count": 62,
   "id": "80ad0769",
   "metadata": {},
   "outputs": [
    {
     "data": {
      "text/plain": [
       "4294967295"
      ]
     },
     "execution_count": 62,
     "metadata": {},
     "output_type": "execute_result"
    }
   ],
   "source": [
    "(2**32)-1"
   ]
  },
  {
   "cell_type": "markdown",
   "id": "29facc36",
   "metadata": {},
   "source": [
    "### random.normal()\n",
    "\n",
    "- It returns an array of random value those are normally distributed \n",
    "\n",
    "    Syntax:\n",
    "        np.random.normal(mean, sd, size)"
   ]
  },
  {
   "cell_type": "code",
   "execution_count": 83,
   "id": "b3add892",
   "metadata": {},
   "outputs": [
    {
     "data": {
      "text/plain": [
       "array([105.32634602, 102.8611159 ,  93.81839883,  99.9664646 ,\n",
       "       102.4853439 ,  97.11965776, 101.06204634, 100.4341941 ,\n",
       "       100.01716572,  99.30159916, 101.73210476, 104.8121495 ,\n",
       "        96.13973732, 104.11309631, 100.91452052, 101.78055045,\n",
       "        95.45359115, 100.54054751, 105.93814801,  95.68078046,\n",
       "        92.08908688,  93.02651082, 101.06428066, 109.53986932,\n",
       "       104.49476501, 106.69048885, 100.39659686, 105.59198551,\n",
       "        98.91500805, 102.45281674,  98.93073125,  97.80276394,\n",
       "       100.53083318,  98.09543194, 105.23389232, 100.78005312,\n",
       "       101.60083995,  98.64947065, 105.02588906,  97.07212199,\n",
       "       102.6409262 ,  98.59651243,  96.24226656,  98.04265113,\n",
       "        96.78163543,  99.14920945,  98.64343902, 101.24867975,\n",
       "       102.26061068,  99.41031897,  99.89637865, 101.15637682,\n",
       "        97.84048371, 102.83264008, 103.36889895, 100.81432319,\n",
       "       109.57881466, 103.66983575,  99.55091012,  98.55127821,\n",
       "        99.07127098,  97.9930844 , 104.51514061,  97.20875988,\n",
       "        99.67551126,  97.88281568, 104.18473143,  94.32577588,\n",
       "        98.55000327,  99.51237724, 101.27742568, 101.84361161,\n",
       "        99.13684043, 103.95628983, 101.25901512, 109.87060423,\n",
       "        93.96671405, 102.48240265,  95.81946985,  96.80796473,\n",
       "       107.94033837, 106.97925659,  92.57525808,  99.1089052 ,\n",
       "        99.73660861,  91.47315157,  99.80467795, 101.57336487,\n",
       "       100.86906058,  92.02242492, 104.43083294, 100.97817591,\n",
       "        99.75235188,  96.98442816, 102.84783607, 103.67307661,\n",
       "        98.07162744, 100.35835045, 103.30799449,  92.18195152,\n",
       "       100.46990264,  92.37017245,  96.30836294, 101.87900574,\n",
       "        99.42253295,  98.39944659,  98.81606459, 103.39283444,\n",
       "       102.82732182,  96.8509243 , 101.1717629 ,  98.11677099,\n",
       "       109.61730242,  97.04257305,  98.74868497,  98.60447233,\n",
       "        98.24389506, 100.56441667, 101.09219728,  93.52571701,\n",
       "        97.70754655,  94.71820982, 104.9448213 , 109.86130033,\n",
       "       105.53292892, 101.38493246, 104.09006443, 100.66724107,\n",
       "       106.6268665 , 102.67155844,  99.08021342,  95.48179522,\n",
       "        97.44014958, 101.25532209,  95.09665608,  99.11282745,\n",
       "       105.35970524, 100.11723884, 107.94154298, 105.7886624 ,\n",
       "        98.84948235,  94.56275771,  99.8078347 ,  98.07685064,\n",
       "       101.51101234, 106.4576319 ,  95.50758386,  98.44508821,\n",
       "       101.3293998 , 104.53989269])"
      ]
     },
     "execution_count": 83,
     "metadata": {},
     "output_type": "execute_result"
    }
   ],
   "source": [
    "np.random.seed(10)\n",
    "arr = np.random.normal(100, 4, 150)\n",
    "arr"
   ]
  },
  {
   "cell_type": "code",
   "execution_count": 80,
   "id": "5c159f9d",
   "metadata": {},
   "outputs": [],
   "source": [
    "import seaborn as sns\n",
    "import matplotlib.pyplot as plt"
   ]
  },
  {
   "cell_type": "code",
   "execution_count": 73,
   "id": "35fb8a43",
   "metadata": {},
   "outputs": [
    {
     "data": {
      "image/png": "[encoded data removed]",
      "text/plain": [
       "<Figure size 640x480 with 1 Axes>"
      ]
     },
     "metadata": {},
     "output_type": "display_data"
    }
   ],
   "source": [
    "sns.kdeplot(arr)\n",
    "plt.show()"
   ]
  },
  {
   "cell_type": "markdown",
   "id": "f772537c",
   "metadata": {},
   "source": [
    "### Functions in array"
   ]
  },
  {
   "cell_type": "markdown",
   "id": "a9bf5812",
   "metadata": {},
   "source": [
    "### np.sum()\n",
    "\n",
    "- It returns the sum of all the elements of an array\n",
    "\n",
    "    Synatx:\n",
    "        \n",
    "        np.sum(arr, axis = 0,1)\n",
    "        arr.sum(axis = 0,1)\n",
    "        \n",
    "        axis = 0 --> interpreter reads the array from top to bottom, it is known as row wise operation\n",
    "        axis = 1 --> inrerpreter reads the array from left to right, this is known as column wise opeartion"
   ]
  },
  {
   "cell_type": "code",
   "execution_count": 84,
   "id": "332df5ba",
   "metadata": {},
   "outputs": [
    {
     "data": {
      "text/plain": [
       "array([85, 40, 13, 42, 71, 95, 45, 78, 25, 75, 24, 63])"
      ]
     },
     "execution_count": 84,
     "metadata": {},
     "output_type": "execute_result"
    }
   ],
   "source": [
    "np.random.seed(45)\n",
    "x = np.random.randint(10,100,12)\n",
    "x"
   ]
  },
  {
   "cell_type": "code",
   "execution_count": 86,
   "id": "18ae3ad8",
   "metadata": {},
   "outputs": [
    {
     "data": {
      "text/plain": [
       "656"
      ]
     },
     "execution_count": 86,
     "metadata": {},
     "output_type": "execute_result"
    }
   ],
   "source": [
    "x.sum()"
   ]
  },
  {
   "cell_type": "code",
   "execution_count": 87,
   "id": "958b1f9c",
   "metadata": {},
   "outputs": [
    {
     "data": {
      "text/plain": [
       "656"
      ]
     },
     "execution_count": 87,
     "metadata": {},
     "output_type": "execute_result"
    }
   ],
   "source": [
    "np.sum(x)"
   ]
  },
  {
   "cell_type": "code",
   "execution_count": 88,
   "id": "0d21e8cd",
   "metadata": {},
   "outputs": [
    {
     "data": {
      "text/plain": [
       "array([[85, 40, 13],\n",
       "       [42, 71, 95],\n",
       "       [45, 78, 25],\n",
       "       [75, 24, 63]])"
      ]
     },
     "execution_count": 88,
     "metadata": {},
     "output_type": "execute_result"
    }
   ],
   "source": [
    "np.random.seed(45)\n",
    "x = np.random.randint(10,100,12).reshape(4,3)\n",
    "x"
   ]
  },
  {
   "cell_type": "code",
   "execution_count": 89,
   "id": "859c27ae",
   "metadata": {},
   "outputs": [
    {
     "data": {
      "text/plain": [
       "array([247, 213, 196])"
      ]
     },
     "execution_count": 89,
     "metadata": {},
     "output_type": "execute_result"
    }
   ],
   "source": [
    "np.sum(x, axis = 0)"
   ]
  },
  {
   "cell_type": "code",
   "execution_count": 90,
   "id": "a8ad3c94",
   "metadata": {},
   "outputs": [
    {
     "data": {
      "text/plain": [
       "array([247, 213, 196])"
      ]
     },
     "execution_count": 90,
     "metadata": {},
     "output_type": "execute_result"
    }
   ],
   "source": [
    "x.sum(axis = 0)"
   ]
  },
  {
   "cell_type": "code",
   "execution_count": 92,
   "id": "a35155c9",
   "metadata": {},
   "outputs": [
    {
     "data": {
      "text/plain": [
       "array([138, 208, 148, 162])"
      ]
     },
     "execution_count": 92,
     "metadata": {},
     "output_type": "execute_result"
    }
   ],
   "source": [
    "np.sum(x,axis = 1)"
   ]
  },
  {
   "cell_type": "code",
   "execution_count": 93,
   "id": "4f6ae76a",
   "metadata": {},
   "outputs": [
    {
     "data": {
      "text/plain": [
       "array([138, 208, 148, 162])"
      ]
     },
     "execution_count": 93,
     "metadata": {},
     "output_type": "execute_result"
    }
   ],
   "source": [
    "x.sum(axis = 1)"
   ]
  },
  {
   "cell_type": "markdown",
   "id": "16f2133f",
   "metadata": {},
   "source": [
    "### np.mean()\n",
    "\n",
    "- It returns the average (mean) of the array\n",
    "\n",
    "    Syntax:\n",
    "    \n",
    "            np.mean(arr, axis = 0,1)\n",
    "            arr.mean(axis = 0,1"
   ]
  },
  {
   "cell_type": "code",
   "execution_count": 94,
   "id": "22e3c241",
   "metadata": {},
   "outputs": [
    {
     "data": {
      "text/plain": [
       "array([[85, 40, 13],\n",
       "       [42, 71, 95],\n",
       "       [45, 78, 25],\n",
       "       [75, 24, 63]])"
      ]
     },
     "execution_count": 94,
     "metadata": {},
     "output_type": "execute_result"
    }
   ],
   "source": [
    "np.random.seed(45)\n",
    "x = np.random.randint(10,100,12).reshape(4,3)\n",
    "x"
   ]
  },
  {
   "cell_type": "code",
   "execution_count": 97,
   "id": "0259d1a6",
   "metadata": {},
   "outputs": [
    {
     "data": {
      "text/plain": [
       "54.666666666666664"
      ]
     },
     "execution_count": 97,
     "metadata": {},
     "output_type": "execute_result"
    }
   ],
   "source": [
    "(85+40+13+42+71+95+45+78+25+75+24+63)/12"
   ]
  },
  {
   "cell_type": "code",
   "execution_count": 95,
   "id": "ed67437c",
   "metadata": {},
   "outputs": [
    {
     "data": {
      "text/plain": [
       "54.666666666666664"
      ]
     },
     "execution_count": 95,
     "metadata": {},
     "output_type": "execute_result"
    }
   ],
   "source": [
    "np.mean(x)"
   ]
  },
  {
   "cell_type": "code",
   "execution_count": 96,
   "id": "98db2d0f",
   "metadata": {},
   "outputs": [
    {
     "data": {
      "text/plain": [
       "array([61.75, 53.25, 49.  ])"
      ]
     },
     "execution_count": 96,
     "metadata": {},
     "output_type": "execute_result"
    }
   ],
   "source": [
    "np.mean(x, axis = 0)"
   ]
  },
  {
   "cell_type": "code",
   "execution_count": 99,
   "id": "4035c3c6",
   "metadata": {},
   "outputs": [
    {
     "data": {
      "text/plain": [
       "61.75"
      ]
     },
     "execution_count": 99,
     "metadata": {},
     "output_type": "execute_result"
    }
   ],
   "source": [
    "np.mean([85,42,45,75])"
   ]
  },
  {
   "cell_type": "code",
   "execution_count": 100,
   "id": "ac1e6555",
   "metadata": {},
   "outputs": [
    {
     "data": {
      "text/plain": [
       "array([46.        , 69.33333333, 49.33333333, 54.        ])"
      ]
     },
     "execution_count": 100,
     "metadata": {},
     "output_type": "execute_result"
    }
   ],
   "source": [
    "np.mean(x, axis = 1)"
   ]
  },
  {
   "cell_type": "code",
   "execution_count": 101,
   "id": "cbcaba98",
   "metadata": {},
   "outputs": [
    {
     "data": {
      "text/plain": [
       "46.0"
      ]
     },
     "execution_count": 101,
     "metadata": {},
     "output_type": "execute_result"
    }
   ],
   "source": [
    "np.mean([85,40,13])"
   ]
  },
  {
   "cell_type": "code",
   "execution_count": 102,
   "id": "3d6374f5",
   "metadata": {},
   "outputs": [
    {
     "data": {
      "text/plain": [
       "array([61.75, 53.25, 49.  ])"
      ]
     },
     "execution_count": 102,
     "metadata": {},
     "output_type": "execute_result"
    }
   ],
   "source": [
    "x.mean(axis = 0)"
   ]
  },
  {
   "cell_type": "code",
   "execution_count": 103,
   "id": "7dd6e21c",
   "metadata": {},
   "outputs": [
    {
     "data": {
      "text/plain": [
       "array([46.        , 69.33333333, 49.33333333, 54.        ])"
      ]
     },
     "execution_count": 103,
     "metadata": {},
     "output_type": "execute_result"
    }
   ],
   "source": [
    "x.mean(axis = 1)"
   ]
  },
  {
   "cell_type": "markdown",
   "id": "3fdba99b",
   "metadata": {},
   "source": [
    "### np.median()\n",
    "\n",
    "- It return the median of an array\n",
    "\n",
    "    Syntax:\n",
    "        \n",
    "        np.median(arr, axis = 0,1)"
   ]
  },
  {
   "cell_type": "code",
   "execution_count": 104,
   "id": "654b6075",
   "metadata": {},
   "outputs": [
    {
     "data": {
      "text/plain": [
       "array([[85, 40, 13],\n",
       "       [42, 71, 95],\n",
       "       [45, 78, 25],\n",
       "       [75, 24, 63]])"
      ]
     },
     "execution_count": 104,
     "metadata": {},
     "output_type": "execute_result"
    }
   ],
   "source": [
    "np.random.seed(45)\n",
    "x = np.random.randint(10,100,12).reshape(4,3)\n",
    "x"
   ]
  },
  {
   "cell_type": "code",
   "execution_count": 105,
   "id": "f18d4f4a",
   "metadata": {},
   "outputs": [
    {
     "data": {
      "text/plain": [
       "54.0"
      ]
     },
     "execution_count": 105,
     "metadata": {},
     "output_type": "execute_result"
    }
   ],
   "source": [
    "np.median(x)"
   ]
  },
  {
   "cell_type": "code",
   "execution_count": 106,
   "id": "7e087b48",
   "metadata": {},
   "outputs": [
    {
     "data": {
      "text/plain": [
       "array([60. , 55.5, 44. ])"
      ]
     },
     "execution_count": 106,
     "metadata": {},
     "output_type": "execute_result"
    }
   ],
   "source": [
    "np.median(x, axis = 0)"
   ]
  },
  {
   "cell_type": "code",
   "execution_count": 107,
   "id": "64d88b74",
   "metadata": {},
   "outputs": [
    {
     "data": {
      "text/plain": [
       "array([40., 71., 45., 63.])"
      ]
     },
     "execution_count": 107,
     "metadata": {},
     "output_type": "execute_result"
    }
   ],
   "source": [
    "np.median(x, axis = 1)"
   ]
  },
  {
   "cell_type": "markdown",
   "id": "9cfacf41",
   "metadata": {},
   "source": [
    "### np.var()\n",
    "\n",
    "- It return the variance of the array\n",
    "\n",
    "    Syntax:\n",
    "    \n",
    "        np.var(arr, axis = 0,1)"
   ]
  },
  {
   "cell_type": "code",
   "execution_count": 116,
   "id": "af321c76",
   "metadata": {},
   "outputs": [
    {
     "data": {
      "text/plain": [
       "array([[85, 40, 13],\n",
       "       [42, 71, 95],\n",
       "       [45, 78, 25],\n",
       "       [75, 24, 63]])"
      ]
     },
     "execution_count": 116,
     "metadata": {},
     "output_type": "execute_result"
    }
   ],
   "source": [
    "x"
   ]
  },
  {
   "cell_type": "code",
   "execution_count": 117,
   "id": "5bec47e0",
   "metadata": {
    "scrolled": true
   },
   "outputs": [
    {
     "data": {
      "text/plain": [
       "655.5555555555555"
      ]
     },
     "execution_count": 117,
     "metadata": {},
     "output_type": "execute_result"
    }
   ],
   "source": [
    "x.var()"
   ]
  },
  {
   "cell_type": "code",
   "execution_count": 118,
   "id": "f985b1da",
   "metadata": {
    "scrolled": true
   },
   "outputs": [
    {
     "data": {
      "text/plain": [
       "array([ 346.6875,  489.6875, 1046.    ])"
      ]
     },
     "execution_count": 118,
     "metadata": {},
     "output_type": "execute_result"
    }
   ],
   "source": [
    "np.var(x, axis = 0)"
   ]
  },
  {
   "cell_type": "code",
   "execution_count": 125,
   "id": "e2d810a6",
   "metadata": {},
   "outputs": [
    {
     "data": {
      "text/plain": [
       "61.75"
      ]
     },
     "execution_count": 125,
     "metadata": {},
     "output_type": "execute_result"
    }
   ],
   "source": [
    "np.mean([85,42,45,75])"
   ]
  },
  {
   "cell_type": "code",
   "execution_count": 123,
   "id": "8f29ba29",
   "metadata": {},
   "outputs": [
    {
     "data": {
      "text/plain": [
       "1386.75"
      ]
     },
     "execution_count": 123,
     "metadata": {},
     "output_type": "execute_result"
    }
   ],
   "source": [
    "((85-61.75)**2 + (42-61.75)**2 +(45-61.75)**2 +(75-61.75)**2)"
   ]
  },
  {
   "cell_type": "code",
   "execution_count": 124,
   "id": "1b0d6abb",
   "metadata": {},
   "outputs": [
    {
     "data": {
      "text/plain": [
       "346.6875"
      ]
     },
     "execution_count": 124,
     "metadata": {},
     "output_type": "execute_result"
    }
   ],
   "source": [
    "1386.75/4"
   ]
  },
  {
   "cell_type": "code",
   "execution_count": 122,
   "id": "460052d4",
   "metadata": {
    "scrolled": true
   },
   "outputs": [
    {
     "data": {
      "text/plain": [
       "array([882.        , 469.55555556, 477.55555556, 474.        ])"
      ]
     },
     "execution_count": 122,
     "metadata": {},
     "output_type": "execute_result"
    }
   ],
   "source": [
    "np.var(x, axis = 1)"
   ]
  },
  {
   "cell_type": "markdown",
   "id": "1277355b",
   "metadata": {},
   "source": [
    "### np.std()\n",
    "\n",
    "- It returns the standard deviation of an array\n",
    "\n",
    "    Syntax:\n",
    "    \n",
    "        np.std(arr, axis = 0,1)"
   ]
  },
  {
   "cell_type": "code",
   "execution_count": 108,
   "id": "631a392f",
   "metadata": {},
   "outputs": [
    {
     "data": {
      "text/plain": [
       "array([[85, 40, 13],\n",
       "       [42, 71, 95],\n",
       "       [45, 78, 25],\n",
       "       [75, 24, 63]])"
      ]
     },
     "execution_count": 108,
     "metadata": {},
     "output_type": "execute_result"
    }
   ],
   "source": [
    "x"
   ]
  },
  {
   "cell_type": "code",
   "execution_count": 109,
   "id": "5aab48d8",
   "metadata": {},
   "outputs": [
    {
     "data": {
      "text/plain": [
       "25.603819159562025"
      ]
     },
     "execution_count": 109,
     "metadata": {},
     "output_type": "execute_result"
    }
   ],
   "source": [
    "np.std(x)"
   ]
  },
  {
   "cell_type": "code",
   "execution_count": 110,
   "id": "fa9ad2cf",
   "metadata": {},
   "outputs": [
    {
     "data": {
      "text/plain": [
       "array([18.61954618, 22.12888384, 32.34192326])"
      ]
     },
     "execution_count": 110,
     "metadata": {},
     "output_type": "execute_result"
    }
   ],
   "source": [
    "np.std(x, axis = 0)"
   ]
  },
  {
   "cell_type": "code",
   "execution_count": 111,
   "id": "cd2022ad",
   "metadata": {},
   "outputs": [
    {
     "data": {
      "text/plain": [
       "61.75"
      ]
     },
     "execution_count": 111,
     "metadata": {},
     "output_type": "execute_result"
    }
   ],
   "source": [
    "np.mean([85,42,45,75])"
   ]
  },
  {
   "cell_type": "code",
   "execution_count": 119,
   "id": "fe0cf5dd",
   "metadata": {},
   "outputs": [
    {
     "data": {
      "text/plain": [
       "1386.75"
      ]
     },
     "execution_count": 119,
     "metadata": {},
     "output_type": "execute_result"
    }
   ],
   "source": [
    "((85-61.75)**2 + (42-61.75)**2 +(45-61.75)**2 +(75-61.75)**2)"
   ]
  },
  {
   "cell_type": "code",
   "execution_count": 120,
   "id": "30af53fe",
   "metadata": {},
   "outputs": [
    {
     "data": {
      "text/plain": [
       "346.6875"
      ]
     },
     "execution_count": 120,
     "metadata": {},
     "output_type": "execute_result"
    }
   ],
   "source": [
    "1386.75/4"
   ]
  },
  {
   "cell_type": "code",
   "execution_count": 113,
   "id": "2ee2021d",
   "metadata": {},
   "outputs": [],
   "source": [
    "import math"
   ]
  },
  {
   "cell_type": "code",
   "execution_count": 121,
   "id": "9d1b3edd",
   "metadata": {},
   "outputs": [
    {
     "data": {
      "text/plain": [
       "18.619546181365433"
      ]
     },
     "execution_count": 121,
     "metadata": {},
     "output_type": "execute_result"
    }
   ],
   "source": [
    "math.sqrt(346.6875)"
   ]
  },
  {
   "cell_type": "markdown",
   "id": "496570c1",
   "metadata": {},
   "source": [
    "### np.min()\n",
    "\n",
    "- It return the minimum value of the arary\n",
    "\n",
    "    Syntax:\n",
    "    \n",
    "        np.min(arr, axis = 0,1)"
   ]
  },
  {
   "cell_type": "code",
   "execution_count": 126,
   "id": "8681f892",
   "metadata": {},
   "outputs": [
    {
     "data": {
      "text/plain": [
       "array([[85, 40, 13],\n",
       "       [42, 71, 95],\n",
       "       [45, 78, 25],\n",
       "       [75, 24, 63]])"
      ]
     },
     "execution_count": 126,
     "metadata": {},
     "output_type": "execute_result"
    }
   ],
   "source": [
    "x"
   ]
  },
  {
   "cell_type": "code",
   "execution_count": 127,
   "id": "c2c48d7e",
   "metadata": {},
   "outputs": [
    {
     "data": {
      "text/plain": [
       "13"
      ]
     },
     "execution_count": 127,
     "metadata": {},
     "output_type": "execute_result"
    }
   ],
   "source": [
    "np.min(x)"
   ]
  },
  {
   "cell_type": "code",
   "execution_count": 128,
   "id": "3547b632",
   "metadata": {},
   "outputs": [
    {
     "data": {
      "text/plain": [
       "array([42, 24, 13])"
      ]
     },
     "execution_count": 128,
     "metadata": {},
     "output_type": "execute_result"
    }
   ],
   "source": [
    "np.min(x, axis = 0)"
   ]
  },
  {
   "cell_type": "code",
   "execution_count": 129,
   "id": "d4685fa6",
   "metadata": {},
   "outputs": [
    {
     "data": {
      "text/plain": [
       "array([13, 42, 25, 24])"
      ]
     },
     "execution_count": 129,
     "metadata": {},
     "output_type": "execute_result"
    }
   ],
   "source": [
    "np.min(x, axis = 1)"
   ]
  },
  {
   "cell_type": "markdown",
   "id": "b6960373",
   "metadata": {},
   "source": [
    "### np.max()\n",
    "\n",
    "- It return the maximum value of the arary\n",
    "\n",
    "    Syntax:\n",
    "    \n",
    "        np.max(arr, axis = 0,1)"
   ]
  },
  {
   "cell_type": "code",
   "execution_count": 131,
   "id": "0aae598d",
   "metadata": {},
   "outputs": [
    {
     "data": {
      "text/plain": [
       "array([[85, 40, 13],\n",
       "       [42, 71, 95],\n",
       "       [45, 78, 25],\n",
       "       [75, 24, 63]])"
      ]
     },
     "execution_count": 131,
     "metadata": {},
     "output_type": "execute_result"
    }
   ],
   "source": [
    "x "
   ]
  },
  {
   "cell_type": "code",
   "execution_count": 132,
   "id": "1bc1bbaf",
   "metadata": {},
   "outputs": [
    {
     "data": {
      "text/plain": [
       "95"
      ]
     },
     "execution_count": 132,
     "metadata": {},
     "output_type": "execute_result"
    }
   ],
   "source": [
    "np.max(x)"
   ]
  },
  {
   "cell_type": "code",
   "execution_count": 133,
   "id": "235ac4c7",
   "metadata": {},
   "outputs": [
    {
     "data": {
      "text/plain": [
       "array([85, 78, 95])"
      ]
     },
     "execution_count": 133,
     "metadata": {},
     "output_type": "execute_result"
    }
   ],
   "source": [
    "np.max(x,axis=0)"
   ]
  },
  {
   "cell_type": "code",
   "execution_count": 134,
   "id": "c08bb61e",
   "metadata": {},
   "outputs": [
    {
     "data": {
      "text/plain": [
       "array([85, 95, 78, 75])"
      ]
     },
     "execution_count": 134,
     "metadata": {},
     "output_type": "execute_result"
    }
   ],
   "source": [
    "np.max(x, axis=1)"
   ]
  },
  {
   "cell_type": "markdown",
   "id": "63a092fd",
   "metadata": {},
   "source": [
    "### np.percentile()\n",
    "\n",
    "- It return the specified percentile value of the array"
   ]
  },
  {
   "cell_type": "code",
   "execution_count": 135,
   "id": "f941f1bf",
   "metadata": {},
   "outputs": [
    {
     "data": {
      "text/plain": [
       "array([[85, 40, 13],\n",
       "       [42, 71, 95],\n",
       "       [45, 78, 25],\n",
       "       [75, 24, 63]])"
      ]
     },
     "execution_count": 135,
     "metadata": {},
     "output_type": "execute_result"
    }
   ],
   "source": [
    "x"
   ]
  },
  {
   "cell_type": "code",
   "execution_count": 137,
   "id": "cce37dbe",
   "metadata": {},
   "outputs": [
    {
     "data": {
      "text/plain": [
       "89.5"
      ]
     },
     "execution_count": 137,
     "metadata": {},
     "output_type": "execute_result"
    }
   ],
   "source": [
    "np.percentile(x, 95)"
   ]
  },
  {
   "cell_type": "code",
   "execution_count": 138,
   "id": "5b25b318",
   "metadata": {},
   "outputs": [
    {
     "data": {
      "text/plain": [
       "24.1"
      ]
     },
     "execution_count": 138,
     "metadata": {},
     "output_type": "execute_result"
    }
   ],
   "source": [
    "np.percentile(x, 10)"
   ]
  },
  {
   "cell_type": "code",
   "execution_count": 140,
   "id": "33ec2918",
   "metadata": {},
   "outputs": [
    {
     "data": {
      "text/plain": [
       "3400"
      ]
     },
     "execution_count": 140,
     "metadata": {},
     "output_type": "execute_result"
    }
   ],
   "source": [
    "68*50"
   ]
  },
  {
   "cell_type": "code",
   "execution_count": null,
   "id": "b6753d72",
   "metadata": {},
   "outputs": [],
   "source": []
  }
 ],
 "metadata": {
  "kernelspec": {
   "display_name": "Python 3 (ipykernel)",
   "language": "python",
   "name": "python3"
  },
  "language_info": {
   "codemirror_mode": {
    "name": "ipython",
    "version": 3
   },
   "file_extension": ".py",
   "mimetype": "text/x-python",
   "name": "python",
   "nbconvert_exporter": "python",
   "pygments_lexer": "ipython3",
   "version": "3.11.5"
  }
 },
 "nbformat": 4,
 "nbformat_minor": 5
}
