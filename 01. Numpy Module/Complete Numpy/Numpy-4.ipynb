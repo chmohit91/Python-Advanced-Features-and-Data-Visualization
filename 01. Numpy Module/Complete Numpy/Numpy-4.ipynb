{
 "cells": [
  {
   "cell_type": "code",
   "execution_count": 1,
   "id": "fb5fe5ef",
   "metadata": {},
   "outputs": [],
   "source": [
    "import numpy as np"
   ]
  },
  {
   "cell_type": "markdown",
   "id": "213e1d9d",
   "metadata": {},
   "source": [
    "### astype()\n",
    "\n",
    "- It is used to change the datatype of the values that the array contains "
   ]
  },
  {
   "cell_type": "code",
   "execution_count": 2,
   "id": "d24e2d6a",
   "metadata": {},
   "outputs": [
    {
     "data": {
      "text/plain": [
       "array([2.6, 7.5, 6. , 7. , 8. , 6.2, 4.5])"
      ]
     },
     "execution_count": 2,
     "metadata": {},
     "output_type": "execute_result"
    }
   ],
   "source": [
    "arr = np.array([2.6, 7.5, 6,7,8,6.2, 4.5])\n",
    "arr"
   ]
  },
  {
   "cell_type": "code",
   "execution_count": 4,
   "id": "ca46858b",
   "metadata": {},
   "outputs": [
    {
     "data": {
      "text/plain": [
       "dtype('float64')"
      ]
     },
     "execution_count": 4,
     "metadata": {},
     "output_type": "execute_result"
    }
   ],
   "source": [
    "arr.dtype"
   ]
  },
  {
   "cell_type": "code",
   "execution_count": null,
   "id": "1647b728",
   "metadata": {},
   "outputs": [],
   "source": []
  },
  {
   "cell_type": "code",
   "execution_count": 5,
   "id": "5b4405fc",
   "metadata": {},
   "outputs": [
    {
     "data": {
      "text/plain": [
       "array([2, 7, 6, 7, 8, 6, 4])"
      ]
     },
     "execution_count": 5,
     "metadata": {},
     "output_type": "execute_result"
    }
   ],
   "source": [
    "arr.astype(int)"
   ]
  },
  {
   "cell_type": "code",
   "execution_count": 6,
   "id": "86134597",
   "metadata": {},
   "outputs": [
    {
     "data": {
      "text/plain": [
       "array([2.6+0.j, 7.5+0.j, 6. +0.j, 7. +0.j, 8. +0.j, 6.2+0.j, 4.5+0.j])"
      ]
     },
     "execution_count": 6,
     "metadata": {},
     "output_type": "execute_result"
    }
   ],
   "source": [
    "arr.astype(complex)"
   ]
  },
  {
   "cell_type": "code",
   "execution_count": 7,
   "id": "f089265a",
   "metadata": {},
   "outputs": [
    {
     "data": {
      "text/plain": [
       "array(['2.6', '7.5', '6.0', '7.0', '8.0', '6.2', '4.5'], dtype='<U32')"
      ]
     },
     "execution_count": 7,
     "metadata": {},
     "output_type": "execute_result"
    }
   ],
   "source": [
    "arr.astype(str)"
   ]
  },
  {
   "cell_type": "markdown",
   "id": "a923d3be",
   "metadata": {},
   "source": [
    "### Null Value in Numpy \n",
    "\n",
    "PYTHON - None \n",
    "\n",
    "Numpy - np.nan\n",
    "\n",
    "In numpy, the null values are represented by np.nan\n",
    "\n",
    "- NAN stands for Not A Number \n",
    "- The datatype of NAN values is float"
   ]
  },
  {
   "cell_type": "code",
   "execution_count": 9,
   "id": "51f3a001",
   "metadata": {},
   "outputs": [
    {
     "name": "stdout",
     "output_type": "stream",
     "text": [
      "<class 'NoneType'>\n"
     ]
    }
   ],
   "source": [
    "a = None \n",
    "print(type(a))"
   ]
  },
  {
   "cell_type": "code",
   "execution_count": 10,
   "id": "fbd114e7",
   "metadata": {},
   "outputs": [
    {
     "data": {
      "text/plain": [
       "array([nan])"
      ]
     },
     "execution_count": 10,
     "metadata": {},
     "output_type": "execute_result"
    }
   ],
   "source": [
    "x = np.array([np.nan])\n",
    "x"
   ]
  },
  {
   "cell_type": "code",
   "execution_count": 11,
   "id": "9285ab98",
   "metadata": {},
   "outputs": [
    {
     "name": "stdout",
     "output_type": "stream",
     "text": [
      "<class 'numpy.ndarray'>\n"
     ]
    }
   ],
   "source": [
    "print(type(x))"
   ]
  },
  {
   "cell_type": "code",
   "execution_count": 12,
   "id": "4ad3da3e",
   "metadata": {},
   "outputs": [
    {
     "data": {
      "text/plain": [
       "dtype('float64')"
      ]
     },
     "execution_count": 12,
     "metadata": {},
     "output_type": "execute_result"
    }
   ],
   "source": [
    "x.dtype"
   ]
  },
  {
   "cell_type": "code",
   "execution_count": 13,
   "id": "032b89bd",
   "metadata": {},
   "outputs": [
    {
     "data": {
      "text/plain": [
       "array([[10., 20., 30., nan],\n",
       "       [50., nan, 45., 60.],\n",
       "       [nan, nan, 78., 62.]])"
      ]
     },
     "execution_count": 13,
     "metadata": {},
     "output_type": "execute_result"
    }
   ],
   "source": [
    "arr = np.array([10,20,30, np.nan, 50, np.nan, 45, 60, np.nan, np.nan, 78, 62]).reshape(3, 4)\n",
    "arr"
   ]
  },
  {
   "cell_type": "code",
   "execution_count": 14,
   "id": "853b8445",
   "metadata": {},
   "outputs": [
    {
     "data": {
      "text/plain": [
       "dtype('float64')"
      ]
     },
     "execution_count": 14,
     "metadata": {},
     "output_type": "execute_result"
    }
   ],
   "source": [
    "arr.dtype"
   ]
  },
  {
   "cell_type": "markdown",
   "id": "8deb2727",
   "metadata": {},
   "source": [
    "### Operations on the Null values\n",
    "\n",
    "- Count the number of null values in an array\n",
    "- Count the number of all the non-null values in an array\n",
    "- Accessing all the null values from an array\n",
    "- Accessing all the non-null values from an array\n",
    "- Replacing the null values by some other values "
   ]
  },
  {
   "cell_type": "markdown",
   "id": "92ef5bd6",
   "metadata": {},
   "source": [
    "### np.isnan()\n",
    "\n",
    "- It checks for nan values and returns a boolean array, where True means the null value is present and False means the non-null values is present"
   ]
  },
  {
   "cell_type": "code",
   "execution_count": 15,
   "id": "a565c3cc",
   "metadata": {},
   "outputs": [
    {
     "data": {
      "text/plain": [
       "array([[10., 20., 30., nan],\n",
       "       [50., nan, 45., 60.],\n",
       "       [nan, nan, 78., 62.]])"
      ]
     },
     "execution_count": 15,
     "metadata": {},
     "output_type": "execute_result"
    }
   ],
   "source": [
    "arr"
   ]
  },
  {
   "cell_type": "code",
   "execution_count": 16,
   "id": "0afc8aaa",
   "metadata": {},
   "outputs": [
    {
     "data": {
      "text/plain": [
       "array([[False, False, False,  True],\n",
       "       [False,  True, False, False],\n",
       "       [ True,  True, False, False]])"
      ]
     },
     "execution_count": 16,
     "metadata": {},
     "output_type": "execute_result"
    }
   ],
   "source": [
    "np.isnan(arr)"
   ]
  },
  {
   "cell_type": "markdown",
   "id": "7639c6fe",
   "metadata": {},
   "source": [
    "### Count the Null values in the array \n",
    "\n",
    "    Syntax:\n",
    "    \n",
    "        np.isnan(arr).sum()"
   ]
  },
  {
   "cell_type": "code",
   "execution_count": 17,
   "id": "553bfc2d",
   "metadata": {},
   "outputs": [
    {
     "data": {
      "text/plain": [
       "4"
      ]
     },
     "execution_count": 17,
     "metadata": {},
     "output_type": "execute_result"
    }
   ],
   "source": [
    "np.isnan(arr).sum()"
   ]
  },
  {
   "cell_type": "markdown",
   "id": "8f8b6417",
   "metadata": {},
   "source": [
    "### Accessing the null values from an array "
   ]
  },
  {
   "cell_type": "markdown",
   "id": "4bbad1dd",
   "metadata": {},
   "source": [
    "#### np.where(condition)"
   ]
  },
  {
   "cell_type": "code",
   "execution_count": 19,
   "id": "ca8b547e",
   "metadata": {},
   "outputs": [
    {
     "data": {
      "text/plain": [
       "array([[10., 20., 30., nan],\n",
       "       [50., nan, 45., 60.],\n",
       "       [nan, nan, 78., 62.]])"
      ]
     },
     "execution_count": 19,
     "metadata": {},
     "output_type": "execute_result"
    }
   ],
   "source": [
    "arr"
   ]
  },
  {
   "cell_type": "code",
   "execution_count": 18,
   "id": "29d8e7fe",
   "metadata": {
    "scrolled": true
   },
   "outputs": [
    {
     "data": {
      "text/plain": [
       "(array([0, 1, 2, 2], dtype=int64), array([3, 1, 0, 1], dtype=int64))"
      ]
     },
     "execution_count": 18,
     "metadata": {},
     "output_type": "execute_result"
    }
   ],
   "source": [
    "np.where(np.isnan(arr))"
   ]
  },
  {
   "cell_type": "markdown",
   "id": "948a7421",
   "metadata": {},
   "source": [
    "### np.where(condition)\n",
    "\n",
    "- It helps to fetch the values based on some conditions\n",
    "- It returns the index of the element where the condition is True \n",
    "- To fetch the element we pass np.where () as the index to the array object "
   ]
  },
  {
   "cell_type": "code",
   "execution_count": 20,
   "id": "3a1a4858",
   "metadata": {},
   "outputs": [
    {
     "data": {
      "text/plain": [
       "array([[19, 25, 74, 38],\n",
       "       [99, 39, 18, 83],\n",
       "       [10, 50, 46, 26]])"
      ]
     },
     "execution_count": 20,
     "metadata": {},
     "output_type": "execute_result"
    }
   ],
   "source": [
    "np.random.seed(10)\n",
    "arr = np.random.randint(10,100,12).reshape(3,4)\n",
    "arr"
   ]
  },
  {
   "cell_type": "code",
   "execution_count": 21,
   "id": "69f5f16d",
   "metadata": {},
   "outputs": [
    {
     "data": {
      "text/plain": [
       "(array([0, 1, 1], dtype=int64), array([2, 0, 3], dtype=int64))"
      ]
     },
     "execution_count": 21,
     "metadata": {},
     "output_type": "execute_result"
    }
   ],
   "source": [
    "np.where(arr>50)"
   ]
  },
  {
   "cell_type": "code",
   "execution_count": 25,
   "id": "4a24db42",
   "metadata": {},
   "outputs": [
    {
     "data": {
      "text/plain": [
       "array([[[85, 40],\n",
       "        [13, 42]],\n",
       "\n",
       "       [[71, 95],\n",
       "        [45, 78]],\n",
       "\n",
       "       [[25, 75],\n",
       "        [24, 63]]])"
      ]
     },
     "execution_count": 25,
     "metadata": {},
     "output_type": "execute_result"
    }
   ],
   "source": [
    "np.random.seed(45)\n",
    "arr = np.random.randint(10,100,12).reshape(3,2,2)\n",
    "arr"
   ]
  },
  {
   "cell_type": "code",
   "execution_count": 26,
   "id": "dc854c81",
   "metadata": {},
   "outputs": [
    {
     "data": {
      "text/plain": [
       "array([[[ True, False],\n",
       "        [False, False]],\n",
       "\n",
       "       [[ True,  True],\n",
       "        [False,  True]],\n",
       "\n",
       "       [[False,  True],\n",
       "        [False,  True]]])"
      ]
     },
     "execution_count": 26,
     "metadata": {},
     "output_type": "execute_result"
    }
   ],
   "source": [
    "arr>50"
   ]
  },
  {
   "cell_type": "code",
   "execution_count": 27,
   "id": "57c8988a",
   "metadata": {},
   "outputs": [
    {
     "data": {
      "text/plain": [
       "(array([0, 1, 1, 1, 2, 2], dtype=int64),\n",
       " array([0, 0, 0, 1, 0, 1], dtype=int64),\n",
       " array([0, 0, 1, 1, 1, 1], dtype=int64))"
      ]
     },
     "execution_count": 27,
     "metadata": {},
     "output_type": "execute_result"
    }
   ],
   "source": [
    "np.where(arr>50)"
   ]
  },
  {
   "cell_type": "markdown",
   "id": "ffb7f9f1",
   "metadata": {},
   "source": [
    "### Accessing the Null- Values from an array\n",
    "\n",
    "- arr[np.where(np.isnan(arr))]\n",
    "- arr[np.isnan(arr) == True]"
   ]
  },
  {
   "cell_type": "code",
   "execution_count": 31,
   "id": "a306fe0b",
   "metadata": {},
   "outputs": [
    {
     "data": {
      "text/plain": [
       "array([[10., 20., 30., nan],\n",
       "       [50., nan, 45., 60.],\n",
       "       [nan, nan, 78., 62.]])"
      ]
     },
     "execution_count": 31,
     "metadata": {},
     "output_type": "execute_result"
    }
   ],
   "source": [
    "arr = np.array([10,20,30, np.nan, 50, np.nan, 45, 60, np.nan, np.nan, 78, 62]).reshape(3, 4)\n",
    "arr"
   ]
  },
  {
   "cell_type": "code",
   "execution_count": 32,
   "id": "dc054a2a",
   "metadata": {},
   "outputs": [
    {
     "data": {
      "text/plain": [
       "(array([0, 1, 2, 2], dtype=int64), array([3, 1, 0, 1], dtype=int64))"
      ]
     },
     "execution_count": 32,
     "metadata": {},
     "output_type": "execute_result"
    }
   ],
   "source": [
    "np.where(np.isnan(arr))"
   ]
  },
  {
   "cell_type": "code",
   "execution_count": 33,
   "id": "ad13e107",
   "metadata": {},
   "outputs": [
    {
     "data": {
      "text/plain": [
       "array([nan, nan, nan, nan])"
      ]
     },
     "execution_count": 33,
     "metadata": {},
     "output_type": "execute_result"
    }
   ],
   "source": [
    "arr[np.where(np.isnan(arr))]"
   ]
  },
  {
   "cell_type": "code",
   "execution_count": 34,
   "id": "3583917c",
   "metadata": {},
   "outputs": [
    {
     "data": {
      "text/plain": [
       "array([nan, nan, nan, nan])"
      ]
     },
     "execution_count": 34,
     "metadata": {},
     "output_type": "execute_result"
    }
   ],
   "source": [
    "arr[np.isnan(arr) == True]"
   ]
  },
  {
   "cell_type": "markdown",
   "id": "62d38fd0",
   "metadata": {},
   "source": [
    "### Access the Non- null values "
   ]
  },
  {
   "cell_type": "code",
   "execution_count": 35,
   "id": "e7049c78",
   "metadata": {},
   "outputs": [
    {
     "data": {
      "text/plain": [
       "array([[[85, 40],\n",
       "        [13, 42]],\n",
       "\n",
       "       [[71, 95],\n",
       "        [45, 78]],\n",
       "\n",
       "       [[25, 75],\n",
       "        [24, 63]]])"
      ]
     },
     "execution_count": 35,
     "metadata": {},
     "output_type": "execute_result"
    }
   ],
   "source": [
    "np.random.seed(45)\n",
    "arr = np.random.randint(10,100,12).reshape(3,2,2)\n",
    "arr"
   ]
  },
  {
   "cell_type": "code",
   "execution_count": 36,
   "id": "864863cb",
   "metadata": {},
   "outputs": [
    {
     "data": {
      "text/plain": [
       "array([[[ True, False],\n",
       "        [False, False]],\n",
       "\n",
       "       [[ True,  True],\n",
       "        [False,  True]],\n",
       "\n",
       "       [[False,  True],\n",
       "        [False,  True]]])"
      ]
     },
     "execution_count": 36,
     "metadata": {},
     "output_type": "execute_result"
    }
   ],
   "source": [
    "arr>50"
   ]
  },
  {
   "cell_type": "code",
   "execution_count": 37,
   "id": "ceb96709",
   "metadata": {},
   "outputs": [
    {
     "data": {
      "text/plain": [
       "array([85, 71, 95, 78, 75, 63])"
      ]
     },
     "execution_count": 37,
     "metadata": {},
     "output_type": "execute_result"
    }
   ],
   "source": [
    "arr[np.where(arr>50)]"
   ]
  },
  {
   "cell_type": "code",
   "execution_count": 39,
   "id": "ae7c0d3e",
   "metadata": {},
   "outputs": [
    {
     "data": {
      "text/plain": [
       "array([85, 71, 95, 78, 75, 63])"
      ]
     },
     "execution_count": 39,
     "metadata": {},
     "output_type": "execute_result"
    }
   ],
   "source": [
    "arr[(arr>50) == True]"
   ]
  },
  {
   "cell_type": "markdown",
   "id": "43daae38",
   "metadata": {},
   "source": [
    "### Count the non-null values from the array"
   ]
  },
  {
   "cell_type": "code",
   "execution_count": 89,
   "id": "aca1ee9c",
   "metadata": {},
   "outputs": [
    {
     "data": {
      "text/plain": [
       "array([[10., 20., 30., nan],\n",
       "       [50., nan, 45., 60.],\n",
       "       [nan, nan, 78., 62.]])"
      ]
     },
     "execution_count": 89,
     "metadata": {},
     "output_type": "execute_result"
    }
   ],
   "source": [
    "arr = np.array([10,20,30, np.nan, 50, np.nan, 45, 60, np.nan, np.nan, 78, 62]).reshape(3, 4)\n",
    "arr"
   ]
  },
  {
   "cell_type": "code",
   "execution_count": 90,
   "id": "1ef5b509",
   "metadata": {
    "scrolled": true
   },
   "outputs": [
    {
     "data": {
      "text/plain": [
       "8"
      ]
     },
     "execution_count": 90,
     "metadata": {},
     "output_type": "execute_result"
    }
   ],
   "source": [
    "(~np.isnan(arr)).sum()"
   ]
  },
  {
   "cell_type": "code",
   "execution_count": 91,
   "id": "eba8ae88",
   "metadata": {},
   "outputs": [
    {
     "data": {
      "text/plain": [
       "8"
      ]
     },
     "execution_count": 91,
     "metadata": {},
     "output_type": "execute_result"
    }
   ],
   "source": [
    "(np.isnan(arr) == False).sum()"
   ]
  },
  {
   "cell_type": "code",
   "execution_count": 92,
   "id": "19f89435",
   "metadata": {},
   "outputs": [
    {
     "data": {
      "text/plain": [
       "8"
      ]
     },
     "execution_count": 92,
     "metadata": {},
     "output_type": "execute_result"
    }
   ],
   "source": [
    "len(arr[np.isnan(arr) == False])"
   ]
  },
  {
   "cell_type": "markdown",
   "id": "1209b0e5",
   "metadata": {},
   "source": [
    "### Replace the null Values "
   ]
  },
  {
   "cell_type": "code",
   "execution_count": 93,
   "id": "35da92ca",
   "metadata": {},
   "outputs": [
    {
     "data": {
      "text/plain": [
       "array([[10., 20., 30., nan],\n",
       "       [50., nan, 45., 60.],\n",
       "       [nan, nan, 78., 62.]])"
      ]
     },
     "execution_count": 93,
     "metadata": {},
     "output_type": "execute_result"
    }
   ],
   "source": [
    "arr"
   ]
  },
  {
   "cell_type": "markdown",
   "id": "429d4845",
   "metadata": {},
   "source": [
    "### Replace the null values with a zero"
   ]
  },
  {
   "cell_type": "code",
   "execution_count": 94,
   "id": "6487f437",
   "metadata": {},
   "outputs": [],
   "source": [
    "arr[np.isnan(arr)] = 0 # here i am re-assigning the nan- values with a zero"
   ]
  },
  {
   "cell_type": "code",
   "execution_count": 95,
   "id": "0210a679",
   "metadata": {},
   "outputs": [
    {
     "data": {
      "text/plain": [
       "array([[10., 20., 30.,  0.],\n",
       "       [50.,  0., 45., 60.],\n",
       "       [ 0.,  0., 78., 62.]])"
      ]
     },
     "execution_count": 95,
     "metadata": {},
     "output_type": "execute_result"
    }
   ],
   "source": [
    "arr"
   ]
  },
  {
   "cell_type": "markdown",
   "id": "9db13c3e",
   "metadata": {},
   "source": [
    "### Replacing all the nan values with mean "
   ]
  },
  {
   "cell_type": "code",
   "execution_count": 58,
   "id": "6023a4cf",
   "metadata": {
    "scrolled": true
   },
   "outputs": [
    {
     "data": {
      "text/plain": [
       "array([[10., 20., 30., nan],\n",
       "       [50., nan, 45., 60.],\n",
       "       [nan, nan, 78., 62.]])"
      ]
     },
     "execution_count": 58,
     "metadata": {},
     "output_type": "execute_result"
    }
   ],
   "source": [
    "arr = np.array([10,20,30, np.nan, 50, np.nan, 45, 60, np.nan, np.nan, 78, 62]).reshape(3, 4)\n",
    "arr"
   ]
  },
  {
   "cell_type": "code",
   "execution_count": 59,
   "id": "d94a89ed",
   "metadata": {},
   "outputs": [
    {
     "data": {
      "text/plain": [
       "nan"
      ]
     },
     "execution_count": 59,
     "metadata": {},
     "output_type": "execute_result"
    }
   ],
   "source": [
    "arr.mean()"
   ]
  },
  {
   "cell_type": "code",
   "execution_count": 54,
   "id": "30843a4b",
   "metadata": {},
   "outputs": [
    {
     "data": {
      "text/plain": [
       "44.375"
      ]
     },
     "execution_count": 54,
     "metadata": {},
     "output_type": "execute_result"
    }
   ],
   "source": [
    "m = arr[np.isnan(arr) == False].mean()\n",
    "m"
   ]
  },
  {
   "cell_type": "code",
   "execution_count": 55,
   "id": "cf0f906d",
   "metadata": {},
   "outputs": [],
   "source": [
    "arr[np.isnan(arr)] = arr[np.isnan(arr) == False].mean() or arr[np.isnan(arr)] = arr(~np.isnan(arr)).mean()"
   ]
  },
  {
   "cell_type": "code",
   "execution_count": 56,
   "id": "384ec8d6",
   "metadata": {},
   "outputs": [
    {
     "data": {
      "text/plain": [
       "array([[10.   , 20.   , 30.   , 44.375],\n",
       "       [50.   , 44.375, 45.   , 60.   ],\n",
       "       [44.375, 44.375, 78.   , 62.   ]])"
      ]
     },
     "execution_count": 56,
     "metadata": {},
     "output_type": "execute_result"
    }
   ],
   "source": [
    "arr"
   ]
  },
  {
   "cell_type": "markdown",
   "id": "353f157b",
   "metadata": {},
   "source": [
    "### Replace the nan values with median"
   ]
  },
  {
   "cell_type": "code",
   "execution_count": 81,
   "id": "d76c5fd9",
   "metadata": {},
   "outputs": [
    {
     "data": {
      "text/plain": [
       "array([[10., 20., 30., nan],\n",
       "       [50., nan, 45., 60.],\n",
       "       [nan, nan, 78., 62.]])"
      ]
     },
     "execution_count": 81,
     "metadata": {},
     "output_type": "execute_result"
    }
   ],
   "source": [
    "arr"
   ]
  },
  {
   "cell_type": "code",
   "execution_count": 82,
   "id": "2bada1f8",
   "metadata": {},
   "outputs": [],
   "source": [
    "m = arr[np.isnan(arr) == False]"
   ]
  },
  {
   "cell_type": "code",
   "execution_count": 83,
   "id": "b6bb2073",
   "metadata": {},
   "outputs": [
    {
     "data": {
      "text/plain": [
       "47.5"
      ]
     },
     "execution_count": 83,
     "metadata": {},
     "output_type": "execute_result"
    }
   ],
   "source": [
    "np.median(m)"
   ]
  },
  {
   "cell_type": "code",
   "execution_count": 84,
   "id": "61c5167b",
   "metadata": {},
   "outputs": [],
   "source": [
    "arr[np.isnan(arr)] = np.median(m)"
   ]
  },
  {
   "cell_type": "code",
   "execution_count": 85,
   "id": "d4777ab6",
   "metadata": {},
   "outputs": [
    {
     "data": {
      "text/plain": [
       "array([[10. , 20. , 30. , 47.5],\n",
       "       [50. , 47.5, 45. , 60. ],\n",
       "       [47.5, 47.5, 78. , 62. ]])"
      ]
     },
     "execution_count": 85,
     "metadata": {},
     "output_type": "execute_result"
    }
   ],
   "source": [
    "arr"
   ]
  },
  {
   "cell_type": "code",
   "execution_count": null,
   "id": "a50dcc7f",
   "metadata": {},
   "outputs": [],
   "source": [
    "column ---> categorical  ----> mode \n",
    "            numerical column ---> first the normal distribution curve ----> mean\n",
    "                                   if it not following the normal distribution curve ----> median"
   ]
  },
  {
   "cell_type": "markdown",
   "id": "6ffe83d5",
   "metadata": {},
   "source": [
    "### np.argwhere()\n",
    "\n",
    "- It returns an array object that contains the indexes of all the non zero element from the array\n",
    "\n",
    "    Syntax:\n",
    "    \n",
    "        np.argwhere(arr)"
   ]
  },
  {
   "cell_type": "code",
   "execution_count": 98,
   "id": "c0d855c1",
   "metadata": {},
   "outputs": [
    {
     "data": {
      "text/plain": [
       "array([10, 20,  0, 50,  0, 70, 90,  0, 82])"
      ]
     },
     "execution_count": 98,
     "metadata": {},
     "output_type": "execute_result"
    }
   ],
   "source": [
    "arr = np.array([10,20,0,50,0,70,90,0,82])\n",
    "arr"
   ]
  },
  {
   "cell_type": "code",
   "execution_count": 99,
   "id": "baf2c194",
   "metadata": {
    "scrolled": true
   },
   "outputs": [
    {
     "data": {
      "text/plain": [
       "array([[0],\n",
       "       [1],\n",
       "       [3],\n",
       "       [5],\n",
       "       [6],\n",
       "       [8]], dtype=int64)"
      ]
     },
     "execution_count": 99,
     "metadata": {},
     "output_type": "execute_result"
    }
   ],
   "source": [
    "np.argwhere(arr)"
   ]
  },
  {
   "cell_type": "code",
   "execution_count": 101,
   "id": "c630efe0",
   "metadata": {},
   "outputs": [
    {
     "data": {
      "text/plain": [
       "array([[10, 20,  0],\n",
       "       [50,  0, 70],\n",
       "       [90,  0, 82]])"
      ]
     },
     "execution_count": 101,
     "metadata": {},
     "output_type": "execute_result"
    }
   ],
   "source": [
    "arr = np.array([10,20,0,50,0,70,90,0,82]).reshape(3,3)\n",
    "arr"
   ]
  },
  {
   "cell_type": "code",
   "execution_count": 102,
   "id": "d9c480ea",
   "metadata": {},
   "outputs": [
    {
     "data": {
      "text/plain": [
       "array([[0, 0],\n",
       "       [0, 1],\n",
       "       [1, 0],\n",
       "       [1, 2],\n",
       "       [2, 0],\n",
       "       [2, 2]], dtype=int64)"
      ]
     },
     "execution_count": 102,
     "metadata": {},
     "output_type": "execute_result"
    }
   ],
   "source": [
    "np.argwhere(arr)"
   ]
  },
  {
   "cell_type": "code",
   "execution_count": 103,
   "id": "09536271",
   "metadata": {},
   "outputs": [
    {
     "data": {
      "text/plain": [
       "array([ 10, -20,   0, -50,   0,  70,  90,   0,  82])"
      ]
     },
     "execution_count": 103,
     "metadata": {},
     "output_type": "execute_result"
    }
   ],
   "source": [
    "arr = np.array([10,-20,0,-50,0,70,90,0,82])\n",
    "arr"
   ]
  },
  {
   "cell_type": "code",
   "execution_count": 104,
   "id": "9a40c758",
   "metadata": {},
   "outputs": [
    {
     "data": {
      "text/plain": [
       "array([[0],\n",
       "       [2],\n",
       "       [4],\n",
       "       [5],\n",
       "       [6],\n",
       "       [7],\n",
       "       [8]], dtype=int64)"
      ]
     },
     "execution_count": 104,
     "metadata": {},
     "output_type": "execute_result"
    }
   ],
   "source": [
    "np.argwhere(arr>=0)"
   ]
  },
  {
   "cell_type": "code",
   "execution_count": 105,
   "id": "0e4b3b42",
   "metadata": {},
   "outputs": [
    {
     "data": {
      "text/plain": [
       "array([[ 10, -20,   0],\n",
       "       [-50,   0,  70],\n",
       "       [ 90,   0,  82]])"
      ]
     },
     "execution_count": 105,
     "metadata": {},
     "output_type": "execute_result"
    }
   ],
   "source": [
    "arr = np.array([10,-20,0,-50,0,70,90,0,82]).reshape(3,3)\n",
    "arr"
   ]
  },
  {
   "cell_type": "code",
   "execution_count": 106,
   "id": "3cc36131",
   "metadata": {},
   "outputs": [
    {
     "data": {
      "text/plain": [
       "array([[0, 0],\n",
       "       [0, 2],\n",
       "       [1, 1],\n",
       "       [1, 2],\n",
       "       [2, 0],\n",
       "       [2, 1],\n",
       "       [2, 2]], dtype=int64)"
      ]
     },
     "execution_count": 106,
     "metadata": {},
     "output_type": "execute_result"
    }
   ],
   "source": [
    "np.argwhere(arr>=0)"
   ]
  },
  {
   "cell_type": "markdown",
   "id": "056675ac",
   "metadata": {},
   "source": [
    "### np.argmin()\n",
    "\n",
    "- It returns the index of the minimum number\n",
    "- In case of multiple minimum number, it will return the index of the first minimum number\n",
    "- It treats the n-d array as 1-D array"
   ]
  },
  {
   "cell_type": "code",
   "execution_count": 107,
   "id": "6cb43358",
   "metadata": {},
   "outputs": [
    {
     "data": {
      "text/plain": [
       "array([[ 10, -20,   0],\n",
       "       [-50,   0,  70],\n",
       "       [ 90,   0,  82]])"
      ]
     },
     "execution_count": 107,
     "metadata": {},
     "output_type": "execute_result"
    }
   ],
   "source": [
    "arr"
   ]
  },
  {
   "cell_type": "code",
   "execution_count": 108,
   "id": "35d1d881",
   "metadata": {},
   "outputs": [
    {
     "data": {
      "text/plain": [
       "3"
      ]
     },
     "execution_count": 108,
     "metadata": {},
     "output_type": "execute_result"
    }
   ],
   "source": [
    "np.argmin(arr)"
   ]
  },
  {
   "cell_type": "code",
   "execution_count": 109,
   "id": "bf0ee52c",
   "metadata": {},
   "outputs": [
    {
     "data": {
      "text/plain": [
       "array([[10, 20, 30],\n",
       "       [40,  0, 50],\n",
       "       [ 0, 60, 70]])"
      ]
     },
     "execution_count": 109,
     "metadata": {},
     "output_type": "execute_result"
    }
   ],
   "source": [
    "arr = np.array([10,20,30,40,0,50,0, 60, 70]).reshape(3,3)\n",
    "arr"
   ]
  },
  {
   "cell_type": "code",
   "execution_count": 110,
   "id": "57e1ba3c",
   "metadata": {},
   "outputs": [
    {
     "data": {
      "text/plain": [
       "4"
      ]
     },
     "execution_count": 110,
     "metadata": {},
     "output_type": "execute_result"
    }
   ],
   "source": [
    "np.argmin(arr)"
   ]
  },
  {
   "cell_type": "markdown",
   "id": "9b210ba9",
   "metadata": {},
   "source": [
    "### np.argmax()\n",
    "\n",
    "- It returns the index of the maximum number\n",
    "- In case of multiple maximum number, it will return the index of the first maximum number\n",
    "- It treats the n-d array as 1-D array"
   ]
  },
  {
   "cell_type": "code",
   "execution_count": 111,
   "id": "755e91b6",
   "metadata": {},
   "outputs": [
    {
     "data": {
      "text/plain": [
       "array([[10, 20, 30],\n",
       "       [40,  0, 50],\n",
       "       [ 0, 60, 70]])"
      ]
     },
     "execution_count": 111,
     "metadata": {},
     "output_type": "execute_result"
    }
   ],
   "source": [
    "arr "
   ]
  },
  {
   "cell_type": "code",
   "execution_count": null,
   "id": "5a2c5176",
   "metadata": {},
   "outputs": [],
   "source": [
    "np.array([10,20,30,40,0,50,0, 60, 70])"
   ]
  },
  {
   "cell_type": "code",
   "execution_count": 112,
   "id": "b6137dd7",
   "metadata": {},
   "outputs": [
    {
     "data": {
      "text/plain": [
       "8"
      ]
     },
     "execution_count": 112,
     "metadata": {},
     "output_type": "execute_result"
    }
   ],
   "source": [
    "np.argmax(arr)"
   ]
  },
  {
   "cell_type": "markdown",
   "id": "5cc9675a",
   "metadata": {},
   "source": [
    "### np.where \n",
    "\n",
    "#### Case - 2\n",
    "\n",
    "    - np.where(condition, x, y)\n",
    "    - If the condition is True, then x is the result, otherwise y is the result"
   ]
  },
  {
   "cell_type": "code",
   "execution_count": 113,
   "id": "bd2d3873",
   "metadata": {},
   "outputs": [
    {
     "data": {
      "text/plain": [
       "array([[73, 65, 74, 80],\n",
       "       [45, 75, 12, 74],\n",
       "       [32, 87, 74, 39]])"
      ]
     },
     "execution_count": 113,
     "metadata": {},
     "output_type": "execute_result"
    }
   ],
   "source": [
    "arr = np.array([73,65,74,80,45,75,12,74,32,87,74,39]).reshape(3,4)\n",
    "arr"
   ]
  },
  {
   "cell_type": "markdown",
   "id": "7d3354c8",
   "metadata": {},
   "source": [
    "##### All the numbers greater than 60 should be 1 else 0 "
   ]
  },
  {
   "cell_type": "code",
   "execution_count": 114,
   "id": "2856a15f",
   "metadata": {},
   "outputs": [
    {
     "data": {
      "text/plain": [
       "array([[1, 1, 1, 1],\n",
       "       [0, 1, 0, 1],\n",
       "       [0, 1, 1, 0]])"
      ]
     },
     "execution_count": 114,
     "metadata": {},
     "output_type": "execute_result"
    }
   ],
   "source": [
    "np.where(arr>60, 1, 0)"
   ]
  },
  {
   "cell_type": "markdown",
   "id": "856415f1",
   "metadata": {},
   "source": [
    "#### Case-3\n",
    "\n",
    "    - np.where(condition, x, arr)\n",
    "    - If the condition is True, then x is the result, otherwise the value remains the same "
   ]
  },
  {
   "cell_type": "code",
   "execution_count": 115,
   "id": "239b21f5",
   "metadata": {},
   "outputs": [
    {
     "data": {
      "text/plain": [
       "array([[73, 65, 74, 80],\n",
       "       [45, 75, 12, 74],\n",
       "       [32, 87, 74, 39]])"
      ]
     },
     "execution_count": 115,
     "metadata": {},
     "output_type": "execute_result"
    }
   ],
   "source": [
    "arr"
   ]
  },
  {
   "cell_type": "markdown",
   "id": "5b3ee3a1",
   "metadata": {},
   "source": [
    "##### All the numbers greater than 60 should be 1 and all the number less than 60 should remain as it is "
   ]
  },
  {
   "cell_type": "code",
   "execution_count": 116,
   "id": "681a9a63",
   "metadata": {},
   "outputs": [
    {
     "data": {
      "text/plain": [
       "array([[ 1,  1,  1,  1],\n",
       "       [45,  1, 12,  1],\n",
       "       [32,  1,  1, 39]])"
      ]
     },
     "execution_count": 116,
     "metadata": {},
     "output_type": "execute_result"
    }
   ],
   "source": [
    "np.where(arr>60, 1, arr)"
   ]
  },
  {
   "cell_type": "markdown",
   "id": "fb9754b9",
   "metadata": {},
   "source": [
    "### Capping the value"
   ]
  },
  {
   "cell_type": "code",
   "execution_count": 117,
   "id": "203d2170",
   "metadata": {},
   "outputs": [
    {
     "data": {
      "text/plain": [
       "array([[19, 25, 74, 38, 99],\n",
       "       [39, 18, 83, 10, 50],\n",
       "       [46, 26, 21, 64, 98]])"
      ]
     },
     "execution_count": 117,
     "metadata": {},
     "output_type": "execute_result"
    }
   ],
   "source": [
    "np.random.seed(10)\n",
    "arr = np.random.randint(10,100,15).reshape(3,5)\n",
    "arr"
   ]
  },
  {
   "cell_type": "markdown",
   "id": "0393c54d",
   "metadata": {},
   "source": [
    "cap the value of the above the above array between the range 40 -70\n",
    "\n",
    "any value less than 40-->40\n",
    "any value greater than 70 --->70"
   ]
  },
  {
   "cell_type": "code",
   "execution_count": 120,
   "id": "43750938",
   "metadata": {},
   "outputs": [
    {
     "data": {
      "text/plain": [
       "array([[40, 40, 74, 40, 99],\n",
       "       [40, 40, 83, 40, 50],\n",
       "       [46, 40, 40, 64, 98]])"
      ]
     },
     "execution_count": 120,
     "metadata": {},
     "output_type": "execute_result"
    }
   ],
   "source": [
    "arr2 = np.where(arr<40, 40, arr)\n",
    "arr2"
   ]
  },
  {
   "cell_type": "code",
   "execution_count": 121,
   "id": "cfad2558",
   "metadata": {},
   "outputs": [],
   "source": [
    "arr3 = np.where(arr2>70, 70, arr2)"
   ]
  },
  {
   "cell_type": "code",
   "execution_count": 122,
   "id": "65c4d14a",
   "metadata": {},
   "outputs": [
    {
     "data": {
      "text/plain": [
       "array([[40, 40, 70, 40, 70],\n",
       "       [40, 40, 70, 40, 50],\n",
       "       [46, 40, 40, 64, 70]])"
      ]
     },
     "execution_count": 122,
     "metadata": {},
     "output_type": "execute_result"
    }
   ],
   "source": [
    "arr3"
   ]
  },
  {
   "cell_type": "code",
   "execution_count": 123,
   "id": "bfb14fc1",
   "metadata": {},
   "outputs": [
    {
     "data": {
      "text/plain": [
       "array([[85, 40, 13, 42, 71],\n",
       "       [95, 45, 78, 25, 75],\n",
       "       [24, 63, 67, 82, 97]])"
      ]
     },
     "execution_count": 123,
     "metadata": {},
     "output_type": "execute_result"
    }
   ],
   "source": [
    "np.random.seed(45)\n",
    "arr = np.random.randint(10,100,15).reshape(3,5)\n",
    "arr"
   ]
  },
  {
   "cell_type": "code",
   "execution_count": 124,
   "id": "d195909e",
   "metadata": {},
   "outputs": [
    {
     "data": {
      "text/plain": [
       "array([[70, 40, 40, 42, 70],\n",
       "       [70, 45, 70, 40, 70],\n",
       "       [40, 63, 67, 70, 70]])"
      ]
     },
     "execution_count": 124,
     "metadata": {},
     "output_type": "execute_result"
    }
   ],
   "source": [
    "arr2 = np.where(arr>70, 70, np.where(arr<40, 40, arr))\n",
    "arr2"
   ]
  },
  {
   "cell_type": "code",
   "execution_count": 125,
   "id": "c5abfd7e",
   "metadata": {},
   "outputs": [],
   "source": [
    "import seaborn as sns"
   ]
  },
  {
   "cell_type": "code",
   "execution_count": 126,
   "id": "91384230",
   "metadata": {},
   "outputs": [
    {
     "data": {
      "text/html": [
       "<div>\n",
       "<style scoped>\n",
       "    .dataframe tbody tr th:only-of-type {\n",
       "        vertical-align: middle;\n",
       "    }\n",
       "\n",
       "    .dataframe tbody tr th {\n",
       "        vertical-align: top;\n",
       "    }\n",
       "\n",
       "    .dataframe thead th {\n",
       "        text-align: right;\n",
       "    }\n",
       "</style>\n",
       "<table border=\"1\" class=\"dataframe\">\n",
       "  <thead>\n",
       "    <tr style=\"text-align: right;\">\n",
       "      <th></th>\n",
       "      <th>survived</th>\n",
       "      <th>pclass</th>\n",
       "      <th>sex</th>\n",
       "      <th>age</th>\n",
       "      <th>sibsp</th>\n",
       "      <th>parch</th>\n",
       "      <th>fare</th>\n",
       "      <th>embarked</th>\n",
       "      <th>class</th>\n",
       "      <th>who</th>\n",
       "      <th>adult_male</th>\n",
       "      <th>deck</th>\n",
       "      <th>embark_town</th>\n",
       "      <th>alive</th>\n",
       "      <th>alone</th>\n",
       "    </tr>\n",
       "  </thead>\n",
       "  <tbody>\n",
       "    <tr>\n",
       "      <th>0</th>\n",
       "      <td>0</td>\n",
       "      <td>3</td>\n",
       "      <td>male</td>\n",
       "      <td>22.0</td>\n",
       "      <td>1</td>\n",
       "      <td>0</td>\n",
       "      <td>7.2500</td>\n",
       "      <td>S</td>\n",
       "      <td>Third</td>\n",
       "      <td>man</td>\n",
       "      <td>True</td>\n",
       "      <td>NaN</td>\n",
       "      <td>Southampton</td>\n",
       "      <td>no</td>\n",
       "      <td>False</td>\n",
       "    </tr>\n",
       "    <tr>\n",
       "      <th>1</th>\n",
       "      <td>1</td>\n",
       "      <td>1</td>\n",
       "      <td>female</td>\n",
       "      <td>38.0</td>\n",
       "      <td>1</td>\n",
       "      <td>0</td>\n",
       "      <td>71.2833</td>\n",
       "      <td>C</td>\n",
       "      <td>First</td>\n",
       "      <td>woman</td>\n",
       "      <td>False</td>\n",
       "      <td>C</td>\n",
       "      <td>Cherbourg</td>\n",
       "      <td>yes</td>\n",
       "      <td>False</td>\n",
       "    </tr>\n",
       "    <tr>\n",
       "      <th>2</th>\n",
       "      <td>1</td>\n",
       "      <td>3</td>\n",
       "      <td>female</td>\n",
       "      <td>26.0</td>\n",
       "      <td>0</td>\n",
       "      <td>0</td>\n",
       "      <td>7.9250</td>\n",
       "      <td>S</td>\n",
       "      <td>Third</td>\n",
       "      <td>woman</td>\n",
       "      <td>False</td>\n",
       "      <td>NaN</td>\n",
       "      <td>Southampton</td>\n",
       "      <td>yes</td>\n",
       "      <td>True</td>\n",
       "    </tr>\n",
       "    <tr>\n",
       "      <th>3</th>\n",
       "      <td>1</td>\n",
       "      <td>1</td>\n",
       "      <td>female</td>\n",
       "      <td>35.0</td>\n",
       "      <td>1</td>\n",
       "      <td>0</td>\n",
       "      <td>53.1000</td>\n",
       "      <td>S</td>\n",
       "      <td>First</td>\n",
       "      <td>woman</td>\n",
       "      <td>False</td>\n",
       "      <td>C</td>\n",
       "      <td>Southampton</td>\n",
       "      <td>yes</td>\n",
       "      <td>False</td>\n",
       "    </tr>\n",
       "    <tr>\n",
       "      <th>4</th>\n",
       "      <td>0</td>\n",
       "      <td>3</td>\n",
       "      <td>male</td>\n",
       "      <td>35.0</td>\n",
       "      <td>0</td>\n",
       "      <td>0</td>\n",
       "      <td>8.0500</td>\n",
       "      <td>S</td>\n",
       "      <td>Third</td>\n",
       "      <td>man</td>\n",
       "      <td>True</td>\n",
       "      <td>NaN</td>\n",
       "      <td>Southampton</td>\n",
       "      <td>no</td>\n",
       "      <td>True</td>\n",
       "    </tr>\n",
       "  </tbody>\n",
       "</table>\n",
       "</div>"
      ],
      "text/plain": [
       "   survived  pclass     sex   age  sibsp  parch     fare embarked  class  \\\n",
       "0         0       3    male  22.0      1      0   7.2500        S  Third   \n",
       "1         1       1  female  38.0      1      0  71.2833        C  First   \n",
       "2         1       3  female  26.0      0      0   7.9250        S  Third   \n",
       "3         1       1  female  35.0      1      0  53.1000        S  First   \n",
       "4         0       3    male  35.0      0      0   8.0500        S  Third   \n",
       "\n",
       "     who  adult_male deck  embark_town alive  alone  \n",
       "0    man        True  NaN  Southampton    no  False  \n",
       "1  woman       False    C    Cherbourg   yes  False  \n",
       "2  woman       False  NaN  Southampton   yes   True  \n",
       "3  woman       False    C  Southampton   yes  False  \n",
       "4    man        True  NaN  Southampton    no   True  "
      ]
     },
     "execution_count": 126,
     "metadata": {},
     "output_type": "execute_result"
    }
   ],
   "source": [
    "data = sns.load_dataset('titanic')\n",
    "data.head()"
   ]
  },
  {
   "cell_type": "code",
   "execution_count": 128,
   "id": "cd52cc54",
   "metadata": {},
   "outputs": [
    {
     "data": {
      "text/plain": [
       "(891, 15)"
      ]
     },
     "execution_count": 128,
     "metadata": {},
     "output_type": "execute_result"
    }
   ],
   "source": [
    "data.shape"
   ]
  },
  {
   "cell_type": "code",
   "execution_count": 129,
   "id": "c170fb16",
   "metadata": {},
   "outputs": [
    {
     "data": {
      "text/plain": [
       "<Axes: ylabel='age'>"
      ]
     },
     "execution_count": 129,
     "metadata": {},
     "output_type": "execute_result"
    },
    {
     "data": {
      "image/png": "[encoded data removed]",
      "text/plain": [
       "<Figure size 640x480 with 1 Axes>"
      ]
     },
     "metadata": {},
     "output_type": "display_data"
    }
   ],
   "source": [
    "sns.boxplot(y = 'age', data = data)"
   ]
  },
  {
   "cell_type": "markdown",
   "id": "8b4d32c5",
   "metadata": {},
   "source": [
    "q3+1.5*(q3-q1) ---> upper bound\n",
    "q1-1.5*(q3-q1) ---> lower bound"
   ]
  },
  {
   "cell_type": "code",
   "execution_count": 132,
   "id": "4da69a6f",
   "metadata": {},
   "outputs": [
    {
     "data": {
      "text/html": [
       "<div>\n",
       "<style scoped>\n",
       "    .dataframe tbody tr th:only-of-type {\n",
       "        vertical-align: middle;\n",
       "    }\n",
       "\n",
       "    .dataframe tbody tr th {\n",
       "        vertical-align: top;\n",
       "    }\n",
       "\n",
       "    .dataframe thead th {\n",
       "        text-align: right;\n",
       "    }\n",
       "</style>\n",
       "<table border=\"1\" class=\"dataframe\">\n",
       "  <thead>\n",
       "    <tr style=\"text-align: right;\">\n",
       "      <th></th>\n",
       "      <th>survived</th>\n",
       "      <th>pclass</th>\n",
       "      <th>sex</th>\n",
       "      <th>age</th>\n",
       "      <th>sibsp</th>\n",
       "      <th>parch</th>\n",
       "      <th>fare</th>\n",
       "      <th>embarked</th>\n",
       "      <th>class</th>\n",
       "      <th>who</th>\n",
       "      <th>adult_male</th>\n",
       "      <th>deck</th>\n",
       "      <th>embark_town</th>\n",
       "      <th>alive</th>\n",
       "      <th>alone</th>\n",
       "    </tr>\n",
       "  </thead>\n",
       "  <tbody>\n",
       "    <tr>\n",
       "      <th>0</th>\n",
       "      <td>0</td>\n",
       "      <td>3</td>\n",
       "      <td>male</td>\n",
       "      <td>22.0</td>\n",
       "      <td>1</td>\n",
       "      <td>0</td>\n",
       "      <td>7.2500</td>\n",
       "      <td>S</td>\n",
       "      <td>Third</td>\n",
       "      <td>man</td>\n",
       "      <td>True</td>\n",
       "      <td>NaN</td>\n",
       "      <td>Southampton</td>\n",
       "      <td>no</td>\n",
       "      <td>False</td>\n",
       "    </tr>\n",
       "    <tr>\n",
       "      <th>1</th>\n",
       "      <td>1</td>\n",
       "      <td>1</td>\n",
       "      <td>female</td>\n",
       "      <td>38.0</td>\n",
       "      <td>1</td>\n",
       "      <td>0</td>\n",
       "      <td>71.2833</td>\n",
       "      <td>C</td>\n",
       "      <td>First</td>\n",
       "      <td>woman</td>\n",
       "      <td>False</td>\n",
       "      <td>C</td>\n",
       "      <td>Cherbourg</td>\n",
       "      <td>yes</td>\n",
       "      <td>False</td>\n",
       "    </tr>\n",
       "    <tr>\n",
       "      <th>2</th>\n",
       "      <td>1</td>\n",
       "      <td>3</td>\n",
       "      <td>female</td>\n",
       "      <td>26.0</td>\n",
       "      <td>0</td>\n",
       "      <td>0</td>\n",
       "      <td>7.9250</td>\n",
       "      <td>S</td>\n",
       "      <td>Third</td>\n",
       "      <td>woman</td>\n",
       "      <td>False</td>\n",
       "      <td>NaN</td>\n",
       "      <td>Southampton</td>\n",
       "      <td>yes</td>\n",
       "      <td>True</td>\n",
       "    </tr>\n",
       "    <tr>\n",
       "      <th>3</th>\n",
       "      <td>1</td>\n",
       "      <td>1</td>\n",
       "      <td>female</td>\n",
       "      <td>35.0</td>\n",
       "      <td>1</td>\n",
       "      <td>0</td>\n",
       "      <td>53.1000</td>\n",
       "      <td>S</td>\n",
       "      <td>First</td>\n",
       "      <td>woman</td>\n",
       "      <td>False</td>\n",
       "      <td>C</td>\n",
       "      <td>Southampton</td>\n",
       "      <td>yes</td>\n",
       "      <td>False</td>\n",
       "    </tr>\n",
       "    <tr>\n",
       "      <th>4</th>\n",
       "      <td>0</td>\n",
       "      <td>3</td>\n",
       "      <td>male</td>\n",
       "      <td>35.0</td>\n",
       "      <td>0</td>\n",
       "      <td>0</td>\n",
       "      <td>8.0500</td>\n",
       "      <td>S</td>\n",
       "      <td>Third</td>\n",
       "      <td>man</td>\n",
       "      <td>True</td>\n",
       "      <td>NaN</td>\n",
       "      <td>Southampton</td>\n",
       "      <td>no</td>\n",
       "      <td>True</td>\n",
       "    </tr>\n",
       "  </tbody>\n",
       "</table>\n",
       "</div>"
      ],
      "text/plain": [
       "   survived  pclass     sex   age  sibsp  parch     fare embarked  class  \\\n",
       "0         0       3    male  22.0      1      0   7.2500        S  Third   \n",
       "1         1       1  female  38.0      1      0  71.2833        C  First   \n",
       "2         1       3  female  26.0      0      0   7.9250        S  Third   \n",
       "3         1       1  female  35.0      1      0  53.1000        S  First   \n",
       "4         0       3    male  35.0      0      0   8.0500        S  Third   \n",
       "\n",
       "     who  adult_male deck  embark_town alive  alone  \n",
       "0    man        True  NaN  Southampton    no  False  \n",
       "1  woman       False    C    Cherbourg   yes  False  \n",
       "2  woman       False  NaN  Southampton   yes   True  \n",
       "3  woman       False    C  Southampton   yes  False  \n",
       "4    man        True  NaN  Southampton    no   True  "
      ]
     },
     "execution_count": 132,
     "metadata": {},
     "output_type": "execute_result"
    }
   ],
   "source": [
    "data.head()"
   ]
  },
  {
   "cell_type": "code",
   "execution_count": 133,
   "id": "eeceb3fa",
   "metadata": {},
   "outputs": [
    {
     "data": {
      "text/html": [
       "<div>\n",
       "<style scoped>\n",
       "    .dataframe tbody tr th:only-of-type {\n",
       "        vertical-align: middle;\n",
       "    }\n",
       "\n",
       "    .dataframe tbody tr th {\n",
       "        vertical-align: top;\n",
       "    }\n",
       "\n",
       "    .dataframe thead th {\n",
       "        text-align: right;\n",
       "    }\n",
       "</style>\n",
       "<table border=\"1\" class=\"dataframe\">\n",
       "  <thead>\n",
       "    <tr style=\"text-align: right;\">\n",
       "      <th></th>\n",
       "      <th>survived</th>\n",
       "      <th>pclass</th>\n",
       "      <th>age</th>\n",
       "      <th>sibsp</th>\n",
       "      <th>parch</th>\n",
       "      <th>fare</th>\n",
       "    </tr>\n",
       "  </thead>\n",
       "  <tbody>\n",
       "    <tr>\n",
       "      <th>count</th>\n",
       "      <td>891.000000</td>\n",
       "      <td>891.000000</td>\n",
       "      <td>714.000000</td>\n",
       "      <td>891.000000</td>\n",
       "      <td>891.000000</td>\n",
       "      <td>891.000000</td>\n",
       "    </tr>\n",
       "    <tr>\n",
       "      <th>mean</th>\n",
       "      <td>0.383838</td>\n",
       "      <td>2.308642</td>\n",
       "      <td>29.699118</td>\n",
       "      <td>0.523008</td>\n",
       "      <td>0.381594</td>\n",
       "      <td>32.204208</td>\n",
       "    </tr>\n",
       "    <tr>\n",
       "      <th>std</th>\n",
       "      <td>0.486592</td>\n",
       "      <td>0.836071</td>\n",
       "      <td>14.526497</td>\n",
       "      <td>1.102743</td>\n",
       "      <td>0.806057</td>\n",
       "      <td>49.693429</td>\n",
       "    </tr>\n",
       "    <tr>\n",
       "      <th>min</th>\n",
       "      <td>0.000000</td>\n",
       "      <td>1.000000</td>\n",
       "      <td>0.420000</td>\n",
       "      <td>0.000000</td>\n",
       "      <td>0.000000</td>\n",
       "      <td>0.000000</td>\n",
       "    </tr>\n",
       "    <tr>\n",
       "      <th>25%</th>\n",
       "      <td>0.000000</td>\n",
       "      <td>2.000000</td>\n",
       "      <td>20.125000</td>\n",
       "      <td>0.000000</td>\n",
       "      <td>0.000000</td>\n",
       "      <td>7.910400</td>\n",
       "    </tr>\n",
       "    <tr>\n",
       "      <th>50%</th>\n",
       "      <td>0.000000</td>\n",
       "      <td>3.000000</td>\n",
       "      <td>28.000000</td>\n",
       "      <td>0.000000</td>\n",
       "      <td>0.000000</td>\n",
       "      <td>14.454200</td>\n",
       "    </tr>\n",
       "    <tr>\n",
       "      <th>75%</th>\n",
       "      <td>1.000000</td>\n",
       "      <td>3.000000</td>\n",
       "      <td>38.000000</td>\n",
       "      <td>1.000000</td>\n",
       "      <td>0.000000</td>\n",
       "      <td>31.000000</td>\n",
       "    </tr>\n",
       "    <tr>\n",
       "      <th>max</th>\n",
       "      <td>1.000000</td>\n",
       "      <td>3.000000</td>\n",
       "      <td>80.000000</td>\n",
       "      <td>8.000000</td>\n",
       "      <td>6.000000</td>\n",
       "      <td>512.329200</td>\n",
       "    </tr>\n",
       "  </tbody>\n",
       "</table>\n",
       "</div>"
      ],
      "text/plain": [
       "         survived      pclass         age       sibsp       parch        fare\n",
       "count  891.000000  891.000000  714.000000  891.000000  891.000000  891.000000\n",
       "mean     0.383838    2.308642   29.699118    0.523008    0.381594   32.204208\n",
       "std      0.486592    0.836071   14.526497    1.102743    0.806057   49.693429\n",
       "min      0.000000    1.000000    0.420000    0.000000    0.000000    0.000000\n",
       "25%      0.000000    2.000000   20.125000    0.000000    0.000000    7.910400\n",
       "50%      0.000000    3.000000   28.000000    0.000000    0.000000   14.454200\n",
       "75%      1.000000    3.000000   38.000000    1.000000    0.000000   31.000000\n",
       "max      1.000000    3.000000   80.000000    8.000000    6.000000  512.329200"
      ]
     },
     "execution_count": 133,
     "metadata": {},
     "output_type": "execute_result"
    }
   ],
   "source": [
    "data.describe()"
   ]
  },
  {
   "cell_type": "code",
   "execution_count": 134,
   "id": "af4703bf",
   "metadata": {},
   "outputs": [
    {
     "data": {
      "text/plain": [
       "64.8125"
      ]
     },
     "execution_count": 134,
     "metadata": {},
     "output_type": "execute_result"
    }
   ],
   "source": [
    "38+1.5*(38-20.125)"
   ]
  },
  {
   "cell_type": "code",
   "execution_count": 135,
   "id": "93993cd6",
   "metadata": {},
   "outputs": [
    {
     "data": {
      "text/plain": [
       "-6.6875"
      ]
     },
     "execution_count": 135,
     "metadata": {},
     "output_type": "execute_result"
    }
   ],
   "source": [
    "20.125-1.5*(38-20.125)"
   ]
  },
  {
   "cell_type": "code",
   "execution_count": 136,
   "id": "430b6bd2",
   "metadata": {},
   "outputs": [
    {
     "data": {
      "text/html": [
       "<div>\n",
       "<style scoped>\n",
       "    .dataframe tbody tr th:only-of-type {\n",
       "        vertical-align: middle;\n",
       "    }\n",
       "\n",
       "    .dataframe tbody tr th {\n",
       "        vertical-align: top;\n",
       "    }\n",
       "\n",
       "    .dataframe thead th {\n",
       "        text-align: right;\n",
       "    }\n",
       "</style>\n",
       "<table border=\"1\" class=\"dataframe\">\n",
       "  <thead>\n",
       "    <tr style=\"text-align: right;\">\n",
       "      <th></th>\n",
       "      <th>survived</th>\n",
       "      <th>pclass</th>\n",
       "      <th>sex</th>\n",
       "      <th>age</th>\n",
       "      <th>sibsp</th>\n",
       "      <th>parch</th>\n",
       "      <th>fare</th>\n",
       "      <th>embarked</th>\n",
       "      <th>class</th>\n",
       "      <th>who</th>\n",
       "      <th>adult_male</th>\n",
       "      <th>deck</th>\n",
       "      <th>embark_town</th>\n",
       "      <th>alive</th>\n",
       "      <th>alone</th>\n",
       "      <th>New_age</th>\n",
       "    </tr>\n",
       "  </thead>\n",
       "  <tbody>\n",
       "    <tr>\n",
       "      <th>0</th>\n",
       "      <td>0</td>\n",
       "      <td>3</td>\n",
       "      <td>male</td>\n",
       "      <td>22.0</td>\n",
       "      <td>1</td>\n",
       "      <td>0</td>\n",
       "      <td>7.2500</td>\n",
       "      <td>S</td>\n",
       "      <td>Third</td>\n",
       "      <td>man</td>\n",
       "      <td>True</td>\n",
       "      <td>NaN</td>\n",
       "      <td>Southampton</td>\n",
       "      <td>no</td>\n",
       "      <td>False</td>\n",
       "      <td>22.0</td>\n",
       "    </tr>\n",
       "    <tr>\n",
       "      <th>1</th>\n",
       "      <td>1</td>\n",
       "      <td>1</td>\n",
       "      <td>female</td>\n",
       "      <td>38.0</td>\n",
       "      <td>1</td>\n",
       "      <td>0</td>\n",
       "      <td>71.2833</td>\n",
       "      <td>C</td>\n",
       "      <td>First</td>\n",
       "      <td>woman</td>\n",
       "      <td>False</td>\n",
       "      <td>C</td>\n",
       "      <td>Cherbourg</td>\n",
       "      <td>yes</td>\n",
       "      <td>False</td>\n",
       "      <td>38.0</td>\n",
       "    </tr>\n",
       "    <tr>\n",
       "      <th>2</th>\n",
       "      <td>1</td>\n",
       "      <td>3</td>\n",
       "      <td>female</td>\n",
       "      <td>26.0</td>\n",
       "      <td>0</td>\n",
       "      <td>0</td>\n",
       "      <td>7.9250</td>\n",
       "      <td>S</td>\n",
       "      <td>Third</td>\n",
       "      <td>woman</td>\n",
       "      <td>False</td>\n",
       "      <td>NaN</td>\n",
       "      <td>Southampton</td>\n",
       "      <td>yes</td>\n",
       "      <td>True</td>\n",
       "      <td>26.0</td>\n",
       "    </tr>\n",
       "    <tr>\n",
       "      <th>3</th>\n",
       "      <td>1</td>\n",
       "      <td>1</td>\n",
       "      <td>female</td>\n",
       "      <td>35.0</td>\n",
       "      <td>1</td>\n",
       "      <td>0</td>\n",
       "      <td>53.1000</td>\n",
       "      <td>S</td>\n",
       "      <td>First</td>\n",
       "      <td>woman</td>\n",
       "      <td>False</td>\n",
       "      <td>C</td>\n",
       "      <td>Southampton</td>\n",
       "      <td>yes</td>\n",
       "      <td>False</td>\n",
       "      <td>35.0</td>\n",
       "    </tr>\n",
       "    <tr>\n",
       "      <th>4</th>\n",
       "      <td>0</td>\n",
       "      <td>3</td>\n",
       "      <td>male</td>\n",
       "      <td>35.0</td>\n",
       "      <td>0</td>\n",
       "      <td>0</td>\n",
       "      <td>8.0500</td>\n",
       "      <td>S</td>\n",
       "      <td>Third</td>\n",
       "      <td>man</td>\n",
       "      <td>True</td>\n",
       "      <td>NaN</td>\n",
       "      <td>Southampton</td>\n",
       "      <td>no</td>\n",
       "      <td>True</td>\n",
       "      <td>35.0</td>\n",
       "    </tr>\n",
       "  </tbody>\n",
       "</table>\n",
       "</div>"
      ],
      "text/plain": [
       "   survived  pclass     sex   age  sibsp  parch     fare embarked  class  \\\n",
       "0         0       3    male  22.0      1      0   7.2500        S  Third   \n",
       "1         1       1  female  38.0      1      0  71.2833        C  First   \n",
       "2         1       3  female  26.0      0      0   7.9250        S  Third   \n",
       "3         1       1  female  35.0      1      0  53.1000        S  First   \n",
       "4         0       3    male  35.0      0      0   8.0500        S  Third   \n",
       "\n",
       "     who  adult_male deck  embark_town alive  alone  New_age  \n",
       "0    man        True  NaN  Southampton    no  False     22.0  \n",
       "1  woman       False    C    Cherbourg   yes  False     38.0  \n",
       "2  woman       False  NaN  Southampton   yes   True     26.0  \n",
       "3  woman       False    C  Southampton   yes  False     35.0  \n",
       "4    man        True  NaN  Southampton    no   True     35.0  "
      ]
     },
     "execution_count": 136,
     "metadata": {},
     "output_type": "execute_result"
    }
   ],
   "source": [
    "data['New_age'] = np.where(data.age>65, 65, (np.where(data.age<0, 0, data.age)))\n",
    "data.head()"
   ]
  },
  {
   "cell_type": "code",
   "execution_count": 137,
   "id": "be2f0f0f",
   "metadata": {},
   "outputs": [
    {
     "data": {
      "text/plain": [
       "<Axes: ylabel='New_age'>"
      ]
     },
     "execution_count": 137,
     "metadata": {},
     "output_type": "execute_result"
    },
    {
     "data": {
      "image/png": "[encoded data removed]",
      "text/plain": [
       "<Figure size 640x480 with 1 Axes>"
      ]
     },
     "metadata": {},
     "output_type": "display_data"
    }
   ],
   "source": [
    "sns.boxplot(y = 'New_age', data = data)"
   ]
  },
  {
   "cell_type": "markdown",
   "id": "f8d02105",
   "metadata": {},
   "source": [
    "### np.clip()\n",
    "\n",
    "- It will cap the value between a range\n",
    "\n",
    "        Syntax:\n",
    "                \n",
    "                np.clip(arr, lower_limit, upper_limit)"
   ]
  },
  {
   "cell_type": "code",
   "execution_count": 138,
   "id": "8e1cdb32",
   "metadata": {},
   "outputs": [
    {
     "data": {
      "text/plain": [
       "array([[85, 40, 13, 42, 71],\n",
       "       [95, 45, 78, 25, 75],\n",
       "       [24, 63, 67, 82, 97]])"
      ]
     },
     "execution_count": 138,
     "metadata": {},
     "output_type": "execute_result"
    }
   ],
   "source": [
    "arr"
   ]
  },
  {
   "cell_type": "code",
   "execution_count": 139,
   "id": "287d081f",
   "metadata": {},
   "outputs": [
    {
     "data": {
      "text/plain": [
       "array([[70, 40, 40, 42, 70],\n",
       "       [70, 45, 70, 40, 70],\n",
       "       [40, 63, 67, 70, 70]])"
      ]
     },
     "execution_count": 139,
     "metadata": {},
     "output_type": "execute_result"
    }
   ],
   "source": [
    "np.clip(arr, 40,70)"
   ]
  },
  {
   "cell_type": "code",
   "execution_count": 140,
   "id": "15f765ff",
   "metadata": {},
   "outputs": [
    {
     "data": {
      "text/plain": [
       "array([[85, 40, 20, 42, 71],\n",
       "       [85, 45, 78, 25, 75],\n",
       "       [24, 63, 67, 82, 85]])"
      ]
     },
     "execution_count": 140,
     "metadata": {},
     "output_type": "execute_result"
    }
   ],
   "source": [
    "np.clip(arr, 20,85)"
   ]
  },
  {
   "cell_type": "code",
   "execution_count": 144,
   "id": "98c93b00",
   "metadata": {},
   "outputs": [
    {
     "ename": "SyntaxError",
     "evalue": "invalid syntax (2909087982.py, line 1)",
     "output_type": "error",
     "traceback": [
      "\u001b[1;36m  Cell \u001b[1;32mIn[144], line 1\u001b[1;36m\u001b[0m\n\u001b[1;33m    help(assert(x>0))\u001b[0m\n\u001b[1;37m         ^\u001b[0m\n\u001b[1;31mSyntaxError\u001b[0m\u001b[1;31m:\u001b[0m invalid syntax\n"
     ]
    }
   ],
   "source": []
  },
  {
   "cell_type": "code",
   "execution_count": null,
   "id": "b0cffb2f",
   "metadata": {},
   "outputs": [],
   "source": []
  }
 ],
 "metadata": {
  "kernelspec": {
   "display_name": "Python 3 (ipykernel)",
   "language": "python",
   "name": "python3"
  },
  "language_info": {
   "codemirror_mode": {
    "name": "ipython",
    "version": 3
   },
   "file_extension": ".py",
   "mimetype": "text/x-python",
   "name": "python",
   "nbconvert_exporter": "python",
   "pygments_lexer": "ipython3",
   "version": "3.11.5"
  }
 },
 "nbformat": 4,
 "nbformat_minor": 5
}
